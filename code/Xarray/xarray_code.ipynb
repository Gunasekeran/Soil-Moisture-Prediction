{
 "cells": [
  {
   "cell_type": "code",
   "execution_count": null,
   "id": "a2924a16",
   "metadata": {},
   "outputs": [],
   "source": [
    "import warnings\n",
    "warnings.filterwarnings('ignore')\n",
    "import numpy as np\n",
    "import pandas as pd\n",
    "import xarray as xr\n",
    "import matplotlib as plot"
   ]
  },
  {
   "cell_type": "code",
   "execution_count": null,
   "id": "f8f53112",
   "metadata": {},
   "outputs": [],
   "source": [
    "import gzip\n",
    "import pathlib\n",
    "import shutil\n",
    "import requests\n",
    "def download_data(url, data_dir=\"data\", unarchive=False, clobber=False):\n",
    "    data_dir = pathlib.Path(data_dir)\n",
    "    data_dir.mkdir(parents=True, exist_ok=True)\n",
    "    local_filename = data_dir / url.split('/')[-1]\n",
    "    if (local_filename.exists() and clobber) or not local_filename.exists():\n",
    "        with requests.get(url, stream=True) as rstream:\n",
    "            with local_filename.open(\"wb\") as f:\n",
    "                shutil.copyfileobj(rstream.raw, f)\n",
    "    if unarchive:\n",
    "        local_filename_unarchived = data_dir / local_filename.stem\n",
    "        if (\n",
    "            local_filename_unarchived.exists() and clobber\n",
    "        ) and not local_filename_unarchived.exists():\n",
    "            with gzip.open(local_filename, \"rb\") as fin:\n",
    "                with local_filename_unarchived.open(\"wb\") as fout:\n",
    "                    shutil.copyfileobj(fin, fout)\n",
    "        return str(local_filename_unarchived)\n",
    "    return local_filename"
   ]
  },
  {
   "cell_type": "code",
   "execution_count": null,
   "id": "c4698e9d",
   "metadata": {},
   "outputs": [],
   "source": [
    "urls = [\n",
    "    (\"http://download.ecmwf.int/test-data/cfgrib/era5-levels-members.grib\", False),\n",
    "    (\"https://psl.noaa.gov/thredds/fileServer/Datasets/noaa.oisst.v2/sst.mnmean.nc\", False),\n",
    "    (\n",
    "        \"http://esgf-data1.llnl.gov/thredds/fileServer/css03_data/CMIP6/CMIP/NCAR/CESM2/historical/r11i1p1f1/Amon/tas/gn/v20190514/tas_Amon_CESM2_historical_r11i1p1f1_gn_200001-201412.nc\",\n",
    "        False,\n",
    "    ),\n",
    "    (\n",
    "        \"http://esgf-data1.llnl.gov/thredds/fileServer/css03_data/CMIP6/CMIP/NCAR/CESM2/historical/r11i1p1f1/Amon/ta/gn/v20190514/ta_Amon_CESM2_historical_r11i1p1f1_gn_200001-201412.nc\",\n",
    "        False,\n",
    "    ),\n",
    "    (\n",
    "        \"http://esgf-data1.llnl.gov/thredds/fileServer/css03_data/CMIP6/CMIP/NCAR/CESM2/historical/r11i1p1f1/Ofx/areacello/gr/v20190514/areacello_Ofx_CESM2_historical_r11i1p1f1_gr.nc\",\n",
    "        False,\n",
    "    ),\n",
    "    (\n",
    "        \"http://esgf-data1.llnl.gov/thredds/fileServer/css03_data/CMIP6/CMIP/NCAR/CESM2/historical/r11i1p1f1/Omon/tos/gr/v20190514/tos_Omon_CESM2_historical_r11i1p1f1_gr_200001-201412.nc\",\n",
    "        False,\n",
    "    ),\n",
    "    (\n",
    "        \"http://esgf-data1.llnl.gov/thredds/fileServer/css03_data/CMIP6/CMIP/NCAR/CESM2/historical/r9i1p1f1/Omon/tos/gr/v20190311/tos_Omon_CESM2_historical_r9i1p1f1_gr_200001-201412.nc\",\n",
    "        False,\n",
    "    ),\n",
    "    (\n",
    "        \"http://esgf-data1.llnl.gov/thredds/fileServer/css03_data/CMIP6/CMIP/NCAR/CESM2/historical/r7i1p1f1/Omon/tos/gr/v20190311/tos_Omon_CESM2_historical_r7i1p1f1_gr_200001-201412.nc\",\n",
    "        False,\n",
    "    ),\n",
    "    (\n",
    "        \"http://esgf-data1.llnl.gov/thredds/fileServer/css03_data/CMIP6/CMIP/NCAR/CESM2/historical/r8i1p1f1/Omon/tos/gr/v20190311/tos_Omon_CESM2_historical_r8i1p1f1_gr_200001-201412.nc\",\n",
    "        False,\n",
    "    ),\n",
    "]\n",
    "for url, unarchive in urls:\n",
    "    download_data(url, unarchive=unarchive)"
   ]
  },
  {
   "cell_type": "code",
   "execution_count": null,
   "id": "7770e768",
   "metadata": {},
   "outputs": [],
   "source": [
    "ds = xr.open_dataset(\"./data/tas_Amon_CESM2_historical_r11i1p1f1_gn_200001-201412.nc\", engine=\"netcdf4\")"
   ]
  },
  {
   "cell_type": "code",
   "execution_count": null,
   "id": "5c211666",
   "metadata": {},
   "outputs": [],
   "source": [
    "ds"
   ]
  },
  {
   "cell_type": "code",
   "execution_count": null,
   "id": "88380edc",
   "metadata": {},
   "outputs": [],
   "source": [
    "ds.info()"
   ]
  },
  {
   "cell_type": "code",
   "execution_count": null,
   "id": "3a5802e3",
   "metadata": {},
   "outputs": [],
   "source": [
    "# variables in the dataset\n",
    "ds.data_vars"
   ]
  },
  {
   "cell_type": "code",
   "execution_count": null,
   "id": "b9a0a31e",
   "metadata": {},
   "outputs": [],
   "source": [
    "# dataset dimensions\n",
    "ds.dims"
   ]
  },
  {
   "cell_type": "code",
   "execution_count": null,
   "id": "77d0ce90",
   "metadata": {},
   "outputs": [],
   "source": [
    "# dataset coordinates\n",
    "ds.coords"
   ]
  },
  {
   "cell_type": "code",
   "execution_count": null,
   "id": "90ba80a2",
   "metadata": {},
   "outputs": [],
   "source": [
    "# dataset global attributes\n",
    "ds.attrs"
   ]
  },
  {
   "cell_type": "code",
   "execution_count": null,
   "id": "a13cf587",
   "metadata": {},
   "outputs": [],
   "source": [
    "# Extract the tas variable (dataarray)\n",
    "ds[\"tas\"]"
   ]
  },
  {
   "cell_type": "code",
   "execution_count": null,
   "id": "c2cb868b",
   "metadata": {},
   "outputs": [],
   "source": [
    "# ds[\"tas\"] is equivalent to ds.tas\n",
    "ds.tas"
   ]
  },
  {
   "cell_type": "code",
   "execution_count": null,
   "id": "a1cf521f",
   "metadata": {},
   "outputs": [],
   "source": [
    "# The actual array data\n",
    "ds[\"tas\"].data"
   ]
  },
  {
   "cell_type": "code",
   "execution_count": null,
   "id": "748a23f8",
   "metadata": {},
   "outputs": [],
   "source": [
    "# datarray coordinates\n",
    "ds[\"tas\"].coords"
   ]
  },
  {
   "cell_type": "code",
   "execution_count": null,
   "id": "e3c4b78f",
   "metadata": {},
   "outputs": [],
   "source": [
    "# dataarray attributes\n",
    "ds[\"tas\"].attrs"
   ]
  },
  {
   "cell_type": "code",
   "execution_count": null,
   "id": "c9020be3",
   "metadata": {},
   "outputs": [],
   "source": [
    "ds"
   ]
  },
  {
   "cell_type": "code",
   "execution_count": null,
   "id": "d10f2a3c",
   "metadata": {},
   "outputs": [],
   "source": [
    "with xr.set_options(display_style=\"text\"):\n",
    "    print(ds)"
   ]
  },
  {
   "cell_type": "code",
   "execution_count": null,
   "id": "41b4ee13",
   "metadata": {},
   "outputs": [],
   "source": [
    "url = \"http://crd-esgf-drc.ec.gc.ca/thredds/dodsC/esgD_dataroot/AR6/CMIP6/ScenarioMIP/CCCma/CanESM5/ssp126/r12i1p2f1/Amon/wap/gn/v20190429/wap_Amon_CanESM5_ssp126_r12i1p2f1_gn_201501-210012.nc\""
   ]
  },
  {
   "cell_type": "code",
   "execution_count": null,
   "id": "01ae3e18",
   "metadata": {},
   "outputs": [],
   "source": [
    "xr.open_dataset(url, engine=\"netcdf4\", chunks={})"
   ]
  },
  {
   "cell_type": "code",
   "execution_count": null,
   "id": "61c8e6f8",
   "metadata": {},
   "outputs": [],
   "source": [
    "temp = ds[\"tas\"].data  # retrieve numpy array\n",
    "temp"
   ]
  },
  {
   "cell_type": "code",
   "execution_count": null,
   "id": "71b42bc2",
   "metadata": {},
   "outputs": [],
   "source": [
    "temp.shape, temp.ndim"
   ]
  },
  {
   "cell_type": "code",
   "execution_count": null,
   "id": "70a3a375",
   "metadata": {},
   "outputs": [],
   "source": [
    "temp[:, 20, 40]"
   ]
  },
  {
   "cell_type": "code",
   "execution_count": null,
   "id": "92cada41",
   "metadata": {},
   "outputs": [],
   "source": [
    "ds.tas.isel()  # the original object i.e. no selection"
   ]
  },
  {
   "cell_type": "code",
   "execution_count": null,
   "id": "06f89021",
   "metadata": {},
   "outputs": [],
   "source": [
    "ds.tas.isel(lat=100)"
   ]
  },
  {
   "cell_type": "code",
   "execution_count": null,
   "id": "c088403b",
   "metadata": {},
   "outputs": [],
   "source": [
    "ds.tas.isel(lat=100, time=[-2, -1])"
   ]
  },
  {
   "cell_type": "code",
   "execution_count": null,
   "id": "2fbb02e0",
   "metadata": {},
   "outputs": [],
   "source": [
    "ds.tas.isel(lon=100, time=slice(10, 20))"
   ]
  },
  {
   "cell_type": "code",
   "execution_count": null,
   "id": "556be0f0",
   "metadata": {},
   "outputs": [],
   "source": [
    "ds.tas.sel(time=\"2013\")"
   ]
  },
  {
   "cell_type": "code",
   "execution_count": null,
   "id": "d09b1fc5",
   "metadata": {},
   "outputs": [],
   "source": [
    "ds.tas.sel(time=slice(\"2013-01-01\", \"2014-12-31\"))"
   ]
  },
  {
   "cell_type": "code",
   "execution_count": null,
   "id": "14a45a89",
   "metadata": {},
   "outputs": [],
   "source": [
    "ds.tas.sel(lat=39.5, lon=105.7, method='nearest')"
   ]
  },
  {
   "cell_type": "code",
   "execution_count": null,
   "id": "37daaf97",
   "metadata": {},
   "outputs": [],
   "source": [
    "ds.tas.sel(lat=slice(39, 39.5), lon=slice(106.1, 106.3))"
   ]
  },
  {
   "cell_type": "code",
   "execution_count": null,
   "id": "5dec4c52",
   "metadata": {},
   "outputs": [],
   "source": [
    "ds.tas.isel(time=0).sel(lon=slice(20, 160), lat=slice(-80, 25))"
   ]
  },
  {
   "cell_type": "code",
   "execution_count": null,
   "id": "64d30784",
   "metadata": {},
   "outputs": [],
   "source": [
    "ds.tas.interp(lat=[10, 10.1, 10.2], method='nearest')"
   ]
  },
  {
   "cell_type": "code",
   "execution_count": null,
   "id": "5a6e348c",
   "metadata": {},
   "outputs": [],
   "source": [
    "ds.tas.sel(lon=100, lat=10, method='nearest').plot(marker=\"o\", size=6);"
   ]
  },
  {
   "cell_type": "code",
   "execution_count": null,
   "id": "e790786f",
   "metadata": {},
   "outputs": [],
   "source": [
    "ds.tas.isel(time=-10).sel(lon=slice(20, 160), lat=slice(-80, 25)).plot(robust=True, figsize=(8, 6));"
   ]
  },
  {
   "cell_type": "code",
   "execution_count": null,
   "id": "e23e8b7a",
   "metadata": {},
   "outputs": [],
   "source": [
    "# define keyword arguments that are passed to matptolib.pyplot.colorbar\n",
    "colorbar_kwargs = {\n",
    "    \"orientation\": \"horizontal\",\n",
    "    \"label\": \"my clustom label\",\n",
    "    \"pad\": 0.2,\n",
    "}\n",
    "\n",
    "ds.tas.isel(lon=1).plot(\n",
    "    x=\"time\",  # coordinate to plot on the x-axis of the plot\n",
    "    robust=True,  # set colorbar limits to 2nd and 98th percentile of data\n",
    "    cbar_kwargs=colorbar_kwargs,\n",
    ");"
   ]
  },
  {
   "cell_type": "code",
   "execution_count": null,
   "id": "4209ea66",
   "metadata": {},
   "outputs": [],
   "source": [
    "ds.tas.sel(time=slice(\"2010\", \"2011\")).plot(col=\"time\", col_wrap=6, robust=True);"
   ]
  },
  {
   "cell_type": "code",
   "execution_count": null,
   "id": "0dc11fef",
   "metadata": {},
   "outputs": [],
   "source": [
    "ds.tas.plot();"
   ]
  },
  {
   "cell_type": "code",
   "execution_count": null,
   "id": "3c86a5cc",
   "metadata": {},
   "outputs": [],
   "source": [
    "ds_air_all_pressure_levels = xr.open_dataset(\n",
    "    \"data/ta_Amon_CESM2_historical_r11i1p1f1_gn_200001-201412.nc\", engine=\"netcdf4\"\n",
    ")\n",
    "ds_air_all_pressure_levels"
   ]
  },
  {
   "cell_type": "code",
   "execution_count": null,
   "id": "cd5846b9",
   "metadata": {},
   "outputs": [],
   "source": [
    "data = ds_air_all_pressure_levels.ta.isel(time=-1).sel(lon=86.93, method='nearest')\n",
    "fig = data.plot(size=6, yincrease=False)\n",
    "fig.axes.set_title(\n",
    "    f'Vertical profile of Temperature from pole to pole \\nat longitude = {data.lon.data} and time = {data.time.data}',\n",
    "    size=15,\n",
    ");"
   ]
  },
  {
   "cell_type": "code",
   "execution_count": null,
   "id": "d0c16ae7",
   "metadata": {},
   "outputs": [],
   "source": [
    "import hvplot.xarray"
   ]
  },
  {
   "cell_type": "code",
   "execution_count": null,
   "id": "16dad76a",
   "metadata": {},
   "outputs": [],
   "source": [
    "ds.tas.hvplot()"
   ]
  },
  {
   "cell_type": "code",
   "execution_count": null,
   "id": "d2bccf8b",
   "metadata": {},
   "outputs": [],
   "source": [
    "ds.tas.isel(time=1).hvplot(cmap=\"fire\")"
   ]
  },
  {
   "cell_type": "code",
   "execution_count": null,
   "id": "1cc9285a",
   "metadata": {},
   "outputs": [],
   "source": [
    "ds.tas.isel(time=-1, lon=100).hvplot()"
   ]
  },
  {
   "cell_type": "code",
   "execution_count": null,
   "id": "49b0148d",
   "metadata": {},
   "outputs": [],
   "source": [
    "ds.tas.sel(lat=28.5, lon=83.9, method='nearest').hvplot()"
   ]
  },
  {
   "cell_type": "code",
   "execution_count": null,
   "id": "40ee3f8c",
   "metadata": {},
   "outputs": [],
   "source": [
    "ds.tas.hvplot(groupby=\"time\", clim=(ds.tas.min(), ds.tas.max()), cmap='turbo')"
   ]
  },
  {
   "cell_type": "code",
   "execution_count": null,
   "id": "6319a177",
   "metadata": {},
   "outputs": [],
   "source": [
    "ds.tas.hvplot(\n",
    "    groupby=\"time\",\n",
    "    clim=(ds.tas.min(), ds.tas.max()),\n",
    "    cmap=\"turbo\",\n",
    "    widget_type=\"scrubber\",\n",
    "    widget_location=\"bottom\",\n",
    ")"
   ]
  },
  {
   "cell_type": "code",
   "execution_count": null,
   "id": "ddf46269",
   "metadata": {},
   "outputs": [],
   "source": [
    "import matplotlib.pyplot as plt"
   ]
  },
  {
   "cell_type": "code",
   "execution_count": null,
   "id": "a1b5825a",
   "metadata": {},
   "outputs": [],
   "source": [
    "ds = xr.open_dataset(\"./data/tos_Omon_CESM2_historical_r11i1p1f1_gr_200001-201412.nc\", engine=\"netcdf4\")\n",
    "ds"
   ]
  },
  {
   "cell_type": "code",
   "execution_count": null,
   "id": "4a415be4",
   "metadata": {},
   "outputs": [],
   "source": [
    "ds.tos + 273.15"
   ]
  },
  {
   "cell_type": "code",
   "execution_count": null,
   "id": "ac01c58a",
   "metadata": {},
   "outputs": [],
   "source": [
    "ds.tos ** 2"
   ]
  },
  {
   "cell_type": "code",
   "execution_count": null,
   "id": "e7a59d3c",
   "metadata": {},
   "outputs": [],
   "source": [
    "# Compute mean\n",
    "ds.tos.mean()"
   ]
  },
  {
   "cell_type": "code",
   "execution_count": null,
   "id": "e6e5ba3b",
   "metadata": {},
   "outputs": [],
   "source": [
    "ds.tos.mean(dim='time').plot(size=7, robust=True);"
   ]
  },
  {
   "cell_type": "code",
   "execution_count": null,
   "id": "81a40245",
   "metadata": {},
   "outputs": [],
   "source": [
    "# compute temporal min\n",
    "ds.tos.min(dim=['time'])"
   ]
  },
  {
   "cell_type": "code",
   "execution_count": null,
   "id": "441d085a",
   "metadata": {},
   "outputs": [],
   "source": [
    "# compute spatial sum\n",
    "ds.tos.sum(dim=['lat', 'lon'])"
   ]
  },
  {
   "cell_type": "code",
   "execution_count": null,
   "id": "5c040864",
   "metadata": {},
   "outputs": [],
   "source": [
    "# compute temporal median\n",
    "ds.tos.median(dim='time')"
   ]
  },
  {
   "cell_type": "code",
   "execution_count": null,
   "id": "b21d83fa",
   "metadata": {},
   "outputs": [],
   "source": [
    "ds.tos.groupby(ds.time.dt.month)"
   ]
  },
  {
   "cell_type": "code",
   "execution_count": null,
   "id": "4003b4b2",
   "metadata": {},
   "outputs": [],
   "source": [
    "ds.time.dt.year"
   ]
  },
  {
   "cell_type": "code",
   "execution_count": null,
   "id": "1f7f6698",
   "metadata": {},
   "outputs": [],
   "source": [
    "ds.time.dt.month"
   ]
  },
  {
   "cell_type": "code",
   "execution_count": null,
   "id": "eec846e1",
   "metadata": {},
   "outputs": [],
   "source": [
    "ds.tos.groupby('time.month')"
   ]
  },
  {
   "cell_type": "code",
   "execution_count": null,
   "id": "5841765f",
   "metadata": {},
   "outputs": [],
   "source": [
    "tos_clim = ds.tos.groupby('time.month').mean()\n",
    "tos_clim"
   ]
  },
  {
   "cell_type": "code",
   "execution_count": null,
   "id": "102fc66c",
   "metadata": {},
   "outputs": [],
   "source": [
    "# Plot climatology at a specific point\n",
    "tos_clim.sel(lon=310, lat=50, method='nearest').plot();"
   ]
  },
  {
   "cell_type": "code",
   "execution_count": null,
   "id": "cb4ab06c",
   "metadata": {},
   "outputs": [],
   "source": [
    "# Plot zonal mean climatology\n",
    "tos_clim.mean(dim='lon').transpose().plot.contourf(levels=12, robust=True, cmap='turbo');"
   ]
  },
  {
   "cell_type": "code",
   "execution_count": null,
   "id": "39f47470",
   "metadata": {},
   "outputs": [],
   "source": [
    "# Difference between January and December climatologies\n",
    "(tos_clim.sel(month=1) - tos_clim.sel(month=12)).plot(size=6, robust=True);"
   ]
  },
  {
   "cell_type": "code",
   "execution_count": null,
   "id": "8c321ebe",
   "metadata": {},
   "outputs": [],
   "source": [
    "gb = ds.tos.groupby('time.month')\n",
    "tos_anom = gb - gb.mean(dim='time')\n",
    "tos_anom"
   ]
  },
  {
   "cell_type": "code",
   "execution_count": null,
   "id": "abab2d06",
   "metadata": {},
   "outputs": [],
   "source": [
    "tos_anom.sel(lon=310, lat=50, method='nearest').plot();"
   ]
  },
  {
   "cell_type": "code",
   "execution_count": null,
   "id": "c7d25bcd",
   "metadata": {},
   "outputs": [],
   "source": [
    "unweighted_mean_global_anom = tos_anom.mean(dim=['lat', 'lon'])\n",
    "unweighted_mean_global_anom.plot();"
   ]
  },
  {
   "cell_type": "code",
   "execution_count": null,
   "id": "27e5f153",
   "metadata": {},
   "outputs": [],
   "source": [
    "areacello = xr.open_dataset(\"data/areacello_Ofx_CESM2_historical_r11i1p1f1_gr.nc\").areacello\n",
    "areacello"
   ]
  },
  {
   "cell_type": "code",
   "execution_count": null,
   "id": "61bf4275",
   "metadata": {},
   "outputs": [],
   "source": [
    "weighted_mean_global_anom = tos_anom.weighted(areacello).mean(dim=['lat', 'lon'])"
   ]
  },
  {
   "cell_type": "code",
   "execution_count": null,
   "id": "c2fbb860",
   "metadata": {},
   "outputs": [],
   "source": [
    "unweighted_mean_global_anom.plot(size=7)\n",
    "weighted_mean_global_anom.plot()\n",
    "plt.legend(['unweighted', 'weighted']);"
   ]
  },
  {
   "cell_type": "code",
   "execution_count": null,
   "id": "4b2b12c9",
   "metadata": {},
   "outputs": [],
   "source": [
    "# resample to annual frequency\n",
    "r = ds.tos.resample(time='AS')\n",
    "r"
   ]
  },
  {
   "cell_type": "code",
   "execution_count": null,
   "id": "db6f3ec3",
   "metadata": {},
   "outputs": [],
   "source": [
    "r.mean()"
   ]
  },
  {
   "cell_type": "code",
   "execution_count": null,
   "id": "b6edc9a5",
   "metadata": {},
   "outputs": [],
   "source": [
    "# Compute a 5-month moving average\n",
    "m_avg = ds.tos.rolling(time=5, center=True).mean()\n",
    "m_avg"
   ]
  },
  {
   "cell_type": "code",
   "execution_count": null,
   "id": "1ea6d3f1",
   "metadata": {},
   "outputs": [],
   "source": [
    "lat = 50\n",
    "lon = 310\n",
    "\n",
    "m_avg.isel(lat=lat, lon=lon).plot(size=6)\n",
    "ds.tos.isel(lat=lat, lon=lon).plot()\n",
    "plt.legend(['5-month moving average', 'monthly data']);"
   ]
  },
  {
   "cell_type": "code",
   "execution_count": null,
   "id": "85d13b78",
   "metadata": {},
   "outputs": [],
   "source": [
    "ds = xr.open_dataset(\"./data/tos_Omon_CESM2_historical_r11i1p1f1_gr_200001-201412.nc\", engine=\"netcdf4\")\n",
    "ds"
   ]
  },
  {
   "cell_type": "code",
   "execution_count": null,
   "id": "7a5c649f",
   "metadata": {},
   "outputs": [],
   "source": [
    "sample = ds.tos.isel(time=-1)\n",
    "sample"
   ]
  },
  {
   "cell_type": "code",
   "execution_count": null,
   "id": "34ae0210",
   "metadata": {},
   "outputs": [],
   "source": [
    "masked_sample = sample.where(sample < 0.0)\n",
    "masked_sample"
   ]
  },
  {
   "cell_type": "code",
   "execution_count": null,
   "id": "936618d5",
   "metadata": {},
   "outputs": [],
   "source": [
    "fig, axes = plt.subplots(ncols=2, figsize=(19, 6))\n",
    "sample.plot(ax=axes[0], robust=True)\n",
    "masked_sample.plot(ax=axes[1], robust=True);"
   ]
  },
  {
   "cell_type": "code",
   "execution_count": null,
   "id": "73bff68f",
   "metadata": {},
   "outputs": [],
   "source": [
    "sample.where((sample > 25) & (sample < 30)).plot(size=6, robust=True);"
   ]
  },
  {
   "cell_type": "code",
   "execution_count": null,
   "id": "b28d3557",
   "metadata": {},
   "outputs": [],
   "source": [
    "sample.where((sample > 25) & (sample < 30), 0).plot(size=6, robust=True);"
   ]
  },
  {
   "cell_type": "code",
   "execution_count": null,
   "id": "a8b8ae86",
   "metadata": {},
   "outputs": [],
   "source": [
    "import cartopy.crs as ccrs\n",
    "import matplotlib.pyplot as plt\n",
    "import xarray as xr"
   ]
  },
  {
   "cell_type": "code",
   "execution_count": null,
   "id": "a23b5417",
   "metadata": {},
   "outputs": [],
   "source": [
    "data = xr.open_dataset(\"./data/tos_Omon_CESM2_historical_r11i1p1f1_gr_200001-201412.nc\", engine=\"netcdf4\")\n",
    "areacello = xr.open_dataset(\"./data/areacello_Ofx_CESM2_historical_r11i1p1f1_gr.nc\", engine=\"netcdf4\")\n",
    "\n",
    "# Merge the two datasets in a single dataset\n",
    "ds = xr.merge([data, areacello])\n",
    "ds"
   ]
  },
  {
   "cell_type": "code",
   "execution_count": null,
   "id": "64a04606",
   "metadata": {},
   "outputs": [],
   "source": [
    "fig = plt.figure(figsize=(12, 6))\n",
    "ax = plt.axes(projection=ccrs.Robinson(central_longitude=180))\n",
    "ax.coastlines()\n",
    "ax.gridlines()\n",
    "ds.tos.isel(time=0).plot(\n",
    "    robust=True, ax=ax, transform=ccrs.PlateCarree(), cbar_kwargs={'shrink': 0.5}\n",
    ")\n",
    "ax.set_global()"
   ]
  },
  {
   "cell_type": "code",
   "execution_count": null,
   "id": "27123cb9",
   "metadata": {},
   "outputs": [],
   "source": [
    "tos_nino34 = ds.sel(lat=slice(-5, 5), lon=slice(190, 240))\n",
    "tos_nino34"
   ]
  },
  {
   "cell_type": "code",
   "execution_count": null,
   "id": "19e6d2d6",
   "metadata": {},
   "outputs": [],
   "source": [
    "fig = plt.figure(figsize=(12, 6))\n",
    "ax = plt.axes(projection=ccrs.Robinson(central_longitude=180))\n",
    "ax.coastlines()\n",
    "ax.gridlines()\n",
    "tos_nino34.tos.isel(time=0).plot(ax=ax, transform=ccrs.PlateCarree(), cbar_kwargs={'shrink': 0.5})\n",
    "ax.set_extent((120, 300, 10, -10))"
   ]
  },
  {
   "cell_type": "code",
   "execution_count": null,
   "id": "f4b62a36",
   "metadata": {},
   "outputs": [],
   "source": [
    "gb = tos_nino34.tos.groupby('time.month')\n",
    "tos_nino34_anom = gb - gb.mean(dim='time')\n",
    "index_nino34 = tos_nino34_anom.weighted(tos_nino34.areacello).mean(dim=['lat', 'lon'])"
   ]
  },
  {
   "cell_type": "code",
   "execution_count": null,
   "id": "2a3bf845",
   "metadata": {},
   "outputs": [],
   "source": [
    "index_nino34_rolling_mean = index_nino34.rolling(time=5).mean()"
   ]
  },
  {
   "cell_type": "code",
   "execution_count": null,
   "id": "b2339de8",
   "metadata": {},
   "outputs": [],
   "source": [
    "index_nino34.plot(size=8)\n",
    "index_nino34_rolling_mean.plot()\n",
    "plt.legend(['anomaly', '5-month running mean anomaly']);"
   ]
  },
  {
   "cell_type": "code",
   "execution_count": null,
   "id": "5b8def3a",
   "metadata": {},
   "outputs": [],
   "source": [
    "std_dev = tos_nino34.tos.std()\n",
    "std_dev"
   ]
  },
  {
   "cell_type": "code",
   "execution_count": null,
   "id": "9911ccc9",
   "metadata": {},
   "outputs": [],
   "source": [
    "normalized_index_nino34_rolling_mean = index_nino34_rolling_mean / std_dev"
   ]
  },
  {
   "cell_type": "code",
   "execution_count": null,
   "id": "9e000210",
   "metadata": {},
   "outputs": [],
   "source": [
    "fig = plt.figure(figsize=(12, 6))\n",
    "\n",
    "# Add -0.4/+0.4 lines which are the El Niño 3.4 thresholds\n",
    "plt.fill_between(\n",
    "    normalized_index_nino34_rolling_mean.time.data,\n",
    "    normalized_index_nino34_rolling_mean.where(normalized_index_nino34_rolling_mean >= 0.4).data,\n",
    "    0.4,\n",
    "    color='red',\n",
    "    alpha=0.9,\n",
    ")\n",
    "plt.fill_between(\n",
    "    normalized_index_nino34_rolling_mean.time.data,\n",
    "    normalized_index_nino34_rolling_mean.where(normalized_index_nino34_rolling_mean <= -0.4).data,\n",
    "    -0.4,\n",
    "    color='blue',\n",
    "    alpha=0.9,\n",
    ")\n",
    "\n",
    "normalized_index_nino34_rolling_mean.plot(color='black')\n",
    "plt.axhline(0, color='black', lw=0.5)\n",
    "plt.axhline(0.4, color='black', linewidth=0.5, linestyle='dotted')\n",
    "plt.axhline(-0.4, color='black', linewidth=0.5, linestyle='dotted');"
   ]
  },
  {
   "cell_type": "code",
   "execution_count": null,
   "id": "8014428f",
   "metadata": {},
   "outputs": [],
   "source": []
  }
 ],
 "metadata": {
  "kernelspec": {
   "display_name": "Python 3 (ipykernel)",
   "language": "python",
   "name": "python3"
  },
  "language_info": {
   "codemirror_mode": {
    "name": "ipython",
    "version": 3
   },
   "file_extension": ".py",
   "mimetype": "text/x-python",
   "name": "python",
   "nbconvert_exporter": "python",
   "pygments_lexer": "ipython3",
   "version": "3.9.12"
  }
 },
 "nbformat": 4,
 "nbformat_minor": 5
}
