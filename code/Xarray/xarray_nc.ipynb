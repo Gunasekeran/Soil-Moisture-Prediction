{
 "cells": [
  {
   "cell_type": "code",
   "execution_count": null,
   "id": "274f69d1",
   "metadata": {},
   "outputs": [],
   "source": [
    "#import the necessary libraries and modules\n",
    "\n",
    "import warnings\n",
    "warnings.filterwarnings('ignore')\n",
    "import numpy as np\n",
    "import pandas as pd\n",
    "import xarray as xr\n",
    "from mpl_toolkits import mplot3d\n",
    "import matplotlib.pyplot as plt\n",
    "import hvplot.xarray\n",
    "import scipy"
   ]
  },
  {
   "cell_type": "code",
   "execution_count": null,
   "id": "48b636fb",
   "metadata": {},
   "outputs": [],
   "source": [
    "#Reading the netcdf file (.nc file) using xarray\n",
    "\n",
    "ds = xr.open_dataset(\"cesm2cam6v2.2016-01-25.09.clm2.h0.2016-01-25-00000.nc\", engine=\"netcdf4\")"
   ]
  },
  {
   "cell_type": "code",
   "execution_count": null,
   "id": "8313d06c",
   "metadata": {},
   "outputs": [],
   "source": [
    "#Displaying the Dataset of netcdf file using xarray\n",
    "\n",
    "ds"
   ]
  },
  {
   "cell_type": "code",
   "execution_count": null,
   "id": "b1403368",
   "metadata": {},
   "outputs": [],
   "source": [
    "#Information about the dataset\n",
    "\n",
    "ds.info()"
   ]
  },
  {
   "cell_type": "code",
   "execution_count": null,
   "id": "84f1a2be",
   "metadata": {},
   "outputs": [],
   "source": [
    "# variables used in the dataset\n",
    "\n",
    "ds.data_vars"
   ]
  },
  {
   "cell_type": "code",
   "execution_count": null,
   "id": "b38bdab3",
   "metadata": {},
   "outputs": [],
   "source": [
    "# Dataset dimensions\n",
    "ds.dims"
   ]
  },
  {
   "cell_type": "code",
   "execution_count": null,
   "id": "4a867420",
   "metadata": {},
   "outputs": [],
   "source": [
    "# Dataset coordinates\n",
    "ds.coords"
   ]
  },
  {
   "cell_type": "code",
   "execution_count": null,
   "id": "0929ad59",
   "metadata": {},
   "outputs": [],
   "source": [
    "# Dataset global attributes\n",
    "ds.attrs"
   ]
  },
  {
   "cell_type": "code",
   "execution_count": null,
   "id": "4f2ffc9b",
   "metadata": {},
   "outputs": [],
   "source": [
    "#Displaying the dataset in text format\n",
    "\n",
    "with xr.set_options(display_style=\"text\"):\n",
    "    print(ds)"
   ]
  },
  {
   "cell_type": "code",
   "execution_count": null,
   "id": "537001df",
   "metadata": {},
   "outputs": [],
   "source": [
    "# Extract the H2OSOI (volumetric soil water) variable (data_array) \n",
    "\n",
    "ds[\"H2OSOI\"]"
   ]
  },
  {
   "cell_type": "code",
   "execution_count": null,
   "id": "dc050132",
   "metadata": {},
   "outputs": [],
   "source": [
    "# ds[\"H2OSOI\"] is equivalent to ds.H2OSOI\n",
    "ds.H2OSOI"
   ]
  },
  {
   "cell_type": "code",
   "execution_count": null,
   "id": "0dd11a17",
   "metadata": {},
   "outputs": [],
   "source": [
    "# Datarray coordinates of H2OSOI\n",
    "\n",
    "ds[\"H2OSOI\"].coords"
   ]
  },
  {
   "cell_type": "code",
   "execution_count": null,
   "id": "2b88ca1a",
   "metadata": {},
   "outputs": [],
   "source": [
    "# Dataarray attributes of H2OSOI\n",
    "\n",
    "ds[\"H2OSOI\"].attrs"
   ]
  },
  {
   "cell_type": "code",
   "execution_count": null,
   "id": "f3417865",
   "metadata": {},
   "outputs": [],
   "source": [
    "#Assigning the H2OSOI Dataarray in a temporary variable (temp_1)\n",
    "\n",
    "temp_1 = ds[\"H2OSOI\"].data"
   ]
  },
  {
   "cell_type": "code",
   "execution_count": null,
   "id": "7da3d3e4",
   "metadata": {},
   "outputs": [],
   "source": [
    "#Displaying the shape and n-dimensions of H2OSOI\n",
    "\n",
    "temp_1.shape, temp_1.ndim"
   ]
  },
  {
   "cell_type": "code",
   "execution_count": null,
   "id": "87e8c82c",
   "metadata": {},
   "outputs": [],
   "source": [
    "#Visualizing the H2OSOI variable using plot() function\n",
    "\n",
    "ds.H2OSOI.plot()"
   ]
  },
  {
   "cell_type": "code",
   "execution_count": null,
   "id": "efe99c8a",
   "metadata": {},
   "outputs": [],
   "source": [
    "#Visualizing the H2OSOI variable using holoview plot function\n",
    "\n",
    "ds.H2OSOI.hvplot()"
   ]
  },
  {
   "cell_type": "code",
   "execution_count": null,
   "id": "7357c292",
   "metadata": {},
   "outputs": [],
   "source": [
    "# Extract the DZSOI (soil thickness) variable (data_array)\n",
    "\n",
    "ds[\"DZSOI\"]"
   ]
  },
  {
   "cell_type": "code",
   "execution_count": null,
   "id": "3e19bb8a",
   "metadata": {},
   "outputs": [],
   "source": [
    "# ds[\"DZSOI\"] is equivalent to ds.DZSOI\n",
    "\n",
    "ds.DZSOI"
   ]
  },
  {
   "cell_type": "code",
   "execution_count": null,
   "id": "ad439dd8",
   "metadata": {},
   "outputs": [],
   "source": [
    "# Datarray coordinates of DZSOI\n",
    "\n",
    "ds[\"DZSOI\"].coords"
   ]
  },
  {
   "cell_type": "code",
   "execution_count": null,
   "id": "2bb996b7",
   "metadata": {},
   "outputs": [],
   "source": [
    "# Dataarray attributes of DZSOI\n",
    "\n",
    "ds[\"DZSOI\"].attrs"
   ]
  },
  {
   "cell_type": "code",
   "execution_count": null,
   "id": "24bb5dc9",
   "metadata": {},
   "outputs": [],
   "source": [
    "#Assigning the DZSOI Dataarray in a temporary variable (temp_2)\n",
    "\n",
    "temp_2 = ds[\"DZSOI\"].data"
   ]
  },
  {
   "cell_type": "code",
   "execution_count": null,
   "id": "db06673a",
   "metadata": {},
   "outputs": [],
   "source": [
    "#Displaying the shape and n-dimension of DZSOI variable\n",
    "\n",
    "temp_2.shape, temp_2.ndim"
   ]
  },
  {
   "cell_type": "code",
   "execution_count": null,
   "id": "4fe32cfa",
   "metadata": {},
   "outputs": [],
   "source": [
    "#Visualizing the DZSOI variable using plot() function\n",
    "\n",
    "ds.DZSOI.plot()"
   ]
  },
  {
   "cell_type": "code",
   "execution_count": null,
   "id": "ebfc493a",
   "metadata": {},
   "outputs": [],
   "source": [
    "#Visualizing the DZSOI variable using holoview plot function\n",
    "\n",
    "ds.DZSOI.hvplot()"
   ]
  },
  {
   "cell_type": "code",
   "execution_count": null,
   "id": "64620cac",
   "metadata": {},
   "outputs": [],
   "source": [
    "# Extract the ZSOI (soil depth) variable (data_array)\n",
    "\n",
    "ds[\"ZSOI\"]"
   ]
  },
  {
   "cell_type": "code",
   "execution_count": null,
   "id": "b42866ea",
   "metadata": {},
   "outputs": [],
   "source": [
    "# ds[\"ZSOI\"] is equivalent to ds.ZSOI\n",
    "\n",
    "ds.ZSOI"
   ]
  },
  {
   "cell_type": "code",
   "execution_count": null,
   "id": "cbe5488c",
   "metadata": {},
   "outputs": [],
   "source": [
    "# Datarray coordinates\n",
    "\n",
    "ds[\"ZSOI\"].coords"
   ]
  },
  {
   "cell_type": "code",
   "execution_count": null,
   "id": "06fe91e6",
   "metadata": {},
   "outputs": [],
   "source": [
    "# Dataarray attributes\n",
    "\n",
    "ds[\"ZSOI\"].attrs"
   ]
  },
  {
   "cell_type": "code",
   "execution_count": null,
   "id": "ba31a415",
   "metadata": {},
   "outputs": [],
   "source": [
    "#Assinging the ZSOI variable to a temporary variabel (temp_3)\n",
    "\n",
    "temp_3 = ds[\"ZSOI\"].data"
   ]
  },
  {
   "cell_type": "code",
   "execution_count": null,
   "id": "292b067b",
   "metadata": {},
   "outputs": [],
   "source": [
    "#Displaying the shape and n-dimension of ZSOI variable\n",
    "\n",
    "temp_3.shape, temp_3.ndim"
   ]
  },
  {
   "cell_type": "code",
   "execution_count": null,
   "id": "a88ff6bc",
   "metadata": {},
   "outputs": [],
   "source": [
    "#Plotting the DZSOI and ZSOI variables using scatter() function\n",
    "\n",
    "plt.scatter(ds.DZSOI,ds.ZSOI)"
   ]
  },
  {
   "cell_type": "code",
   "execution_count": null,
   "id": "291dcc30",
   "metadata": {},
   "outputs": [],
   "source": [
    "#Positional selction of H2OSOI variable with original object i.e. no selection\n",
    "\n",
    "ds.H2OSOI.isel()"
   ]
  },
  {
   "cell_type": "code",
   "execution_count": null,
   "id": "90c58ddb",
   "metadata": {},
   "outputs": [],
   "source": [
    "#Positional selection of H2OSOI variable with latitude position = 100\n",
    "\n",
    "ds.H2OSOI.isel(lat=100)"
   ]
  },
  {
   "cell_type": "code",
   "execution_count": null,
   "id": "4416d0aa",
   "metadata": {},
   "outputs": [],
   "source": [
    "#Positional selection of H2OSOI variable with latitude position = 100 & last two values of the co-ordinate [time]\n",
    "\n",
    "ds.H2OSOI.isel(lat=100, time=[-2, -1])"
   ]
  },
  {
   "cell_type": "code",
   "execution_count": null,
   "id": "2bc2387b",
   "metadata": {},
   "outputs": [],
   "source": [
    "#Positional selection of H2OSOI variable with longitude position = 100 & values from positions (11-20) of co-ordinate [time]\n",
    "\n",
    "ds.H2OSOI.isel(lon=100, time=slice(10, 20))"
   ]
  },
  {
   "cell_type": "code",
   "execution_count": null,
   "id": "65eb5122",
   "metadata": {},
   "outputs": [],
   "source": [
    "#Labelled selection of H2OSOI variable with co-ordinate [time = 2016]\n",
    "\n",
    "ds.H2OSOI.sel(time=\"2016\")"
   ]
  },
  {
   "cell_type": "code",
   "execution_count": null,
   "id": "c5c73097",
   "metadata": {},
   "outputs": [],
   "source": [
    "#Labelled selection of H2OSOI variable with co-ordinate [time] from 25th Jan 2016 to 10th Feb 2016\n",
    "\n",
    "ds.H2OSOI.sel(time=slice(\"2016-01-25\", \"2016-02-10\"))"
   ]
  },
  {
   "cell_type": "code",
   "execution_count": null,
   "id": "eafe8d5b",
   "metadata": {},
   "outputs": [],
   "source": [
    "#Labelled Selection of H2OSOI variable with co-ordinates [lat,lon] in floating point numbers using nearest neighbour method\n",
    "\n",
    "ds.H2OSOI.sel(lat=39.5, lon=105.7, method='nearest')"
   ]
  },
  {
   "cell_type": "code",
   "execution_count": null,
   "id": "8fa28da9",
   "metadata": {},
   "outputs": [],
   "source": [
    "#Labelled Selection of H2OSOI variable with co-ordinates [lat,lon] in floating point numbers using slice method\n",
    "\n",
    "ds.H2OSOI.sel(lat=slice(39, 39.5), lon=slice(106.1, 106.3))"
   ]
  },
  {
   "cell_type": "code",
   "execution_count": null,
   "id": "a9e6d4d1",
   "metadata": {},
   "outputs": [],
   "source": [
    "#Selection of dataarray using Interpolation function by co-ordinate lable [lat] \n",
    "\n",
    "ds.H2OSOI.interp(lat=[10, 10.1, 10.2], method='nearest')"
   ]
  },
  {
   "cell_type": "code",
   "execution_count": null,
   "id": "69f8e534",
   "metadata": {},
   "outputs": [],
   "source": [
    "#Visualization of DZSOI variable using contourf() function\n",
    "\n",
    "plt.contourf(ds['DZSOI'][0,:,:])\n",
    "plt.colorbar()"
   ]
  },
  {
   "cell_type": "code",
   "execution_count": null,
   "id": "69101e97",
   "metadata": {},
   "outputs": [],
   "source": [
    "#Visualization of SNOW variable using contourf() function\n",
    "\n",
    "plt.contourf(ds['SNOW'][0,:,:])\n",
    "plt.colorbar()"
   ]
  },
  {
   "cell_type": "code",
   "execution_count": null,
   "id": "0ef1d3f7",
   "metadata": {},
   "outputs": [],
   "source": [
    "#Visualization of ZSOI variable using contourf() function\n",
    "\n",
    "plt.contourf(ds['ZSOI'][0,:,:])\n",
    "plt.colorbar()"
   ]
  },
  {
   "cell_type": "code",
   "execution_count": null,
   "id": "b3492091",
   "metadata": {},
   "outputs": [],
   "source": [
    "#Visualization of TWS variable using contourf() function\n",
    "\n",
    "plt.contourf(ds['TWS'][0,:,:])\n",
    "plt.colorbar()"
   ]
  },
  {
   "cell_type": "code",
   "execution_count": null,
   "id": "e4251b64",
   "metadata": {},
   "outputs": [],
   "source": [
    "#Visualization of TOTECOSYSC variable using contourf() function\n",
    "\n",
    "plt.contourf(ds['TOTECOSYSC'][0,:,:])\n",
    "plt.colorbar()"
   ]
  },
  {
   "cell_type": "code",
   "execution_count": null,
   "id": "81925e1d",
   "metadata": {},
   "outputs": [],
   "source": [
    "#Visualization of SOILWATER_10CM variable using contourf() function\n",
    "\n",
    "plt.contourf(ds['SOILWATER_10CM'][0,:,:])\n",
    "plt.colorbar()"
   ]
  },
  {
   "cell_type": "code",
   "execution_count": null,
   "id": "09e297b5",
   "metadata": {},
   "outputs": [],
   "source": [
    "#Visualization of RAIN variable using contourf() function\n",
    "\n",
    "plt.contourf(ds['RAIN'][0,:,:])\n",
    "plt.colorbar()"
   ]
  },
  {
   "cell_type": "code",
   "execution_count": null,
   "id": "58284ca6",
   "metadata": {},
   "outputs": [],
   "source": [
    "#Visualization of H2OSNO variable using contourf() function\n",
    "\n",
    "plt.contourf(ds['H2OSNO'][0,:,:])\n",
    "plt.colorbar()"
   ]
  },
  {
   "cell_type": "code",
   "execution_count": null,
   "id": "58cc6385",
   "metadata": {},
   "outputs": [],
   "source": [
    "#Displaying the values of the co-ordinate [lat]\n",
    "\n",
    "ds.lat"
   ]
  },
  {
   "cell_type": "code",
   "execution_count": null,
   "id": "caa2a4f8",
   "metadata": {},
   "outputs": [],
   "source": [
    "#Displaying the values of the co-ordinate [lon]\n",
    "\n",
    "ds.lon"
   ]
  },
  {
   "cell_type": "code",
   "execution_count": null,
   "id": "b1580451",
   "metadata": {},
   "outputs": [],
   "source": [
    "#Visualization of variable [area,landfrac] using plot() function\n",
    "\n",
    "x = ds.area\n",
    "y = ds.landfrac\n",
    "plt.plot(x,y)\n",
    "plt.show()"
   ]
  },
  {
   "cell_type": "code",
   "execution_count": null,
   "id": "f1dede66",
   "metadata": {},
   "outputs": [],
   "source": [
    "#Visualization of variable [area,nbedrock] using plot() function\n",
    "\n",
    "x = ds.area\n",
    "y = ds.nbedrock\n",
    "plt.plot(x,y)\n",
    "plt.show()"
   ]
  },
  {
   "cell_type": "code",
   "execution_count": null,
   "id": "8cc3f1f5",
   "metadata": {},
   "outputs": [],
   "source": [
    "#Visualization of variable [landmask,pftmask] using plot() function\n",
    "\n",
    "x = ds.landmask\n",
    "y = ds.pftmask\n",
    "plt.plot(x,y)\n",
    "plt.show()"
   ]
  },
  {
   "cell_type": "code",
   "execution_count": null,
   "id": "fa5b13e2",
   "metadata": {},
   "outputs": [],
   "source": [
    "#Creating Dataframe for variable [area] - 2d\n",
    " \n",
    "df_1 = pd.DataFrame(ds.area)\n",
    "df_1"
   ]
  },
  {
   "cell_type": "code",
   "execution_count": null,
   "id": "91f7649f",
   "metadata": {},
   "outputs": [],
   "source": []
  }
 ],
 "metadata": {
  "kernelspec": {
   "display_name": "Python 3 (ipykernel)",
   "language": "python",
   "name": "python3"
  },
  "language_info": {
   "codemirror_mode": {
    "name": "ipython",
    "version": 3
   },
   "file_extension": ".py",
   "mimetype": "text/x-python",
   "name": "python",
   "nbconvert_exporter": "python",
   "pygments_lexer": "ipython3",
   "version": "3.9.12"
  }
 },
 "nbformat": 4,
 "nbformat_minor": 5
}
