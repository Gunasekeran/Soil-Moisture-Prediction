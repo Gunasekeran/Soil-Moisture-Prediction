{
 "cells": [
  {
   "cell_type": "code",
   "execution_count": null,
   "id": "2c23fee1-1207-4ebb-8b9e-f1ea019fc311",
   "metadata": {
    "id": "2c23fee1-1207-4ebb-8b9e-f1ea019fc311"
   },
   "outputs": [],
   "source": [
    "#import the necessary libraries and modules\n",
    "\n",
    "import warnings\n",
    "warnings.filterwarnings('ignore')\n",
    "import numpy as np\n",
    "import pandas as pd\n",
    "import xarray as xr\n",
    "import matplotlib.pyplot as plt\n",
    "import hvplot.xarray\n",
    "import scipy"
   ]
  },
  {
   "cell_type": "code",
   "execution_count": null,
   "id": "e04efd6b-e7c8-4081-8da0-0c0ab5e4b540",
   "metadata": {
    "id": "e04efd6b-e7c8-4081-8da0-0c0ab5e4b540"
   },
   "outputs": [],
   "source": [
    "#Reading the netcdf file (.nc file) using xarray\n",
    "\n",
    "ds = xr.open_dataset(\"cesm2cam6v2.2016-01-25.09.clm2.h0.2016-01-25-00000.nc\", engine=\"netcdf4\")"
   ]
  },
  {
   "cell_type": "code",
   "execution_count": null,
   "id": "67fe179b-3014-45f0-b990-75329f7b613b",
   "metadata": {
    "id": "67fe179b-3014-45f0-b990-75329f7b613b"
   },
   "outputs": [],
   "source": [
    "#Displaying the Dataset of netcdf file using xarray\n",
    "\n",
    "ds"
   ]
  },
  {
   "cell_type": "code",
   "execution_count": null,
   "id": "d81a8924-dd0a-426a-bd92-1254a9ca031f",
   "metadata": {
    "id": "d81a8924-dd0a-426a-bd92-1254a9ca031f"
   },
   "outputs": [],
   "source": [
    "#Information about the dataset\n",
    "\n",
    "ds.info()"
   ]
  },
  {
   "cell_type": "code",
   "execution_count": null,
   "id": "a80860e0-4c46-4401-a8fa-02cdaccb6dbb",
   "metadata": {
    "id": "a80860e0-4c46-4401-a8fa-02cdaccb6dbb"
   },
   "outputs": [],
   "source": [
    "# variables used in the dataset\n",
    "\n",
    "ds.data_vars"
   ]
  },
  {
   "cell_type": "code",
   "execution_count": null,
   "id": "403be06e-d3d4-49fc-9325-e3a2131a933b",
   "metadata": {
    "id": "403be06e-d3d4-49fc-9325-e3a2131a933b"
   },
   "outputs": [],
   "source": [
    "# Dataset dimensions\n",
    "\n",
    "ds.dims"
   ]
  },
  {
   "cell_type": "code",
   "execution_count": null,
   "id": "e5fb5c43-da70-4ce6-adc2-a0710a6a1177",
   "metadata": {
    "id": "e5fb5c43-da70-4ce6-adc2-a0710a6a1177"
   },
   "outputs": [],
   "source": [
    "# Dataset coordinates\n",
    "\n",
    "ds.coords"
   ]
  },
  {
   "cell_type": "code",
   "execution_count": null,
   "id": "fdf0b6f1-ff47-4605-bd14-97e9d765fb7e",
   "metadata": {
    "id": "fdf0b6f1-ff47-4605-bd14-97e9d765fb7e"
   },
   "outputs": [],
   "source": [
    "# Dataset global attributes\n",
    "\n",
    "ds.attrs"
   ]
  },
  {
   "cell_type": "code",
   "execution_count": null,
   "id": "1eeaccc9-c2aa-495b-af02-6f344ec70130",
   "metadata": {
    "id": "1eeaccc9-c2aa-495b-af02-6f344ec70130"
   },
   "outputs": [],
   "source": [
    "#Displaying the dataset in text format\n",
    "\n",
    "with xr.set_options(display_style=\"text\"):\n",
    "    print(ds)"
   ]
  },
  {
   "cell_type": "code",
   "execution_count": null,
   "id": "748bcb11-84c0-45e5-b699-95a91497e0ae",
   "metadata": {
    "id": "748bcb11-84c0-45e5-b699-95a91497e0ae"
   },
   "outputs": [],
   "source": [
    "# Extract the H2OSOI (volumetric soil water) variable (data_array) \n",
    "\n",
    "ds[\"H2OSOI\"]"
   ]
  },
  {
   "cell_type": "code",
   "execution_count": null,
   "id": "343a29f2-8bbb-4f1f-be7c-09aee6433d81",
   "metadata": {
    "id": "343a29f2-8bbb-4f1f-be7c-09aee6433d81"
   },
   "outputs": [],
   "source": [
    "# ds[\"H2OSOI\"] is equivalent to ds.H2OSOI\n",
    "\n",
    "ds.H2OSOI"
   ]
  },
  {
   "cell_type": "code",
   "execution_count": null,
   "id": "d74850a4-210a-47d4-9702-e4da90edb94f",
   "metadata": {
    "id": "d74850a4-210a-47d4-9702-e4da90edb94f"
   },
   "outputs": [],
   "source": [
    "# Datarray coordinates of H2OSOI\n",
    "\n",
    "ds[\"H2OSOI\"].coords"
   ]
  },
  {
   "cell_type": "code",
   "execution_count": null,
   "id": "871d331d-973a-43c5-9ead-2d882f0ad071",
   "metadata": {
    "id": "871d331d-973a-43c5-9ead-2d882f0ad071"
   },
   "outputs": [],
   "source": [
    "# Dataarray attributes of H2OSOI\n",
    "\n",
    "ds[\"H2OSOI\"].attrs"
   ]
  },
  {
   "cell_type": "code",
   "execution_count": null,
   "id": "cbba6ae1-4b8b-417a-a154-3d887cc324aa",
   "metadata": {
    "id": "cbba6ae1-4b8b-417a-a154-3d887cc324aa"
   },
   "outputs": [],
   "source": [
    "#Assigning the H2OSOI Dataarray in a temporary variable (temp_1)\n",
    "\n",
    "temp_1 = ds[\"H2OSOI\"].data"
   ]
  },
  {
   "cell_type": "code",
   "execution_count": null,
   "id": "0e8de1a4-4f73-4ca0-8e20-d3a97a976afc",
   "metadata": {
    "id": "0e8de1a4-4f73-4ca0-8e20-d3a97a976afc"
   },
   "outputs": [],
   "source": [
    "#Displaying the shape and n-dimensions of H2OSOI\n",
    "\n",
    "temp_1.shape, temp_1.ndim"
   ]
  },
  {
   "cell_type": "code",
   "execution_count": null,
   "id": "2a67fc0a-2f40-4375-9c71-46306a0fc2e2",
   "metadata": {
    "id": "2a67fc0a-2f40-4375-9c71-46306a0fc2e2"
   },
   "outputs": [],
   "source": [
    "#Visualizing the H2OSOI variable using plot() function\n",
    "\n",
    "ds.H2OSOI.plot()"
   ]
  },
  {
   "cell_type": "code",
   "execution_count": null,
   "id": "35955087-2899-4823-b4bb-65b02a5fd7f2",
   "metadata": {
    "id": "35955087-2899-4823-b4bb-65b02a5fd7f2"
   },
   "outputs": [],
   "source": [
    "#Visualizing the H2OSOI variable using holoview plot function\n",
    "\n",
    "ds.H2OSOI.hvplot()"
   ]
  },
  {
   "cell_type": "code",
   "execution_count": null,
   "id": "fdf9a3be-4b7a-497b-a8e6-60d6645725fb",
   "metadata": {
    "id": "fdf9a3be-4b7a-497b-a8e6-60d6645725fb"
   },
   "outputs": [],
   "source": [
    "# Extract the DZSOI (soil thickness) variable (data_array)\n",
    "\n",
    "ds[\"DZSOI\"]"
   ]
  },
  {
   "cell_type": "code",
   "execution_count": null,
   "id": "0643dec7-f30f-4e6d-839f-7ac9818769d7",
   "metadata": {
    "id": "0643dec7-f30f-4e6d-839f-7ac9818769d7"
   },
   "outputs": [],
   "source": [
    "# ds[\"DZSOI\"] is equivalent to ds.DZSOI\n",
    "\n",
    "ds.DZSOI"
   ]
  },
  {
   "cell_type": "code",
   "execution_count": null,
   "id": "d79c102b-9e3d-41b5-b2da-9331fb404975",
   "metadata": {
    "id": "d79c102b-9e3d-41b5-b2da-9331fb404975"
   },
   "outputs": [],
   "source": [
    "# Datarray coordinates of DZSOI\n",
    "\n",
    "ds[\"DZSOI\"].coords"
   ]
  },
  {
   "cell_type": "code",
   "execution_count": null,
   "id": "201af95e-2406-4b3a-9698-d313d57e128a",
   "metadata": {
    "id": "201af95e-2406-4b3a-9698-d313d57e128a"
   },
   "outputs": [],
   "source": [
    "# Dataarray attributes of DZSOI\n",
    "\n",
    "ds[\"DZSOI\"].attrs"
   ]
  },
  {
   "cell_type": "code",
   "execution_count": null,
   "id": "ef47f5d0-46a2-4b5a-a411-173da4cf8994",
   "metadata": {
    "id": "ef47f5d0-46a2-4b5a-a411-173da4cf8994"
   },
   "outputs": [],
   "source": [
    "#Assigning the DZSOI Dataarray in a temporary variable (temp_2)\n",
    "\n",
    "temp_2 = ds[\"DZSOI\"].data"
   ]
  },
  {
   "cell_type": "code",
   "execution_count": null,
   "id": "fce8c6c3-c252-4bd8-a198-352121c2f2e4",
   "metadata": {
    "id": "fce8c6c3-c252-4bd8-a198-352121c2f2e4"
   },
   "outputs": [],
   "source": [
    "#Displaying the shape and n-dimension of DZSOI variable\n",
    "\n",
    "temp_2.shape, temp_2.ndim"
   ]
  },
  {
   "cell_type": "code",
   "execution_count": null,
   "id": "a9f5258b-bfe7-4e51-86f0-6ea09599c0dc",
   "metadata": {
    "id": "a9f5258b-bfe7-4e51-86f0-6ea09599c0dc"
   },
   "outputs": [],
   "source": [
    "#Visualizing the DZSOI variable using plot() function\n",
    "\n",
    "ds.DZSOI.plot()"
   ]
  },
  {
   "cell_type": "code",
   "execution_count": null,
   "id": "70c108fa-0006-43e7-898d-52a7ec315d21",
   "metadata": {
    "id": "70c108fa-0006-43e7-898d-52a7ec315d21"
   },
   "outputs": [],
   "source": [
    "#Visualizing the DZSOI variable using holoview plot function\n",
    "\n",
    "ds.DZSOI.hvplot()"
   ]
  },
  {
   "cell_type": "code",
   "execution_count": null,
   "id": "69b20b7e-864a-4a70-a007-88f8e9af4d95",
   "metadata": {
    "id": "69b20b7e-864a-4a70-a007-88f8e9af4d95"
   },
   "outputs": [],
   "source": [
    "# Extract the ZSOI (soil depth) variable (data_array)\n",
    "\n",
    "ds[\"ZSOI\"]"
   ]
  },
  {
   "cell_type": "code",
   "execution_count": null,
   "id": "4f7ea77a-806d-4c13-b347-f7cac813642a",
   "metadata": {
    "id": "4f7ea77a-806d-4c13-b347-f7cac813642a"
   },
   "outputs": [],
   "source": [
    "# ds[\"ZSOI\"] is equivalent to ds.ZSOI\n",
    "\n",
    "ds.ZSOI"
   ]
  },
  {
   "cell_type": "code",
   "execution_count": null,
   "id": "69d906d8-4529-44bc-8266-6743b55b90fe",
   "metadata": {
    "id": "69d906d8-4529-44bc-8266-6743b55b90fe"
   },
   "outputs": [],
   "source": [
    "# Datarray coordinates\n",
    "\n",
    "ds[\"ZSOI\"].coords"
   ]
  },
  {
   "cell_type": "code",
   "execution_count": null,
   "id": "0aeb1ac7-c634-46b0-bef6-bcb5e6046d1d",
   "metadata": {
    "id": "0aeb1ac7-c634-46b0-bef6-bcb5e6046d1d"
   },
   "outputs": [],
   "source": [
    "# Dataarray attributes\n",
    "\n",
    "ds[\"ZSOI\"].attrs"
   ]
  },
  {
   "cell_type": "code",
   "execution_count": null,
   "id": "832eb211-d740-419b-a975-8c6688ae02db",
   "metadata": {
    "id": "832eb211-d740-419b-a975-8c6688ae02db"
   },
   "outputs": [],
   "source": [
    "#Assinging the ZSOI variable to a temporary variabel (temp_3)\n",
    "\n",
    "temp_3 = ds[\"ZSOI\"].data"
   ]
  },
  {
   "cell_type": "code",
   "execution_count": null,
   "id": "9294755e-8130-49b0-ac7c-6b2eae4fb0dd",
   "metadata": {
    "id": "9294755e-8130-49b0-ac7c-6b2eae4fb0dd"
   },
   "outputs": [],
   "source": [
    "#Displaying the shape and n-dimension of ZSOI variable\n",
    "\n",
    "temp_3.shape, temp_3.ndim"
   ]
  },
  {
   "cell_type": "code",
   "execution_count": null,
   "id": "574984f3-b2cc-4512-be74-d559716d8529",
   "metadata": {
    "id": "574984f3-b2cc-4512-be74-d559716d8529"
   },
   "outputs": [],
   "source": [
    "#Positional selction of H2OSOI variable with original object i.e. no selection\n",
    "\n",
    "ds.H2OSOI.isel()"
   ]
  },
  {
   "cell_type": "code",
   "execution_count": null,
   "id": "80e1b9bd-7d4a-4faf-bec4-4038fa2f08bf",
   "metadata": {
    "id": "80e1b9bd-7d4a-4faf-bec4-4038fa2f08bf"
   },
   "outputs": [],
   "source": [
    "#Positional selection of H2OSOI variable with latitude position = 100 (i.e. 101th latitude value)\n",
    "\n",
    "ds.H2OSOI.isel(lat=100)"
   ]
  },
  {
   "cell_type": "code",
   "execution_count": null,
   "id": "2fb92786-1df7-4654-81f6-3794fdf5f0eb",
   "metadata": {
    "id": "2fb92786-1df7-4654-81f6-3794fdf5f0eb"
   },
   "outputs": [],
   "source": [
    "#Plot Diagram - H2OSOI variable with latitude position = 100 (i.e. 101th latitude value)\n",
    "\n",
    "ds.H2OSOI.isel(lat=100).plot()"
   ]
  },
  {
   "cell_type": "code",
   "execution_count": null,
   "id": "53780903-cff9-48f0-96c4-e2d1384446ce",
   "metadata": {
    "id": "53780903-cff9-48f0-96c4-e2d1384446ce"
   },
   "outputs": [],
   "source": [
    "#ds.H2OSOI.sel(lat=34.0522, lon=241.75, method='nearest').plot()"
   ]
  },
  {
   "cell_type": "code",
   "execution_count": null,
   "id": "5d5fb2b2-b168-446e-9f5d-f9601e407533",
   "metadata": {
    "id": "5d5fb2b2-b168-446e-9f5d-f9601e407533"
   },
   "outputs": [],
   "source": [
    "ds.DZSOI.sel(lat=34.0522, lon=241.75, method='nearest').plot()"
   ]
  },
  {
   "cell_type": "code",
   "execution_count": null,
   "id": "0a3d3a99-90df-4f9d-af3c-e1b3128791d1",
   "metadata": {
    "id": "0a3d3a99-90df-4f9d-af3c-e1b3128791d1"
   },
   "outputs": [],
   "source": [
    "#Positional selection of H2OSOI variable with latitude position = 100 & last two values of the co-ordinate [time]\n",
    "\n",
    "ds.H2OSOI.isel(lat=100, time=[-2, -1])"
   ]
  },
  {
   "cell_type": "code",
   "execution_count": null,
   "id": "34868d69-43b9-44ff-85b9-06f36a7896d9",
   "metadata": {
    "id": "34868d69-43b9-44ff-85b9-06f36a7896d9"
   },
   "outputs": [],
   "source": [
    "#Plot Diagram - H2OSOI variable with latitude position = 100 & last two values of the co-ordinate [time]\n",
    "\n",
    "ds.H2OSOI.isel(lat=100, time=[-2, -1]).plot()"
   ]
  },
  {
   "cell_type": "code",
   "execution_count": null,
   "id": "77cfa1d8-0621-49f1-bc92-009e41739621",
   "metadata": {
    "id": "77cfa1d8-0621-49f1-bc92-009e41739621"
   },
   "outputs": [],
   "source": [
    "#Positional selection of H2OSOI variable with longitude position = 100 & values from positions (11-20) of co-ordinate [time]\n",
    "\n",
    "ds.H2OSOI.isel(lon=100, time=slice(10, 20))"
   ]
  },
  {
   "cell_type": "code",
   "execution_count": null,
   "id": "1a6fcd20-6003-4bea-bc5e-01e0982e5341",
   "metadata": {
    "id": "1a6fcd20-6003-4bea-bc5e-01e0982e5341"
   },
   "outputs": [],
   "source": [
    "#Plot Diagram - H2OSOI variable with longitude position = 100 & values from positions (11-20) of co-ordinate [time]\n",
    "\n",
    "ds.H2OSOI.isel(lon=100, time=slice(10, 20)).plot()"
   ]
  },
  {
   "cell_type": "code",
   "execution_count": null,
   "id": "3a60c5c7-1f55-4a9a-aa90-e970f8cff91e",
   "metadata": {
    "id": "3a60c5c7-1f55-4a9a-aa90-e970f8cff91e"
   },
   "outputs": [],
   "source": [
    "#Labelled selection of H2OSOI variable with co-ordinate [time = 2016]\n",
    "\n",
    "ds.H2OSOI.sel(time=\"2016\")"
   ]
  },
  {
   "cell_type": "code",
   "execution_count": null,
   "id": "2da5e0b1-2987-4bb3-83ae-809e03ba45a6",
   "metadata": {
    "id": "2da5e0b1-2987-4bb3-83ae-809e03ba45a6"
   },
   "outputs": [],
   "source": [
    "#Plot Diagram - H2OSOI variable with co-ordinate [time = 2016]\n",
    "\n",
    "ds.H2OSOI.sel(time=\"2016\").plot()"
   ]
  },
  {
   "cell_type": "code",
   "execution_count": null,
   "id": "10af5018-f756-4123-aba7-5d53618e3ce3",
   "metadata": {
    "id": "10af5018-f756-4123-aba7-5d53618e3ce3"
   },
   "outputs": [],
   "source": [
    "#Labelled selection of H2OSOI variable with co-ordinate [time] from 25th Jan 2016 to 10th Feb 2016\n",
    "\n",
    "ds.H2OSOI.sel(time=slice(\"2016-01-25\", \"2016-02-10\"))"
   ]
  },
  {
   "cell_type": "code",
   "execution_count": null,
   "id": "0929d9d8-a15e-42ce-be25-75c0d17e827b",
   "metadata": {
    "id": "0929d9d8-a15e-42ce-be25-75c0d17e827b"
   },
   "outputs": [],
   "source": [
    "#Plot Diagram - H2OSOI variable with co-ordinate [time] from 25th Jan 2016 to 10th Feb 2016\n",
    "\n",
    "ds.H2OSOI.sel(time=slice(\"2016-01-25\", \"2016-02-10\")).plot()"
   ]
  },
  {
   "cell_type": "code",
   "execution_count": null,
   "id": "7d93e9a9-29ff-429d-aeee-64292b5d808c",
   "metadata": {
    "id": "7d93e9a9-29ff-429d-aeee-64292b5d808c"
   },
   "outputs": [],
   "source": [
    "#Labelled Selection of H2OSOI variable with co-ordinates [lat,lon] in floating point numbers using nearest neighbour method\n",
    "\n",
    "ds.H2OSOI.sel(lat=39.5, lon=105.7, method='nearest')"
   ]
  },
  {
   "cell_type": "code",
   "execution_count": null,
   "id": "cae4fc7b-529a-4260-a8f6-1454a7ed10b7",
   "metadata": {
    "id": "cae4fc7b-529a-4260-a8f6-1454a7ed10b7"
   },
   "outputs": [],
   "source": [
    "#Labelled Selection of H2OSOI variable with co-ordinates [lat,lon] in floating point numbers using slice method\n",
    "\n",
    "ds.H2OSOI.sel(lat=slice(39, 39.5), lon=slice(106.1, 106.3))"
   ]
  },
  {
   "cell_type": "code",
   "execution_count": null,
   "id": "cf48d12b-4ba6-485e-be51-40e43c807def",
   "metadata": {
    "id": "cf48d12b-4ba6-485e-be51-40e43c807def"
   },
   "outputs": [],
   "source": [
    "#Selection of dataarray using Interpolation function by co-ordinate lable [lat] \n",
    "\n",
    "ds.H2OSOI.interp(lat=[10, 10.1, 10.2], method='nearest')"
   ]
  },
  {
   "cell_type": "code",
   "execution_count": null,
   "id": "7f7da129-514c-47a4-8b52-b02f380c8109",
   "metadata": {
    "id": "7f7da129-514c-47a4-8b52-b02f380c8109"
   },
   "outputs": [],
   "source": [
    "#Plot Diagram - Dataarray using Interpolation function by co-ordinate lable [lat] \n",
    "\n",
    "ds.H2OSOI.interp(lat=[10, 10.1, 10.2], method='nearest').plot()"
   ]
  },
  {
   "cell_type": "code",
   "execution_count": null,
   "id": "d9bf3edc-58e8-441d-9f03-ea461a45ab61",
   "metadata": {
    "id": "d9bf3edc-58e8-441d-9f03-ea461a45ab61"
   },
   "outputs": [],
   "source": [
    "#Positional selection of DZSOI variable with latitude position = 100\n",
    "\n",
    "ds.DZSOI.isel(lat=100)"
   ]
  },
  {
   "cell_type": "code",
   "execution_count": null,
   "id": "f889b39d-92b1-4e75-add8-2a753d41f916",
   "metadata": {
    "id": "f889b39d-92b1-4e75-add8-2a753d41f916"
   },
   "outputs": [],
   "source": [
    "#Plot Diagram - DZSOI variable with latitude position = 100\n",
    "\n",
    "ds.DZSOI.isel(lat=100).plot()"
   ]
  },
  {
   "cell_type": "code",
   "execution_count": null,
   "id": "198ce943-9ac5-4d92-b709-01fd37a2b15a",
   "metadata": {
    "id": "198ce943-9ac5-4d92-b709-01fd37a2b15a"
   },
   "outputs": [],
   "source": [
    "#Positional selection of DZSOI variable with latitude position = 100 & last two values of the co-ordinate [levgrnd]\n",
    "\n",
    "ds.DZSOI.isel(lat=100, levgrnd=[-2, -1])"
   ]
  },
  {
   "cell_type": "code",
   "execution_count": null,
   "id": "bd0c5bf2-4464-4081-85c3-dc291364493b",
   "metadata": {
    "id": "bd0c5bf2-4464-4081-85c3-dc291364493b"
   },
   "outputs": [],
   "source": [
    "#Plot Diagram - DZSOI variable with latitude position = 100 & last two values of the co-ordinate [levgrnd]\n",
    "\n",
    "ds.DZSOI.isel(lat=100, levgrnd=[-2, -1]).plot()"
   ]
  },
  {
   "cell_type": "code",
   "execution_count": null,
   "id": "1964e9d4-7be7-4a95-a2f6-7aa5168911f6",
   "metadata": {
    "id": "1964e9d4-7be7-4a95-a2f6-7aa5168911f6"
   },
   "outputs": [],
   "source": [
    "#Positional selection of DZSOI variable with longitude position = 100 & values from positions (11-20) of co-ordinate [levgrnd]\n",
    "\n",
    "ds.DZSOI.isel(lon=100, levgrnd=slice(10, 20))"
   ]
  },
  {
   "cell_type": "code",
   "execution_count": null,
   "id": "935dc379-4c99-4668-8022-835e1906400f",
   "metadata": {
    "id": "935dc379-4c99-4668-8022-835e1906400f"
   },
   "outputs": [],
   "source": [
    "#Plot Diagram - DZSOI variable with longitude position = 100 & values from positions (11-20) of co-ordinate [levgrnd]\n",
    "\n",
    "ds.DZSOI.isel(lon=100, levgrnd=slice(10, 20)).plot()"
   ]
  },
  {
   "cell_type": "code",
   "execution_count": null,
   "id": "9d09999d-3366-465c-8650-51650322f195",
   "metadata": {
    "id": "9d09999d-3366-465c-8650-51650322f195"
   },
   "outputs": [],
   "source": [
    "#Labelled selection of DZSOI variable with co-ordinate [levgrnd = 6.94]\n",
    "\n",
    "ds.DZSOI.sel(levgrnd=\"6.94\")"
   ]
  },
  {
   "cell_type": "code",
   "execution_count": null,
   "id": "83f1e5f2-1c86-48df-a1dd-d4780a297c33",
   "metadata": {
    "id": "83f1e5f2-1c86-48df-a1dd-d4780a297c33"
   },
   "outputs": [],
   "source": [
    "#Plot Diagram - DZSOI variable with co-ordinate [levgrnd = 6.94]\n",
    "\n",
    "ds.DZSOI.sel(levgrnd=\"6.94\").plot()"
   ]
  },
  {
   "cell_type": "code",
   "execution_count": null,
   "id": "efadaf59-3685-4de9-abd3-ce1744413dcd",
   "metadata": {
    "id": "efadaf59-3685-4de9-abd3-ce1744413dcd"
   },
   "outputs": [],
   "source": [
    "#Labelled Selection of DZSOI variable with co-ordinates [lat,lon] in floating point numbers using nearest neighbour method\n",
    "\n",
    "ds.DZSOI.sel(lat=39.5, lon=105.7, method='nearest')"
   ]
  },
  {
   "cell_type": "code",
   "execution_count": null,
   "id": "338a4c64-b08b-43f3-a348-3c3a706f7555",
   "metadata": {
    "id": "338a4c64-b08b-43f3-a348-3c3a706f7555"
   },
   "outputs": [],
   "source": [
    "#Plot Diagram - DZSOI variable with co-ordinates [lat,lon] in floating point numbers using nearest neighbour method\n",
    "\n",
    "ds.DZSOI.sel(lat=39.5, lon=105.7, method='nearest').plot()"
   ]
  },
  {
   "cell_type": "code",
   "execution_count": null,
   "id": "d224c266-b171-45be-9562-b61ce58da025",
   "metadata": {
    "id": "d224c266-b171-45be-9562-b61ce58da025"
   },
   "outputs": [],
   "source": [
    "#Selection of dataarray using Interpolation function by co-ordinate lable [lat] \n",
    "\n",
    "ds.DZSOI.interp(lat=[10, 10.1, 10.2], method='nearest')"
   ]
  },
  {
   "cell_type": "code",
   "execution_count": null,
   "id": "40568c01-88d2-4bad-93a6-02ed13e8862d",
   "metadata": {
    "id": "40568c01-88d2-4bad-93a6-02ed13e8862d"
   },
   "outputs": [],
   "source": [
    "#Selection of dataarray using Interpolation function by co-ordinate lable [lat] \n",
    "\n",
    "ds.DZSOI.interp(lat=[10, 10.1, 10.2], method='nearest').plot()"
   ]
  },
  {
   "cell_type": "code",
   "execution_count": null,
   "id": "233a4e0e-82a0-4f1f-bd37-2e3f8dbd197b",
   "metadata": {
    "id": "233a4e0e-82a0-4f1f-bd37-2e3f8dbd197b"
   },
   "outputs": [],
   "source": [
    "#Displaying the values of the co-ordinate [lat]\n",
    "\n",
    "ds.lat"
   ]
  },
  {
   "cell_type": "code",
   "execution_count": null,
   "id": "19650c4b-3aef-4867-83f4-e4876265c7ba",
   "metadata": {
    "id": "19650c4b-3aef-4867-83f4-e4876265c7ba"
   },
   "outputs": [],
   "source": [
    "#Displaying the values of the co-ordinate [lon]\n",
    "\n",
    "ds.lon"
   ]
  },
  {
   "cell_type": "code",
   "execution_count": null,
   "id": "9f360345-253e-4d24-89f0-eee1ea2f2203",
   "metadata": {
    "id": "9f360345-253e-4d24-89f0-eee1ea2f2203"
   },
   "outputs": [],
   "source": [
    "#Computing mean value of H2OSOI variable\n",
    "\n",
    "ds.H2OSOI.mean()"
   ]
  },
  {
   "cell_type": "code",
   "execution_count": null,
   "id": "320cf574-1c51-4bfe-89e8-b060dbf467cc",
   "metadata": {
    "id": "320cf574-1c51-4bfe-89e8-b060dbf467cc"
   },
   "outputs": [],
   "source": [
    "#Computing temporal minimum of H2OSOI variable\n",
    "\n",
    "ds.H2OSOI.min(dim=['lat','lon'])"
   ]
  },
  {
   "cell_type": "code",
   "execution_count": null,
   "id": "da3515e9-4b6e-46a0-88ac-044b82c17dc5",
   "metadata": {
    "id": "da3515e9-4b6e-46a0-88ac-044b82c17dc5"
   },
   "outputs": [],
   "source": [
    "# Computing Spatial Sum of H2OSOI variable\n",
    "\n",
    "ds.H2OSOI.sum(dim=['lat', 'lon'])"
   ]
  },
  {
   "cell_type": "code",
   "execution_count": null,
   "id": "1ac149d3-02ef-4983-98f8-7914f397cc54",
   "metadata": {
    "id": "1ac149d3-02ef-4983-98f8-7914f397cc54"
   },
   "outputs": [],
   "source": [
    "# Compute Temporal Median of H2OSOI variable\n",
    "\n",
    "ds.H2OSOI.median(dim=['lat','lon'])"
   ]
  },
  {
   "cell_type": "code",
   "execution_count": null,
   "id": "188c9f75-4ae6-4090-936e-992353fcb82d",
   "metadata": {
    "id": "188c9f75-4ae6-4090-936e-992353fcb82d"
   },
   "outputs": [],
   "source": [
    "#Computing the year of the dataset\n",
    "\n",
    "ds.time.dt.year"
   ]
  },
  {
   "cell_type": "code",
   "execution_count": null,
   "id": "9ce2f185-2a0d-407e-be75-cdb250f16817",
   "metadata": {
    "id": "9ce2f185-2a0d-407e-be75-cdb250f16817"
   },
   "outputs": [],
   "source": [
    "#Computing the months of the dataset\n",
    "\n",
    "ds.time.dt.month"
   ]
  },
  {
   "cell_type": "code",
   "execution_count": null,
   "id": "08ec5412-2a65-486a-a78f-47d96e3ce075",
   "metadata": {
    "id": "08ec5412-2a65-486a-a78f-47d96e3ce075"
   },
   "outputs": [],
   "source": [
    "#Computing the months of H2OSOI variable\n",
    "\n",
    "ds.H2OSOI.groupby(ds.time.dt.month)"
   ]
  },
  {
   "cell_type": "code",
   "execution_count": null,
   "id": "b85c2c75-ab45-4842-9a61-23629e154246",
   "metadata": {
    "id": "b85c2c75-ab45-4842-9a61-23629e154246"
   },
   "outputs": [],
   "source": [
    "#Computing the year of H2OSOI variable\n",
    "\n",
    "ds.H2OSOI.groupby(ds.time.dt.year)"
   ]
  },
  {
   "cell_type": "code",
   "execution_count": null,
   "id": "703c7560-30c2-4740-b5c7-6147c5c4c59b",
   "metadata": {
    "id": "703c7560-30c2-4740-b5c7-6147c5c4c59b"
   },
   "outputs": [],
   "source": [
    "#Los Angels Location - Latitude & Longitude co-ordinates\n",
    "# identified Location is Howe Road, Ventura County, California, 93015\n",
    "\n",
    "#H2OSOI variable (location 1)\n",
    "\n",
    "loc_1_H2OSOI=ds.H2OSOI.sel(lat=34.0522, lon=241.75, method='nearest')\n",
    "loc_1_H2OSOI"
   ]
  },
  {
   "cell_type": "code",
   "execution_count": null,
   "id": "2c9fa9c8-9808-4196-92da-607aba0a2477",
   "metadata": {
    "id": "2c9fa9c8-9808-4196-92da-607aba0a2477"
   },
   "outputs": [],
   "source": [
    "#Los Angels Location - Latitude & Longitude co-ordinates\n",
    "# identified Location is Howe Road, Ventura County, California, 93015\n",
    "\n",
    "#DZSOI variable (location 1)\n",
    "\n",
    "loc_1_DZSOI=ds.DZSOI.sel(lat=34.0522, lon=241.75, method='nearest')\n",
    "loc_1_DZSOI"
   ]
  },
  {
   "cell_type": "code",
   "execution_count": null,
   "id": "7b9dbeba-1b5e-4e96-8e63-4e39133577c9",
   "metadata": {
    "id": "7b9dbeba-1b5e-4e96-8e63-4e39133577c9"
   },
   "outputs": [],
   "source": [
    "#Multiplying H2OSOI and DZSOI variables of Location 1\n",
    "\n",
    "prod_loc_1 = loc_1_H2OSOI * loc_1_DZSOI\n",
    "prod_loc_1"
   ]
  },
  {
   "cell_type": "code",
   "execution_count": null,
   "id": "3ff74850-44b7-48f4-93ad-ee2cd1796d74",
   "metadata": {
    "id": "3ff74850-44b7-48f4-93ad-ee2cd1796d74"
   },
   "outputs": [],
   "source": [
    "#Selecting first five values of prod_loc_1\n",
    "\n",
    "pp_loc_1 = prod_loc_1.isel(levsoi=slice(0,5),levgrnd=slice(0,5))"
   ]
  },
  {
   "cell_type": "code",
   "execution_count": null,
   "id": "86f9be96-496d-4f36-865f-ec3577ae2319",
   "metadata": {
    "id": "86f9be96-496d-4f36-865f-ec3577ae2319"
   },
   "outputs": [],
   "source": [
    "#Selecting three specific dates from pp_loc_1\n",
    "\n",
    "pp = pp_loc_1.sel(time=slice(\"2016-02-11\",\"2016-02-13\"))"
   ]
  },
  {
   "cell_type": "code",
   "execution_count": null,
   "id": "631f89d4-a970-4305-ad65-4aad54c1a9cd",
   "metadata": {
    "id": "631f89d4-a970-4305-ad65-4aad54c1a9cd"
   },
   "outputs": [],
   "source": [
    "#Displaying the DataArray (pp)\n",
    "\n",
    "pp"
   ]
  },
  {
   "cell_type": "code",
   "execution_count": null,
   "id": "b7ea6544-2592-476b-9646-88954931a2b4",
   "metadata": {
    "id": "b7ea6544-2592-476b-9646-88954931a2b4"
   },
   "outputs": [],
   "source": [
    "#Plot of DataArray (pp)\n",
    "\n",
    "pp.plot()"
   ]
  },
  {
   "cell_type": "code",
   "execution_count": null,
   "id": "2c240918-1386-43d5-a9c5-7633d2af4458",
   "metadata": {
    "id": "2c240918-1386-43d5-a9c5-7633d2af4458"
   },
   "outputs": [],
   "source": [
    "#Cheyenne Location - Latitude & Longitude co-ordinates\n",
    "# identified Location is near Cheyenne\n",
    "\n",
    "#H2OSOI variable (location 2)\n",
    "\n",
    "loc_2_H2OSOI=ds.H2OSOI.sel(lat=41.02, lon=244.05, method='nearest')\n",
    "loc_2_H2OSOI"
   ]
  },
  {
   "cell_type": "code",
   "execution_count": null,
   "id": "9a08c3e6-59a1-4f75-9a70-e9418914b12d",
   "metadata": {
    "id": "9a08c3e6-59a1-4f75-9a70-e9418914b12d"
   },
   "outputs": [],
   "source": [
    "#Cheyenne Location - Latitude & Longitude co-ordinates\n",
    "# identified Location is near Cheyenne\n",
    "\n",
    "#DZOSOI variable (location 2)\n",
    "\n",
    "loc_2_DZSOI=ds.DZSOI.sel(lat=41.02, lon=244.05, method='nearest')\n",
    "loc_2_DZSOI"
   ]
  },
  {
   "cell_type": "code",
   "execution_count": null,
   "id": "91a38ab0-7494-4a0e-a269-28e50c480be8",
   "metadata": {
    "id": "91a38ab0-7494-4a0e-a269-28e50c480be8"
   },
   "outputs": [],
   "source": [
    "#Multiplying H2OSOI and DZSOI variables of Location 2\n",
    "\n",
    "prod_loc_2 = loc_2_H2OSOI * loc_2_DZSOI\n",
    "prod_loc_2"
   ]
  },
  {
   "cell_type": "code",
   "execution_count": null,
   "id": "4ad7a472-a713-459c-9047-8e16caa8d0c6",
   "metadata": {
    "id": "4ad7a472-a713-459c-9047-8e16caa8d0c6"
   },
   "outputs": [],
   "source": [
    "#Selecting first five values of prod_loc_2\n",
    "\n",
    "qq_loc_2 = prod_loc_2.isel(levsoi=slice(0,5),levgrnd=slice(0,5))"
   ]
  },
  {
   "cell_type": "code",
   "execution_count": null,
   "id": "a549ffd7-6056-49c3-a1e4-b0e55c335452",
   "metadata": {
    "id": "a549ffd7-6056-49c3-a1e4-b0e55c335452"
   },
   "outputs": [],
   "source": [
    "#Selecting three specific dates from qq_loc_2\n",
    "\n",
    "qq = qq_loc_2.sel(time=slice(\"2016-02-11\",\"2016-02-13\"))"
   ]
  },
  {
   "cell_type": "code",
   "execution_count": null,
   "id": "5f778cf1-6675-4e35-9994-5745c62df2cd",
   "metadata": {
    "id": "5f778cf1-6675-4e35-9994-5745c62df2cd"
   },
   "outputs": [],
   "source": [
    "#Displaying the DataArray (qq)\n",
    "\n",
    "qq"
   ]
  },
  {
   "cell_type": "code",
   "execution_count": null,
   "id": "9d06f108-1016-46d0-9747-728e5007bbc5",
   "metadata": {
    "id": "9d06f108-1016-46d0-9747-728e5007bbc5"
   },
   "outputs": [],
   "source": [
    "#Plot of DataArray (qq)\n",
    "\n",
    "qq.plot()"
   ]
  },
  {
   "cell_type": "code",
   "execution_count": null,
   "id": "7046b5a9-6f5b-43a6-8253-bba31b5d8a9e",
   "metadata": {
    "id": "7046b5a9-6f5b-43a6-8253-bba31b5d8a9e"
   },
   "outputs": [],
   "source": [
    "#Boston Location - Latitude & Longitude co-ordinates\n",
    "# identified Location is Near to Boston\n",
    "\n",
    "#H2OSOI variable (location 3)\n",
    "\n",
    "loc_3_H2OSOI=ds.H2OSOI.sel(lat=41.08, lon=243.05, method='nearest')\n",
    "loc_3_H2OSOI"
   ]
  },
  {
   "cell_type": "code",
   "execution_count": null,
   "id": "20e8d987-ec23-4719-af61-8ef3e17af0b6",
   "metadata": {
    "id": "20e8d987-ec23-4719-af61-8ef3e17af0b6"
   },
   "outputs": [],
   "source": [
    "#Boston Location - Latitude & Longitude co-ordinates\n",
    "# identified Location is Near to Boston\n",
    "\n",
    "#DZSOI variable (location 3)\n",
    "\n",
    "loc_3_DZSOI=ds.DZSOI.sel(lat=41.08, lon=243.05, method='nearest')\n",
    "loc_3_DZSOI"
   ]
  },
  {
   "cell_type": "code",
   "execution_count": null,
   "id": "0d98938a-4e8c-49bb-93c3-600abfcacc87",
   "metadata": {
    "id": "0d98938a-4e8c-49bb-93c3-600abfcacc87"
   },
   "outputs": [],
   "source": [
    "#Multiplying H2OSOI and DZSOI variables of Location 3\n",
    "\n",
    "prod_loc_3 = loc_3_H2OSOI * loc_3_DZSOI\n",
    "prod_loc_3"
   ]
  },
  {
   "cell_type": "code",
   "execution_count": null,
   "id": "d4489db0-ba1c-4113-90d9-784cd65b2135",
   "metadata": {
    "id": "d4489db0-ba1c-4113-90d9-784cd65b2135"
   },
   "outputs": [],
   "source": [
    "#Selecting first five values of prod_loc_3\n",
    "\n",
    "rr_loc_3 = prod_loc_3.isel(levsoi=slice(0,5),levgrnd=slice(0,5))"
   ]
  },
  {
   "cell_type": "code",
   "execution_count": null,
   "id": "ffeb277b-df36-44a0-9136-3bfdaf1f39a6",
   "metadata": {
    "id": "ffeb277b-df36-44a0-9136-3bfdaf1f39a6"
   },
   "outputs": [],
   "source": [
    "#Selecting three specific dates from rr_loc_3\n",
    "\n",
    "rr = rr_loc_3.sel(time=slice(\"2016-02-11\",\"2016-02-13\"))"
   ]
  },
  {
   "cell_type": "code",
   "execution_count": null,
   "id": "0f20b517-2edf-401f-a58f-f895527f6ba8",
   "metadata": {
    "id": "0f20b517-2edf-401f-a58f-f895527f6ba8"
   },
   "outputs": [],
   "source": [
    "#Displaying the DataArray (rr)\n",
    "\n",
    "rr"
   ]
  },
  {
   "cell_type": "code",
   "execution_count": null,
   "id": "5df50776-d9e6-485f-add4-ffc960667c3d",
   "metadata": {
    "id": "5df50776-d9e6-485f-add4-ffc960667c3d"
   },
   "outputs": [],
   "source": [
    "#Plot of DataArray (rr)\n",
    "\n",
    "rr.plot()"
   ]
  },
  {
   "cell_type": "code",
   "execution_count": null,
   "id": "55f351a7-8411-43f2-9e2e-f7a3dd9db230",
   "metadata": {
    "id": "55f351a7-8411-43f2-9e2e-f7a3dd9db230"
   },
   "outputs": [],
   "source": [
    "#Villupuram - Latitude & Longitude co-ordinates\n",
    "# identified Location is around VPM\n",
    "\n",
    "#H2OSOI variable (location 4)\n",
    "\n",
    "loc_4_H2OSOI=ds.H2OSOI.sel(lat=11.938066, lon=79.488102, method='nearest')\n",
    "loc_4_H2OSOI"
   ]
  },
  {
   "cell_type": "code",
   "execution_count": null,
   "id": "33b94421-897a-4689-9418-4f09f2d05950",
   "metadata": {
    "id": "33b94421-897a-4689-9418-4f09f2d05950"
   },
   "outputs": [],
   "source": [
    "#Villupuram - Latitude & Longitude co-ordinates\n",
    "# identified Location is around VPM\n",
    "\n",
    "#DZSOI variable (location 4)\n",
    "\n",
    "loc_4_DZSOI=ds.DZSOI.sel(lat=11.938066, lon=79.488102, method='nearest')\n",
    "loc_4_DZSOI"
   ]
  },
  {
   "cell_type": "code",
   "execution_count": null,
   "id": "cb2edf32-ea8d-4fa7-9b5e-8bd76fdf66b3",
   "metadata": {
    "id": "cb2edf32-ea8d-4fa7-9b5e-8bd76fdf66b3"
   },
   "outputs": [],
   "source": [
    "#Multiplying H2OSOI and DZSOI variables of Location 4\n",
    "\n",
    "prod_loc_4 = loc_4_H2OSOI * loc_4_DZSOI\n",
    "prod_loc_4"
   ]
  },
  {
   "cell_type": "code",
   "execution_count": null,
   "id": "0d81b5c0-e2fc-4e3c-949d-cb8748f35800",
   "metadata": {
    "id": "0d81b5c0-e2fc-4e3c-949d-cb8748f35800"
   },
   "outputs": [],
   "source": [
    "#Selecting first five values of prod_loc_4\n",
    "\n",
    "ss_loc_1 = prod_loc_4.isel(levsoi=slice(0,5),levgrnd=slice(0,5))"
   ]
  },
  {
   "cell_type": "code",
   "execution_count": null,
   "id": "02e5a16b-70b7-4d08-9088-bb4fc51b12bb",
   "metadata": {
    "id": "02e5a16b-70b7-4d08-9088-bb4fc51b12bb"
   },
   "outputs": [],
   "source": [
    "#Selecting three specific dates from ss_loc_4\n",
    "\n",
    "ss = ss_loc_1.sel(time=slice(\"2016-02-11\",\"2016-02-13\"))"
   ]
  },
  {
   "cell_type": "code",
   "execution_count": null,
   "id": "9a52a1e1-bf31-4c38-9b2a-f8cdecb3c63b",
   "metadata": {
    "id": "9a52a1e1-bf31-4c38-9b2a-f8cdecb3c63b"
   },
   "outputs": [],
   "source": [
    "#Displaying the DataArray (ss)\n",
    "\n",
    "ss"
   ]
  },
  {
   "cell_type": "code",
   "execution_count": null,
   "id": "24c2ad20-3312-4fa8-b039-d84e46d5a19e",
   "metadata": {
    "id": "24c2ad20-3312-4fa8-b039-d84e46d5a19e"
   },
   "outputs": [],
   "source": [
    "#Plot of DataArray (ss)\n",
    "\n",
    "ss.plot()"
   ]
  },
  {
   "cell_type": "code",
   "execution_count": null,
   "id": "9d6a71cd-af19-43ee-a261-f02bf0ccd42c",
   "metadata": {
    "id": "9d6a71cd-af19-43ee-a261-f02bf0ccd42c"
   },
   "outputs": [],
   "source": [
    "#Plotting the Product values of Location 1 and 2\n",
    "\n",
    "plt.scatter(pp,qq)"
   ]
  },
  {
   "cell_type": "code",
   "execution_count": null,
   "id": "342baf02-ab35-42ce-8af4-9a6ce7e919b8",
   "metadata": {
    "id": "342baf02-ab35-42ce-8af4-9a6ce7e919b8"
   },
   "outputs": [],
   "source": [
    "#Plotting the Product values of Location 2 and 3\n",
    "\n",
    "plt.scatter(qq,rr)"
   ]
  },
  {
   "cell_type": "code",
   "execution_count": null,
   "id": "160054bf-d5ea-48ba-9d16-4e79bee16513",
   "metadata": {
    "id": "160054bf-d5ea-48ba-9d16-4e79bee16513"
   },
   "outputs": [],
   "source": [
    "#Plotting the Product values of Location 3 and 4\n",
    "\n",
    "plt.scatter(rr,ss)"
   ]
  },
  {
   "cell_type": "code",
   "execution_count": null,
   "id": "8dd23183-a415-489c-8993-d918f252720c",
   "metadata": {
    "id": "8dd23183-a415-489c-8993-d918f252720c"
   },
   "outputs": [],
   "source": [
    "#Plotting the Product values of Location 1,2 and 3\n",
    "\n",
    "plt.scatter(pp,qq,rr)"
   ]
  },
  {
   "cell_type": "code",
   "execution_count": null,
   "id": "e98f6331-f6cd-4ba2-b068-05d5293bf5a9",
   "metadata": {
    "id": "e98f6331-f6cd-4ba2-b068-05d5293bf5a9"
   },
   "outputs": [],
   "source": [
    "#Plotting the Product values of all the locations\n",
    "\n",
    "plt.scatter(pp,qq,rr,ss)"
   ]
  },
  {
   "cell_type": "code",
   "execution_count": null,
   "id": "502f62dc-a4a0-4456-8e30-f9dfd5d2b062",
   "metadata": {
    "id": "502f62dc-a4a0-4456-8e30-f9dfd5d2b062"
   },
   "outputs": [],
   "source": [
    "#Los Angels Location - Latitude & Longitude co-ordinates\n",
    "# identified Location is Howe Road, Ventura County, California, 93015\n",
    "\n",
    "#ZSOI variable (location 1)\n",
    "\n",
    "loc_1_ZSOI = ds.ZSOI.sel(lat=34.0522, lon=241.75, method='nearest')"
   ]
  },
  {
   "cell_type": "code",
   "execution_count": null,
   "id": "3a354896-7fea-4515-8190-c543dc98c0fa",
   "metadata": {
    "id": "3a354896-7fea-4515-8190-c543dc98c0fa"
   },
   "outputs": [],
   "source": [
    "#Cheyenne Location - Latitude & Longitude co-ordinates\n",
    "# identified Location is near Cheyenne\n",
    "\n",
    "#ZSOI variable (location 2)\n",
    "\n",
    "loc_2_ZSOI = ds.ZSOI.sel(lat=41.02, lon=244.05, method='nearest')"
   ]
  },
  {
   "cell_type": "code",
   "execution_count": null,
   "id": "1ebf603b-c8f9-41d8-b1ce-c240ed0062f9",
   "metadata": {
    "id": "1ebf603b-c8f9-41d8-b1ce-c240ed0062f9"
   },
   "outputs": [],
   "source": [
    "#Boston Location - Latitude & Longitude co-ordinates\n",
    "# identified Location is near to Boston\n",
    "\n",
    "#ZSOI variable (location 3)\n",
    "\n",
    "loc_3_ZSOI = ds.ZSOI.sel(lat=41.08, lon=243.05, method='nearest')"
   ]
  },
  {
   "cell_type": "code",
   "execution_count": null,
   "id": "216f50dc-6896-4031-8ce6-adb089338ace",
   "metadata": {
    "id": "216f50dc-6896-4031-8ce6-adb089338ace"
   },
   "outputs": [],
   "source": [
    "#Villupuram Location - Latitude & Longitude co-ordinates\n",
    "# identified Location is around VPM\n",
    "\n",
    "#ZSOI variable (location 4)\n",
    "\n",
    "loc_4_ZSOI = ds.ZSOI.sel(lat=11.938066, lon=79.488102, method='nearest')"
   ]
  },
  {
   "cell_type": "code",
   "execution_count": null,
   "id": "f03d43b6-9aaf-4546-a63d-f89a7896618c",
   "metadata": {
    "id": "f03d43b6-9aaf-4546-a63d-f89a7896618c"
   },
   "outputs": [],
   "source": [
    "#Merging the variables (H2OSOI, DZSOI and ZSOI) into a single Dataset (Loc 1)\n",
    "\n",
    "data_1_f1 = xr.merge((loc_1_H2OSOI,loc_1_DZSOI,loc_1_ZSOI), compat='override')"
   ]
  },
  {
   "cell_type": "code",
   "execution_count": null,
   "id": "930d3b1d-6e72-4407-b98b-c18b5ef93331",
   "metadata": {
    "id": "930d3b1d-6e72-4407-b98b-c18b5ef93331"
   },
   "outputs": [],
   "source": [
    "#Displaying the Dataset (Loc 1)\n",
    "\n",
    "data_1_f1"
   ]
  },
  {
   "cell_type": "code",
   "execution_count": null,
   "id": "c7da72e0-d4e5-49bc-ab63-74363f615bb6",
   "metadata": {
    "id": "c7da72e0-d4e5-49bc-ab63-74363f615bb6"
   },
   "outputs": [],
   "source": [
    "dataa_1_mul_50_f1 = data_1_f1 * 50"
   ]
  },
  {
   "cell_type": "code",
   "execution_count": null,
   "id": "c3b79fc2-a18c-4ea0-8ca9-b9c7192b58ce",
   "metadata": {
    "id": "c3b79fc2-a18c-4ea0-8ca9-b9c7192b58ce"
   },
   "outputs": [],
   "source": [
    "dataa_1_mul_50_f1"
   ]
  },
  {
   "cell_type": "code",
   "execution_count": null,
   "id": "8aa07576-e7bf-44b2-9499-e76437be197b",
   "metadata": {
    "id": "8aa07576-e7bf-44b2-9499-e76437be197b"
   },
   "outputs": [],
   "source": [
    "#Creating a DataFrame for the variable H2OSOI (Loc 1)\n",
    "\n",
    "df_loc_1_H2OSOI_f1 = pd.DataFrame(dataa_1_mul_50_f1.H2OSOI)\n",
    "df_loc_1_H2OSOI_f1"
   ]
  },
  {
   "cell_type": "code",
   "execution_count": null,
   "id": "7d2ae93b-000e-4ce3-a8b7-595695cebf41",
   "metadata": {
    "id": "7d2ae93b-000e-4ce3-a8b7-595695cebf41"
   },
   "outputs": [],
   "source": [
    "df_loc_1_H2OSOI_f1_5 = df_loc_1_H2OSOI_f1.iloc[:,:5]  \n",
    "df_loc_1_H2OSOI_f1_5"
   ]
  },
  {
   "cell_type": "code",
   "execution_count": null,
   "id": "1fe07cf3-513b-4e90-af79-b35e1fce042e",
   "metadata": {
    "id": "1fe07cf3-513b-4e90-af79-b35e1fce042e"
   },
   "outputs": [],
   "source": [
    "df_loc_1_H2OSOI_f1_5_mean = df_loc_1_H2OSOI_f1_5.mean(axis = 1, skipna = True)\n",
    "df_loc_1_H2OSOI_f1_5_mean"
   ]
  },
  {
   "cell_type": "code",
   "execution_count": null,
   "id": "19486631-1a0a-45ac-a402-cebbe82ea42b",
   "metadata": {
    "id": "19486631-1a0a-45ac-a402-cebbe82ea42b"
   },
   "outputs": [],
   "source": [
    "#Plotting the H2OSOI variable DataFrame (Loc 1) using line plot function\n",
    "\n",
    "df_loc_1_H2OSOI_f1_5_mean.plot(kind='line')\n",
    "plt.xlabel(\"Time\",size=15)\n",
    "plt.ylabel(\"Levsoi\",size=15)\n",
    "plt.title(\"H2OSOI - Volumetric Soil Water (Loc 1)\\nlat=34.4, lon=241.2\",size=20)"
   ]
  },
  {
   "cell_type": "code",
   "execution_count": null,
   "id": "cbb0ebe6-4290-4a50-a00e-e2aecfeb6f3b",
   "metadata": {
    "id": "cbb0ebe6-4290-4a50-a00e-e2aecfeb6f3b"
   },
   "outputs": [],
   "source": [
    "#Creating a DataFrame for the DZSOI variable (Loc 1)\n",
    "\n",
    "df_loc_1_DZSOI_f1 = pd.DataFrame(dataa_1_mul_50_f1.DZSOI)\n",
    "df_loc_1_DZSOI_f1"
   ]
  },
  {
   "cell_type": "code",
   "execution_count": null,
   "id": "6c1089b4-51ba-4ef2-b04f-63473170c332",
   "metadata": {
    "id": "6c1089b4-51ba-4ef2-b04f-63473170c332"
   },
   "outputs": [],
   "source": [
    "#Plotting the DZSOI variable DataFrame (Loc 1) using plot() function\n",
    "\n",
    "df_loc_1_DZSOI_f1.plot()"
   ]
  },
  {
   "cell_type": "code",
   "execution_count": null,
   "id": "b9be5530-780c-482e-8c91-ecd623e7ac11",
   "metadata": {
    "id": "b9be5530-780c-482e-8c91-ecd623e7ac11"
   },
   "outputs": [],
   "source": [
    "#Creating a DataFrame for the ZSOI variable (Loc 1)\n",
    "\n",
    "df_loc_1_ZSOI_f1 = pd.DataFrame(dataa_1_mul_50_f1.ZSOI)\n",
    "df_loc_1_ZSOI_f1"
   ]
  },
  {
   "cell_type": "code",
   "execution_count": null,
   "id": "92266e50-8db1-45dd-8d58-cc299b4663dc",
   "metadata": {
    "id": "92266e50-8db1-45dd-8d58-cc299b4663dc"
   },
   "outputs": [],
   "source": [
    "#Plotting the ZSOI variable DataFrame (Loc 1) using plot() function\n",
    "\n",
    "df_loc_1_ZSOI_f1.plot()"
   ]
  },
  {
   "cell_type": "code",
   "execution_count": null,
   "id": "b8f7fc21-0427-4c9a-a776-6c6967efcb9f",
   "metadata": {
    "id": "b8f7fc21-0427-4c9a-a776-6c6967efcb9f"
   },
   "outputs": [],
   "source": [
    "#Concatenating the DataFrames of DZSOI and ZSOI variables into a Single DataFrame (Loc 1)\n",
    "\n",
    "df_merged_loc_1 = pd.concat([df_loc_1_DZSOI_f1, df_loc_1_ZSOI_f1], axis=1, join=\"inner\")"
   ]
  },
  {
   "cell_type": "code",
   "execution_count": null,
   "id": "eb33e9d1-37af-4627-9ba4-c243365021a6",
   "metadata": {
    "id": "eb33e9d1-37af-4627-9ba4-c243365021a6"
   },
   "outputs": [],
   "source": [
    "#Changing the column names of the Single DataFrame (Loc 1)\n",
    "\n",
    "df_merged_loc_1.columns = ['Levgrnd_DZSOI (Loc 1)', 'Levgrnd_ZSOI (Loc 1)']"
   ]
  },
  {
   "cell_type": "code",
   "execution_count": null,
   "id": "e58e53d2-f0aa-44ef-932b-01b89eaa6455",
   "metadata": {
    "id": "e58e53d2-f0aa-44ef-932b-01b89eaa6455"
   },
   "outputs": [],
   "source": [
    "#Displaying the Single DataFrame (Loc 1)\n",
    "\n",
    "df_merged_loc_1"
   ]
  },
  {
   "cell_type": "code",
   "execution_count": null,
   "id": "6de9fb89-fdd6-4669-9c87-20edc96ddab9",
   "metadata": {
    "id": "6de9fb89-fdd6-4669-9c87-20edc96ddab9"
   },
   "outputs": [],
   "source": [
    "#Plotting the Single DataFrame (Loc 1) using plot function \n",
    "\n",
    "df_merged_loc_1.plot()\n",
    "plt.xlabel(\"Levgrnd_DZSOI (Loc 1)\",size=15)\n",
    "#plt.xlim(0,25)\n",
    "plt.ylabel(\"Levgrnd_ZSOI (Loc 1)\",size=15)\n",
    "#plt.ylim(0,50)\n",
    "plt.title(\"DZSOI vs ZSOI (Loc 1)\\nlat=34.4, lon=241.2\",size=20)"
   ]
  },
  {
   "cell_type": "code",
   "execution_count": null,
   "id": "7b4f3518-64f6-441a-9e99-ea62c2b2946c",
   "metadata": {
    "id": "7b4f3518-64f6-441a-9e99-ea62c2b2946c"
   },
   "outputs": [],
   "source": [
    "#Plotting the Single DataFrame (Loc 1) using bar plot function \n",
    "\n",
    "df_merged_loc_1.plot(kind='bar')\n",
    "plt.xlabel(\"Levgrnd_DZSOI (Loc 1)\",size=15)\n",
    "#plt.xlim(0,25)\n",
    "plt.ylabel(\"Levgrnd_ZSOI (Loc 1)\",size=15)\n",
    "#plt.ylim(0,50)\n",
    "plt.title(\"DZSOI vs ZSOI (Loc 1)\\nlat=34.4, lon=241.2\",size=20)"
   ]
  },
  {
   "cell_type": "code",
   "execution_count": null,
   "id": "80506f06-a9d5-4bcf-b96b-3125e5229e2b",
   "metadata": {
    "id": "80506f06-a9d5-4bcf-b96b-3125e5229e2b"
   },
   "outputs": [],
   "source": [
    "#Plotting the Single DataFrame (Loc 1) using scatter function \n",
    "\n",
    "df_merged_loc_1.plot(kind='scatter',x='Levgrnd_DZSOI (Loc 1)',y='Levgrnd_ZSOI (Loc 1)')\n",
    "plt.xlabel(\"Levgrnd_DZSOI (Loc 1)\",size=15)\n",
    "#plt.xlim(0,25)\n",
    "plt.ylabel(\"Levgrnd_ZSOI (Loc 1)\",size=15)\n",
    "#plt.ylim(0,50)\n",
    "plt.title(\"DZSOI vs ZSOI (Loc 1)\\nlat=34.4, lon=241.2\",size=20)"
   ]
  },
  {
   "cell_type": "code",
   "execution_count": null,
   "id": "fd64e49e-e6c9-4119-aec2-1a58123a263e",
   "metadata": {
    "id": "fd64e49e-e6c9-4119-aec2-1a58123a263e"
   },
   "outputs": [],
   "source": [
    "#Merging the variables (H2OSOI, DZSOI and ZSOI) into a single Dataset (Loc 2)\n",
    "\n",
    "data_2_f1 = xr.merge((loc_2_H2OSOI,loc_2_DZSOI,loc_2_ZSOI), compat='override')"
   ]
  },
  {
   "cell_type": "code",
   "execution_count": null,
   "id": "ce9aaa02-cc09-44bc-ac24-ce2063654630",
   "metadata": {
    "id": "ce9aaa02-cc09-44bc-ac24-ce2063654630"
   },
   "outputs": [],
   "source": [
    "#Displaying the Dataset (Loc 2)\n",
    "\n",
    "data_2_f1"
   ]
  },
  {
   "cell_type": "code",
   "execution_count": null,
   "id": "dee9c80a-c731-491d-bb32-c8ba5420a7a6",
   "metadata": {
    "id": "dee9c80a-c731-491d-bb32-c8ba5420a7a6"
   },
   "outputs": [],
   "source": [
    "data_2_mul_50_f1 = data_2_f1 * 50"
   ]
  },
  {
   "cell_type": "code",
   "execution_count": null,
   "id": "e66f811f-893e-4154-a0fa-7fb8e461cc7f",
   "metadata": {
    "id": "e66f811f-893e-4154-a0fa-7fb8e461cc7f"
   },
   "outputs": [],
   "source": [
    "data_2_mul_50_f1"
   ]
  },
  {
   "cell_type": "code",
   "execution_count": null,
   "id": "ac80b476-599c-405e-9a96-2e3ab86b058c",
   "metadata": {
    "id": "ac80b476-599c-405e-9a96-2e3ab86b058c"
   },
   "outputs": [],
   "source": [
    "#Creating a DataFrame for the variable H2OSOI (Loc 2)\n",
    "\n",
    "df_loc_2_H2OSOI_f1 = pd.DataFrame(data_2_mul_50_f1.H2OSOI)\n",
    "df_loc_2_H2OSOI_f1"
   ]
  },
  {
   "cell_type": "code",
   "execution_count": null,
   "id": "86656497-85ce-4c3f-8542-a6d3d25176d6",
   "metadata": {
    "id": "86656497-85ce-4c3f-8542-a6d3d25176d6"
   },
   "outputs": [],
   "source": [
    "df_loc_2_H2OSOI_f1_5 = df_loc_2_H2OSOI_f1.iloc[:,:5]\n",
    "df_loc_2_H2OSOI_f1_5"
   ]
  },
  {
   "cell_type": "code",
   "execution_count": null,
   "id": "9226f7d1-d552-4c92-b990-0cb44646cc9e",
   "metadata": {
    "id": "9226f7d1-d552-4c92-b990-0cb44646cc9e"
   },
   "outputs": [],
   "source": [
    "df_loc_2_H2OSOI_f1_5_mean = df_loc_2_H2OSOI_f1_5.mean(axis = 1, skipna = True)\n",
    "df_loc_2_H2OSOI_f1_5_mean"
   ]
  },
  {
   "cell_type": "code",
   "execution_count": null,
   "id": "9ce7bdd4-53c2-46f7-8918-f778dc95cbea",
   "metadata": {
    "id": "9ce7bdd4-53c2-46f7-8918-f778dc95cbea"
   },
   "outputs": [],
   "source": [
    "#Plotting the H2OSOI variable DataFrame (Loc 2) using line plot function\n",
    "\n",
    "df_loc_2_H2OSOI_f1_5_mean.plot(kind='line')\n",
    "plt.xlabel(\"Time\",size=15)\n",
    "plt.ylabel(\"Levsoi\",size=15)\n",
    "plt.title(\"H2OSOI - Volumetric Soil Water (Loc 2)\\nlat=40.99, lon=243.8\",size=20)"
   ]
  },
  {
   "cell_type": "code",
   "execution_count": null,
   "id": "0327ba40-7ccc-4745-8208-c9629ac85473",
   "metadata": {
    "id": "0327ba40-7ccc-4745-8208-c9629ac85473"
   },
   "outputs": [],
   "source": [
    "#Merging the variables (H2OSOI, DZSOI and ZSOI) into a single Dataset (Loc 3)\n",
    "\n",
    "data_3_f1 = xr.merge((loc_3_H2OSOI,loc_3_DZSOI,loc_3_ZSOI), compat='override')"
   ]
  },
  {
   "cell_type": "code",
   "execution_count": null,
   "id": "6a9df3d6-27cd-4797-b698-ff273ab79744",
   "metadata": {
    "id": "6a9df3d6-27cd-4797-b698-ff273ab79744"
   },
   "outputs": [],
   "source": [
    "#Displaying the Dataset (Loc 3)\n",
    "\n",
    "data_3_f1"
   ]
  },
  {
   "cell_type": "code",
   "execution_count": null,
   "id": "e2cbb916-da39-4af7-9cbd-21df7496d703",
   "metadata": {
    "id": "e2cbb916-da39-4af7-9cbd-21df7496d703"
   },
   "outputs": [],
   "source": [
    "data_3_mul_50_f1 = data_3_f1 * 50\n",
    "data_3_mul_50_f1"
   ]
  },
  {
   "cell_type": "code",
   "execution_count": null,
   "id": "7f7e6014-270b-47ff-95f3-69c788ed89db",
   "metadata": {
    "id": "7f7e6014-270b-47ff-95f3-69c788ed89db"
   },
   "outputs": [],
   "source": [
    "#Creating a DataFrame for the variable H2OSOI (Loc 3)\n",
    "\n",
    "df_loc_3_H2OSOI_f1 = pd.DataFrame(data_3_mul_50_f1.H2OSOI)\n",
    "df_loc_3_H2OSOI_f1"
   ]
  },
  {
   "cell_type": "code",
   "execution_count": null,
   "id": "bd2b72ef-b336-4ba6-bd2e-19dfe5febd85",
   "metadata": {
    "id": "bd2b72ef-b336-4ba6-bd2e-19dfe5febd85"
   },
   "outputs": [],
   "source": [
    "df_loc_3_H2OSOI_f1_5 = df_loc_3_H2OSOI_f1.iloc[:,:5]\n",
    "df_loc_3_H2OSOI_f1_5"
   ]
  },
  {
   "cell_type": "code",
   "execution_count": null,
   "id": "07a95357-2d9e-4af7-ab27-4faee2191909",
   "metadata": {
    "id": "07a95357-2d9e-4af7-ab27-4faee2191909"
   },
   "outputs": [],
   "source": [
    "df_loc_3_H2OSOI_f1_5_mean = df_loc_3_H2OSOI_f1_5.mean(axis = 1, skipna = True)\n",
    "df_loc_3_H2OSOI_f1_5_mean"
   ]
  },
  {
   "cell_type": "code",
   "execution_count": null,
   "id": "678d4d97-f71a-4775-8d50-6a860728562b",
   "metadata": {
    "id": "678d4d97-f71a-4775-8d50-6a860728562b"
   },
   "outputs": [],
   "source": [
    "#Plotting the H2OSOI variable DataFrame (Loc 3) using line plot function\n",
    "\n",
    "df_loc_3_H2OSOI_f1_5_mean.plot(kind='line')\n",
    "plt.xlabel(\"Time\",size=15)\n",
    "plt.ylabel(\"Levsoi\",size=15)\n",
    "plt.title(\"H2OSOI - Volumetric Soil Water (Loc 3)\\nlat=40.99, lon=242.5\",size=20)"
   ]
  },
  {
   "cell_type": "code",
   "execution_count": null,
   "id": "3c42deda-bfd7-404a-b56f-b00dee6ea705",
   "metadata": {
    "id": "3c42deda-bfd7-404a-b56f-b00dee6ea705"
   },
   "outputs": [],
   "source": [
    "#Merging the variables (H2OSOI, DZSOI and ZSOI) into a single Dataset (Loc 4)\n",
    "\n",
    "data_4_f1 = xr.merge((loc_4_H2OSOI,loc_4_DZSOI,loc_4_ZSOI), compat='override')"
   ]
  },
  {
   "cell_type": "code",
   "execution_count": null,
   "id": "8abdbad9-e5e5-4b36-a107-24bc1cb45615",
   "metadata": {
    "id": "8abdbad9-e5e5-4b36-a107-24bc1cb45615"
   },
   "outputs": [],
   "source": [
    "#Displaying the Dataset (Loc 4)\n",
    "\n",
    "data_4_f1"
   ]
  },
  {
   "cell_type": "code",
   "execution_count": null,
   "id": "a02fb7ae-eb35-4310-ac9a-b2eb3aed8124",
   "metadata": {
    "id": "a02fb7ae-eb35-4310-ac9a-b2eb3aed8124"
   },
   "outputs": [],
   "source": [
    "data_4_mul_50_f1 = data_4_f1 * 50\n",
    "data_4_mul_50_f1"
   ]
  },
  {
   "cell_type": "code",
   "execution_count": null,
   "id": "e8d190b8-85b9-423b-8b32-cdd09d817f02",
   "metadata": {
    "id": "e8d190b8-85b9-423b-8b32-cdd09d817f02"
   },
   "outputs": [],
   "source": [
    "#Creating a DataFrame for the variable H2OSOI (Loc 4)\n",
    "\n",
    "df_loc_4_H2OSOI_f1 = pd.DataFrame(data_4_mul_50_f1.H2OSOI)\n",
    "df_loc_4_H2OSOI_f1"
   ]
  },
  {
   "cell_type": "code",
   "execution_count": null,
   "id": "b6e76f04-9fa2-4872-9180-3461c58574fb",
   "metadata": {
    "id": "b6e76f04-9fa2-4872-9180-3461c58574fb"
   },
   "outputs": [],
   "source": [
    "df_loc_4_H2OSOI_f1_5 = df_loc_4_H2OSOI_f1.iloc[:,:5]\n",
    "df_loc_4_H2OSOI_f1_5"
   ]
  },
  {
   "cell_type": "code",
   "execution_count": null,
   "id": "0c3eb93e-d9ed-4e19-bf38-4635e21d3b26",
   "metadata": {
    "id": "0c3eb93e-d9ed-4e19-bf38-4635e21d3b26"
   },
   "outputs": [],
   "source": [
    "df_loc_4_H2OSOI_f1_5_mean = df_loc_4_H2OSOI_f1_5.mean(axis = 1, skipna = True)\n",
    "df_loc_4_H2OSOI_f1_5_mean"
   ]
  },
  {
   "cell_type": "code",
   "execution_count": null,
   "id": "b599018c-ca6c-42b1-af98-8e923e6fedde",
   "metadata": {
    "id": "b599018c-ca6c-42b1-af98-8e923e6fedde"
   },
   "outputs": [],
   "source": [
    "#Plotting the H2OSOI variable DataFrame (Loc 4) using line plot function\n",
    "\n",
    "df_loc_4_H2OSOI_f1_5_mean.plot(kind='line')\n",
    "plt.xlabel(\"Time\",size=15)\n",
    "plt.ylabel(\"Levsoi\",size=15)\n",
    "plt.title(\"H2OSOI - Volumetric Soil Water (Loc 4)\\nlat=11.78, lon=80.0\",size=20)"
   ]
  },
  {
   "cell_type": "code",
   "execution_count": null,
   "id": "dc4e25aa-73fe-4fb0-aa3a-d37bf3030028",
   "metadata": {
    "id": "dc4e25aa-73fe-4fb0-aa3a-d37bf3030028"
   },
   "outputs": [],
   "source": [
    "#Plotting the H2OSOI variable DataFrame for all locations using line plot function\n",
    "\n",
    "df_loc_1_H2OSOI_f1_5_mean.plot(kind='line', label = 'Loc 1')\n",
    "df_loc_2_H2OSOI_f1_5_mean.plot(kind='line', label = 'Loc 2')\n",
    "df_loc_3_H2OSOI_f1_5_mean.plot(kind='line', label = 'Loc 3')\n",
    "df_loc_4_H2OSOI_f1_5_mean.plot(kind='line', label = 'Loc 4')\n",
    "plt.xlabel(\"Time (46 days)\",size=15)\n",
    "plt.ylabel(\"Levsoi\",size=15)\n",
    "plt.title(\"H2OSOI - Volumetric Soil Water - 2016\",size=20)\n",
    "plt.legend(title= 'Location', title_fontsize = 15, prop = {'size' : 10},  bbox_to_anchor= (1, 1));"
   ]
  },
  {
   "cell_type": "code",
   "execution_count": null,
   "id": "d6f278f3-9f62-42d9-9e8d-5bf6d37ffd5e",
   "metadata": {
    "id": "d6f278f3-9f62-42d9-9e8d-5bf6d37ffd5e"
   },
   "outputs": [],
   "source": [
    "ds_f2 = xr.open_dataset(\"cesm2cam6v2.2017-01-23.09.clm2.h0.2017-01-23-00000.nc\", engine=\"netcdf4\")"
   ]
  },
  {
   "cell_type": "code",
   "execution_count": null,
   "id": "ebc37e37-2b8e-46ce-b91e-af930c185ef9",
   "metadata": {
    "id": "ebc37e37-2b8e-46ce-b91e-af930c185ef9"
   },
   "outputs": [],
   "source": [
    "ds_f2"
   ]
  },
  {
   "cell_type": "code",
   "execution_count": null,
   "id": "7412dd9d-ec85-4905-8171-63989f0066fd",
   "metadata": {
    "id": "7412dd9d-ec85-4905-8171-63989f0066fd"
   },
   "outputs": [],
   "source": [
    "#Los Angels Location - Latitude & Longitude co-ordinates\n",
    "# identified Location is Howe Road, Ventura County, California, 93015\n",
    "\n",
    "loc_1_H2OSOI_f2=ds_f2.H2OSOI.sel(lat=34.0522, lon=241.75, method='nearest')\n",
    "loc_1_DZSOI_f2=ds_f2.DZSOI.sel(lat=34.0522, lon=241.75, method='nearest')\n",
    "loc_1_ZSOI_f2 = ds_f2.ZSOI.sel(lat=34.0522, lon=241.75, method='nearest')\n",
    "\n",
    "#Cheyenne Location - Latitude & Longitude co-ordinates\n",
    "# identified Location is near Cheyenne\n",
    "\n",
    "loc_2_H2OSOI_f2=ds_f2.H2OSOI.sel(lat=41.02, lon=244.05, method='nearest')\n",
    "loc_2_DZSOI_f2=ds_f2.DZSOI.sel(lat=41.02, lon=244.05, method='nearest')\n",
    "loc_2_ZSOI_f2 = ds_f2.ZSOI.sel(lat=41.02, lon=244.05, method='nearest')\n",
    "\n",
    "#Boston Location - Latitude & Longitude co-ordinates\n",
    "# identified Location is Near to Boston\n",
    "\n",
    "loc_3_H2OSOI_f2=ds_f2.H2OSOI.sel(lat=41.08, lon=243.05, method='nearest')\n",
    "loc_3_DZSOI_f2=ds_f2.DZSOI.sel(lat=41.08, lon=243.05, method='nearest')\n",
    "loc_3_ZSOI_f2 = ds_f2.ZSOI.sel(lat=41.08, lon=243.05, method='nearest')\n",
    "\n",
    "#Villupuram - Latitude & Longitude co-ordinates\n",
    "# identified Location is around VPM\n",
    "\n",
    "loc_4_H2OSOI_f2=ds_f2.H2OSOI.sel(lat=11.938066, lon=79.488102, method='nearest')\n",
    "loc_4_DZSOI_f2=ds_f2.DZSOI.sel(lat=11.938066, lon=79.488102, method='nearest')\n",
    "loc_4_ZSOI_f2 = ds_f2.ZSOI.sel(lat=11.938066, lon=79.488102, method='nearest')"
   ]
  },
  {
   "cell_type": "code",
   "execution_count": null,
   "id": "018d3cc4-6fff-4e89-9707-470bd9b9b378",
   "metadata": {
    "id": "018d3cc4-6fff-4e89-9707-470bd9b9b378"
   },
   "outputs": [],
   "source": [
    "#Merging the variables (H2OSOI, DZSOI and ZSOI) into a single Dataset (Loc 1)\n",
    "data_1_f2 = xr.merge((loc_1_H2OSOI_f2,loc_1_DZSOI_f2,loc_1_ZSOI_f2), compat='override')\n",
    "data_1_f2"
   ]
  },
  {
   "cell_type": "code",
   "execution_count": null,
   "id": "efb84d63-6a3d-40cb-a0f1-f05835a91026",
   "metadata": {
    "id": "efb84d63-6a3d-40cb-a0f1-f05835a91026"
   },
   "outputs": [],
   "source": [
    "dataa_1_f2_mul_50 = data_1_f2 * 50\n",
    "dataa_1_f2_mul_50"
   ]
  },
  {
   "cell_type": "code",
   "execution_count": null,
   "id": "75bff889-2709-4242-803f-3f666d04c9ad",
   "metadata": {
    "id": "75bff889-2709-4242-803f-3f666d04c9ad"
   },
   "outputs": [],
   "source": [
    "#Creating a DataFrame for the variable H2OSOI (Loc 1)\n",
    "df_loc_1_H2OSOI_f2 = pd.DataFrame(dataa_1_f2_mul_50.H2OSOI)\n",
    "df_loc_1_H2OSOI_f2"
   ]
  },
  {
   "cell_type": "code",
   "execution_count": null,
   "id": "7b84a426-ecea-40c0-b297-b106ed1e35cf",
   "metadata": {
    "id": "7b84a426-ecea-40c0-b297-b106ed1e35cf"
   },
   "outputs": [],
   "source": [
    "df_loc_1_H2OSOI_f2_5 = df_loc_1_H2OSOI_f2.iloc[:,:5]  \n",
    "df_loc_1_H2OSOI_f2_5"
   ]
  },
  {
   "cell_type": "code",
   "execution_count": null,
   "id": "c34785c9-5d5a-41fa-bab3-73bf4eef4afe",
   "metadata": {
    "id": "c34785c9-5d5a-41fa-bab3-73bf4eef4afe"
   },
   "outputs": [],
   "source": [
    "df_loc_1_H2OSOI_f2_5_mean = df_loc_1_H2OSOI_f2_5.mean(axis = 1, skipna = True)\n",
    "df_loc_1_H2OSOI_f2_5_mean"
   ]
  },
  {
   "cell_type": "code",
   "execution_count": null,
   "id": "2cbf58c0-b25b-4ee7-8149-f1fcc10eba5b",
   "metadata": {
    "id": "2cbf58c0-b25b-4ee7-8149-f1fcc10eba5b"
   },
   "outputs": [],
   "source": [
    "#Plotting the H2OSOI variable DataFrame (Loc 1) using line plot function\n",
    "df_loc_1_H2OSOI_f2_5_mean.plot(kind='line')\n",
    "plt.xlabel(\"Time\",size=15)\n",
    "plt.ylabel(\"Levsoi\",size=15)\n",
    "plt.title(\"H2OSOI - Volumetric Soil Water (Loc 1) - 2017 \\nlat=34.4, lon=241.2\",size=20)"
   ]
  },
  {
   "cell_type": "code",
   "execution_count": null,
   "id": "4660f11d-cd4e-4fd2-8c8d-c78dca723dd4",
   "metadata": {
    "id": "4660f11d-cd4e-4fd2-8c8d-c78dca723dd4"
   },
   "outputs": [],
   "source": [
    "#Merging the variables (H2OSOI, DZSOI and ZSOI) into a single Dataset (Loc 2)\n",
    "data_2_f2 = xr.merge((loc_2_H2OSOI_f2,loc_2_DZSOI_f2,loc_2_ZSOI_f2), compat='override')\n",
    "data_2_f2"
   ]
  },
  {
   "cell_type": "code",
   "execution_count": null,
   "id": "3d19e4e7-1887-4187-b430-d1338ff893a3",
   "metadata": {
    "id": "3d19e4e7-1887-4187-b430-d1338ff893a3"
   },
   "outputs": [],
   "source": [
    "data_2_mul_50_f2 = data_2_f2 * 50\n",
    "data_2_mul_50_f2"
   ]
  },
  {
   "cell_type": "code",
   "execution_count": null,
   "id": "5243e3ec-2fc0-4a03-b430-bff9714ac95b",
   "metadata": {
    "id": "5243e3ec-2fc0-4a03-b430-bff9714ac95b"
   },
   "outputs": [],
   "source": [
    "#Creating a DataFrame for the variable H2OSOI (Loc 2)\n",
    "df_loc_2_H2OSOI_f2 = pd.DataFrame(data_2_mul_50_f2.H2OSOI)\n",
    "df_loc_2_H2OSOI_f2"
   ]
  },
  {
   "cell_type": "code",
   "execution_count": null,
   "id": "18225e1b-3a66-411d-8b0d-7bc221314474",
   "metadata": {
    "id": "18225e1b-3a66-411d-8b0d-7bc221314474"
   },
   "outputs": [],
   "source": [
    "df_loc_2_H2OSOI_f2_5 = df_loc_2_H2OSOI_f2.iloc[:,:5]\n",
    "df_loc_2_H2OSOI_f2_5"
   ]
  },
  {
   "cell_type": "code",
   "execution_count": null,
   "id": "cebe3b39-7ace-4658-894b-035cd3038076",
   "metadata": {
    "id": "cebe3b39-7ace-4658-894b-035cd3038076"
   },
   "outputs": [],
   "source": [
    "df_loc_2_H2OSOI_f2_5_mean = df_loc_2_H2OSOI_f2_5.mean(axis = 1, skipna = True)\n",
    "df_loc_2_H2OSOI_f2_5_mean"
   ]
  },
  {
   "cell_type": "code",
   "execution_count": null,
   "id": "30d5747d-b40c-4548-a8b1-e467ccac8c2b",
   "metadata": {
    "id": "30d5747d-b40c-4548-a8b1-e467ccac8c2b"
   },
   "outputs": [],
   "source": [
    "#Plotting the H2OSOI variable DataFrame (Loc 2) using line plot function\n",
    "df_loc_2_H2OSOI_f2_5_mean.plot(kind='line')\n",
    "plt.xlabel(\"Time\",size=15)\n",
    "plt.ylabel(\"Levsoi\",size=15)\n",
    "plt.title(\"H2OSOI - Volumetric Soil Water (Loc 1) - 2017 \\nlat=40.99, lon=243.8\",size=20)"
   ]
  },
  {
   "cell_type": "code",
   "execution_count": null,
   "id": "bb352988-3eb8-4cb2-9e5d-4818bdd9173b",
   "metadata": {
    "id": "bb352988-3eb8-4cb2-9e5d-4818bdd9173b"
   },
   "outputs": [],
   "source": [
    "#Merging the variables (H2OSOI, DZSOI and ZSOI) into a single Dataset (Loc 3)\n",
    "data_3_f2 = xr.merge((loc_3_H2OSOI_f2,loc_3_DZSOI_f2,loc_3_ZSOI_f2), compat='override')\n",
    "data_3_f2"
   ]
  },
  {
   "cell_type": "code",
   "execution_count": null,
   "id": "fbb505e4-4fde-4477-b4e9-5dfce00465f5",
   "metadata": {
    "id": "fbb505e4-4fde-4477-b4e9-5dfce00465f5"
   },
   "outputs": [],
   "source": [
    "data_3_mul_50_f2 = data_3_f2 * 50\n",
    "data_3_mul_50_f2"
   ]
  },
  {
   "cell_type": "code",
   "execution_count": null,
   "id": "b4c056c6-a1e7-441f-9841-8d1a8fab07ab",
   "metadata": {
    "id": "b4c056c6-a1e7-441f-9841-8d1a8fab07ab"
   },
   "outputs": [],
   "source": [
    "#Creating a DataFrame for the variable H2OSOI (Loc 3)\n",
    "df_loc_3_H2OSOI_f2 = pd.DataFrame(data_3_mul_50_f2.H2OSOI)\n",
    "df_loc_3_H2OSOI_f2"
   ]
  },
  {
   "cell_type": "code",
   "execution_count": null,
   "id": "3e9d48dc-dbdb-45b3-b3ef-f8fd292fabb1",
   "metadata": {
    "id": "3e9d48dc-dbdb-45b3-b3ef-f8fd292fabb1"
   },
   "outputs": [],
   "source": [
    "df_loc_3_H2OSOI_f2_5 = df_loc_3_H2OSOI_f2.iloc[:,:5]\n",
    "df_loc_3_H2OSOI_f2_5"
   ]
  },
  {
   "cell_type": "code",
   "execution_count": null,
   "id": "8670b596-97ac-4009-bed7-b449a6619368",
   "metadata": {
    "id": "8670b596-97ac-4009-bed7-b449a6619368"
   },
   "outputs": [],
   "source": [
    "df_loc_3_H2OSOI_f2_5_mean = df_loc_3_H2OSOI_f2_5.mean(axis = 1, skipna = True)\n",
    "df_loc_3_H2OSOI_f2_5_mean"
   ]
  },
  {
   "cell_type": "code",
   "execution_count": null,
   "id": "650461eb-411f-4aa6-82e8-9c70c2504afe",
   "metadata": {
    "id": "650461eb-411f-4aa6-82e8-9c70c2504afe"
   },
   "outputs": [],
   "source": [
    "#Plotting the H2OSOI variable DataFrame (Loc 3) using line plot function\n",
    "df_loc_3_H2OSOI_f2_5_mean.plot(kind='line')\n",
    "plt.xlabel(\"Time\",size=15)\n",
    "plt.ylabel(\"Levsoi\",size=15)\n",
    "plt.title(\"H2OSOI - Volumetric Soil Water (Loc 1) - 2017 \\nlat=40.99, lon=242.5\",size=20)"
   ]
  },
  {
   "cell_type": "code",
   "execution_count": null,
   "id": "1b726052-2a64-4aa0-9fe2-56295fc28212",
   "metadata": {
    "id": "1b726052-2a64-4aa0-9fe2-56295fc28212"
   },
   "outputs": [],
   "source": [
    "#Merging the variables (H2OSOI, DZSOI and ZSOI) into a single Dataset (Loc 4)\n",
    "data_4_f2 = xr.merge((loc_4_H2OSOI_f2,loc_4_DZSOI_f2,loc_4_ZSOI_f2), compat='override')\n",
    "data_4_f2"
   ]
  },
  {
   "cell_type": "code",
   "execution_count": null,
   "id": "6e226f22-ddd0-44ce-8065-6af02290395a",
   "metadata": {
    "id": "6e226f22-ddd0-44ce-8065-6af02290395a"
   },
   "outputs": [],
   "source": [
    "data_4_mul_50_f2 = data_4_f2 * 50\n",
    "data_4_mul_50_f2"
   ]
  },
  {
   "cell_type": "code",
   "execution_count": null,
   "id": "3eb7661f-0b06-40bd-a1e1-229bd1867aef",
   "metadata": {
    "id": "3eb7661f-0b06-40bd-a1e1-229bd1867aef"
   },
   "outputs": [],
   "source": [
    "#Creating a DataFrame for the variable H2OSOI (Loc 4)\n",
    "df_loc_4_H2OSOI_f2 = pd.DataFrame(data_4_mul_50_f2.H2OSOI)\n",
    "df_loc_4_H2OSOI_f2"
   ]
  },
  {
   "cell_type": "code",
   "execution_count": null,
   "id": "2dfb4903-bdc8-4cdd-8403-da5c75f05c14",
   "metadata": {
    "id": "2dfb4903-bdc8-4cdd-8403-da5c75f05c14"
   },
   "outputs": [],
   "source": [
    "df_loc_4_H2OSOI_f2_5 = df_loc_4_H2OSOI_f2.iloc[:,:5]\n",
    "df_loc_4_H2OSOI_f2_5"
   ]
  },
  {
   "cell_type": "code",
   "execution_count": null,
   "id": "adb8f4aa-786b-4a89-b9e2-11ed65ae5bde",
   "metadata": {
    "id": "adb8f4aa-786b-4a89-b9e2-11ed65ae5bde"
   },
   "outputs": [],
   "source": [
    "df_loc_4_H2OSOI_f2_5_mean = df_loc_4_H2OSOI_f2_5.mean(axis = 1, skipna = True)\n",
    "df_loc_4_H2OSOI_f2_5_mean"
   ]
  },
  {
   "cell_type": "code",
   "execution_count": null,
   "id": "34b7c612-d069-43b2-a2db-fc971521387f",
   "metadata": {
    "id": "34b7c612-d069-43b2-a2db-fc971521387f"
   },
   "outputs": [],
   "source": [
    "#Plotting the H2OSOI variable DataFrame (Loc 4) using line plot function\n",
    "df_loc_4_H2OSOI_f2_5_mean.plot(kind='line')\n",
    "plt.xlabel(\"Time\",size=15)\n",
    "plt.ylabel(\"Levsoi\",size=15)\n",
    "plt.title(\"H2OSOI - Volumetric Soil Water (Loc 1) - 2017 \\nlat=11.78, lon=80.0\",size=20)"
   ]
  },
  {
   "cell_type": "code",
   "execution_count": null,
   "id": "4f2fbefd-9def-4fa3-a664-2f204745b9fd",
   "metadata": {
    "id": "4f2fbefd-9def-4fa3-a664-2f204745b9fd"
   },
   "outputs": [],
   "source": [
    "#Plotting the H2OSOI variable DataFrame for all locations using line plot function\n",
    "df_loc_1_H2OSOI_f2_5_mean.plot(kind='line', label = 'Loc 1')\n",
    "df_loc_2_H2OSOI_f2_5_mean.plot(kind='line', label = 'Loc 2')\n",
    "df_loc_3_H2OSOI_f2_5_mean.plot(kind='line', label = 'Loc 3')\n",
    "df_loc_4_H2OSOI_f2_5_mean.plot(kind='line', label = 'Loc 4')\n",
    "plt.xlabel(\"Time (46 days)\",size=15)\n",
    "plt.ylabel(\"Levsoi\",size=15)\n",
    "plt.title(\"H2OSOI - Volumetric Soil Water - 2017\",size=20)\n",
    "plt.legend(title= 'Location', title_fontsize = 15, prop = {'size' : 10},  bbox_to_anchor= (1, 1));"
   ]
  },
  {
   "cell_type": "code",
   "execution_count": null,
   "id": "97891950-929d-4783-a6ce-9b56d4f70ddc",
   "metadata": {
    "id": "97891950-929d-4783-a6ce-9b56d4f70ddc"
   },
   "outputs": [],
   "source": [
    "ds_f3 = xr.open_dataset(\"cesm2cam6v2.2018-01-22.09.clm2.h0.2018-01-22-00000.nc\", engine=\"netcdf4\")"
   ]
  },
  {
   "cell_type": "code",
   "execution_count": null,
   "id": "5020e2fa-6ab6-4461-bc3b-b34f5c85fde7",
   "metadata": {
    "id": "5020e2fa-6ab6-4461-bc3b-b34f5c85fde7"
   },
   "outputs": [],
   "source": [
    "ds_f3"
   ]
  },
  {
   "cell_type": "code",
   "execution_count": null,
   "id": "cd601eda-1b52-4fc1-9dab-10a9d2544d37",
   "metadata": {
    "id": "cd601eda-1b52-4fc1-9dab-10a9d2544d37"
   },
   "outputs": [],
   "source": [
    "#Los Angels Location - Latitude & Longitude co-ordinates\n",
    "# identified Location is Howe Road, Ventura County, California, 93015\n",
    "\n",
    "loc_1_H2OSOI_f3=ds_f3.H2OSOI.sel(lat=34.0522, lon=241.75, method='nearest')\n",
    "loc_1_DZSOI_f3=ds_f3.DZSOI.sel(lat=34.0522, lon=241.75, method='nearest')\n",
    "loc_1_ZSOI_f3 = ds_f3.ZSOI.sel(lat=34.0522, lon=241.75, method='nearest')\n",
    "\n",
    "#Cheyenne Location - Latitude & Longitude co-ordinates\n",
    "# identified Location is near Cheyenne\n",
    "\n",
    "loc_2_H2OSOI_f3=ds_f3.H2OSOI.sel(lat=41.02, lon=244.05, method='nearest')\n",
    "loc_2_DZSOI_f3=ds_f3.DZSOI.sel(lat=41.02, lon=244.05, method='nearest')\n",
    "loc_2_ZSOI_f3 = ds_f3.ZSOI.sel(lat=41.02, lon=244.05, method='nearest')\n",
    "\n",
    "#Boston Location - Latitude & Longitude co-ordinates\n",
    "# identified Location is Near to Boston\n",
    "\n",
    "loc_3_H2OSOI_f3=ds_f3.H2OSOI.sel(lat=41.08, lon=243.05, method='nearest')\n",
    "loc_3_DZSOI_f3=ds_f3.DZSOI.sel(lat=41.08, lon=243.05, method='nearest')\n",
    "loc_3_ZSOI_f3 = ds_f3.ZSOI.sel(lat=41.08, lon=243.05, method='nearest')\n",
    "\n",
    "#Villupuram - Latitude & Longitude co-ordinates\n",
    "# identified Location is around VPM\n",
    "\n",
    "loc_4_H2OSOI_f3=ds_f3.H2OSOI.sel(lat=11.938066, lon=79.488102, method='nearest')\n",
    "loc_4_DZSOI_f3=ds_f3.DZSOI.sel(lat=11.938066, lon=79.488102, method='nearest')\n",
    "loc_4_ZSOI_f3 = ds_f3.ZSOI.sel(lat=11.938066, lon=79.488102, method='nearest')"
   ]
  },
  {
   "cell_type": "code",
   "execution_count": null,
   "id": "f140efdd-0ee2-41f3-a955-d28ede4ce113",
   "metadata": {
    "id": "f140efdd-0ee2-41f3-a955-d28ede4ce113"
   },
   "outputs": [],
   "source": [
    "#Merging the variables (H2OSOI, DZSOI and ZSOI) into a single Dataset (Loc 1)\n",
    "data_1_f3 = xr.merge((loc_1_H2OSOI_f3,loc_1_DZSOI_f3,loc_1_ZSOI_f3), compat='override')\n",
    "data_1_f3"
   ]
  },
  {
   "cell_type": "code",
   "execution_count": null,
   "id": "916e20f6-e83b-409f-9543-0e43a2ae3388",
   "metadata": {
    "id": "916e20f6-e83b-409f-9543-0e43a2ae3388"
   },
   "outputs": [],
   "source": [
    "dataa_1_mul_50_f3 = data_1_f3 * 50\n",
    "dataa_1_mul_50_f3"
   ]
  },
  {
   "cell_type": "code",
   "execution_count": null,
   "id": "8bfab826-9c0d-439f-95cc-6a05297db506",
   "metadata": {
    "id": "8bfab826-9c0d-439f-95cc-6a05297db506"
   },
   "outputs": [],
   "source": [
    "#Creating a DataFrame for the variable H2OSOI (Loc 1)\n",
    "df_loc_1_H2OSOI_f3 = pd.DataFrame(dataa_1_mul_50_f3.H2OSOI)\n",
    "df_loc_1_H2OSOI_f3"
   ]
  },
  {
   "cell_type": "code",
   "execution_count": null,
   "id": "768ab9d9-96d0-4bae-84a8-b88e8a8dfb28",
   "metadata": {
    "id": "768ab9d9-96d0-4bae-84a8-b88e8a8dfb28"
   },
   "outputs": [],
   "source": [
    "df_loc_1_H2OSOI_f3_5 = df_loc_1_H2OSOI_f3.iloc[:,:5]  \n",
    "df_loc_1_H2OSOI_f3_5"
   ]
  },
  {
   "cell_type": "code",
   "execution_count": null,
   "id": "b36af888-a53b-4494-9918-352d374ab8af",
   "metadata": {
    "id": "b36af888-a53b-4494-9918-352d374ab8af"
   },
   "outputs": [],
   "source": [
    "df_loc_1_H2OSOI_f3_5_mean = df_loc_1_H2OSOI_f3_5.mean(axis = 1, skipna = True)\n",
    "df_loc_1_H2OSOI_f3_5_mean"
   ]
  },
  {
   "cell_type": "code",
   "execution_count": null,
   "id": "d43eb966-4e91-4375-bff0-874c9e41c309",
   "metadata": {
    "id": "d43eb966-4e91-4375-bff0-874c9e41c309"
   },
   "outputs": [],
   "source": [
    "#Plotting the H2OSOI variable DataFrame (Loc 1) using line plot function\n",
    "df_loc_1_H2OSOI_f3_5_mean.plot(kind='line')\n",
    "plt.xlabel(\"Time\",size=15)\n",
    "plt.ylabel(\"Levsoi\",size=15)\n",
    "plt.title(\"H2OSOI - Volumetric Soil Water (Loc 1) - 2018 \\nlat=34.4, lon=241.2\",size=20)"
   ]
  },
  {
   "cell_type": "code",
   "execution_count": null,
   "id": "0ccd4c4a-075c-43ca-a5cf-6600be5609f7",
   "metadata": {
    "id": "0ccd4c4a-075c-43ca-a5cf-6600be5609f7"
   },
   "outputs": [],
   "source": [
    "#Merging the variables (H2OSOI, DZSOI and ZSOI) into a single Dataset (Loc 2)\n",
    "data_2_f3 = xr.merge((loc_2_H2OSOI_f3,loc_2_DZSOI_f3,loc_2_ZSOI_f3), compat='override')\n",
    "data_2_f3"
   ]
  },
  {
   "cell_type": "code",
   "execution_count": null,
   "id": "900b63b9-87ad-45cf-bd2b-6ffc3f1a4b46",
   "metadata": {
    "id": "900b63b9-87ad-45cf-bd2b-6ffc3f1a4b46"
   },
   "outputs": [],
   "source": [
    "data_2_mul_50_f3 = data_2_f3 * 50\n",
    "data_2_mul_50_f3"
   ]
  },
  {
   "cell_type": "code",
   "execution_count": null,
   "id": "11eeea46-724a-420a-893d-fc6ede986ff9",
   "metadata": {
    "id": "11eeea46-724a-420a-893d-fc6ede986ff9"
   },
   "outputs": [],
   "source": [
    "#Creating a DataFrame for the variable H2OSOI (Loc 2)\n",
    "df_loc_2_H2OSOI_f3 = pd.DataFrame(data_2_mul_50_f3.H2OSOI)\n",
    "df_loc_2_H2OSOI_f3"
   ]
  },
  {
   "cell_type": "code",
   "execution_count": null,
   "id": "019a7891-a60d-4124-9e20-0160e0a2afae",
   "metadata": {
    "id": "019a7891-a60d-4124-9e20-0160e0a2afae"
   },
   "outputs": [],
   "source": [
    "df_loc_2_H2OSOI_f3_5 = df_loc_2_H2OSOI_f3.iloc[:,:5]\n",
    "df_loc_2_H2OSOI_f3_5"
   ]
  },
  {
   "cell_type": "code",
   "execution_count": null,
   "id": "4344eb89-0241-4fb2-990b-51f40225997e",
   "metadata": {
    "id": "4344eb89-0241-4fb2-990b-51f40225997e"
   },
   "outputs": [],
   "source": [
    "df_loc_2_H2OSOI_f3_5_mean = df_loc_2_H2OSOI_f3_5.mean(axis = 1, skipna = True)\n",
    "df_loc_2_H2OSOI_f3_5_mean"
   ]
  },
  {
   "cell_type": "code",
   "execution_count": null,
   "id": "97306292-5d87-4cb6-90b0-506b71a8b064",
   "metadata": {
    "id": "97306292-5d87-4cb6-90b0-506b71a8b064"
   },
   "outputs": [],
   "source": [
    "#Plotting the H2OSOI variable DataFrame (Loc 2) using line plot function\n",
    "df_loc_2_H2OSOI_f3_5_mean.plot(kind='line')\n",
    "plt.xlabel(\"Time\",size=15)\n",
    "plt.ylabel(\"Levsoi\",size=15)\n",
    "plt.title(\"H2OSOI - Volumetric Soil Water (Loc 2) - 2018 \\nlat=40.99, lon=243.8\",size=20)"
   ]
  },
  {
   "cell_type": "code",
   "execution_count": null,
   "id": "6a507a37-12b9-44e6-919b-7cb40e4c0d74",
   "metadata": {
    "id": "6a507a37-12b9-44e6-919b-7cb40e4c0d74"
   },
   "outputs": [],
   "source": [
    "#Merging the variables (H2OSOI, DZSOI and ZSOI) into a single Dataset (Loc 3)\n",
    "data_3_f3 = xr.merge((loc_3_H2OSOI_f3,loc_3_DZSOI_f3,loc_3_ZSOI_f3), compat='override')\n",
    "data_3_f3"
   ]
  },
  {
   "cell_type": "code",
   "execution_count": null,
   "id": "dce70e67-c9a9-48b8-97ec-a01dca1ac577",
   "metadata": {
    "id": "dce70e67-c9a9-48b8-97ec-a01dca1ac577"
   },
   "outputs": [],
   "source": [
    "data_3_mul_50_f3 = data_3_f3 * 50\n",
    "data_3_mul_50_f3"
   ]
  },
  {
   "cell_type": "code",
   "execution_count": null,
   "id": "cbc14caf-9327-48df-b0c2-5482297c029d",
   "metadata": {
    "id": "cbc14caf-9327-48df-b0c2-5482297c029d"
   },
   "outputs": [],
   "source": [
    "#Creating a DataFrame for the variable H2OSOI (Loc 3)\n",
    "df_loc_3_H2OSOI_f3 = pd.DataFrame(data_3_mul_50_f3.H2OSOI)\n",
    "df_loc_3_H2OSOI_f3"
   ]
  },
  {
   "cell_type": "code",
   "execution_count": null,
   "id": "cde71fc7-4db2-45f8-9abf-d16bd5c40f2d",
   "metadata": {
    "id": "cde71fc7-4db2-45f8-9abf-d16bd5c40f2d"
   },
   "outputs": [],
   "source": [
    "df_loc_3_H2OSOI_f3_5 = df_loc_3_H2OSOI_f3.iloc[:,:5]\n",
    "df_loc_3_H2OSOI_f3_5"
   ]
  },
  {
   "cell_type": "code",
   "execution_count": null,
   "id": "badcea59-cea8-486f-a08c-d29f79ffbeda",
   "metadata": {
    "id": "badcea59-cea8-486f-a08c-d29f79ffbeda"
   },
   "outputs": [],
   "source": [
    "df_loc_3_H2OSOI_f3_5_mean = df_loc_3_H2OSOI_f3_5.mean(axis = 1, skipna = True)\n",
    "df_loc_3_H2OSOI_f3_5_mean"
   ]
  },
  {
   "cell_type": "code",
   "execution_count": null,
   "id": "fda05cc0-4212-4b48-9b9c-f0e42f30ea14",
   "metadata": {
    "id": "fda05cc0-4212-4b48-9b9c-f0e42f30ea14"
   },
   "outputs": [],
   "source": [
    "#Plotting the H2OSOI variable DataFrame (Loc 3) using line plot function\n",
    "df_loc_3_H2OSOI_f3_5_mean.plot(kind='line')\n",
    "plt.xlabel(\"Time\",size=15)\n",
    "plt.ylabel(\"Levsoi\",size=15)\n",
    "plt.title(\"H2OSOI - Volumetric Soil Water (Loc 3) - 2018 \\nlat=40.99, lon=242.5\",size=20)"
   ]
  },
  {
   "cell_type": "code",
   "execution_count": null,
   "id": "8a840259-f6cc-4c5b-8b99-2d5a09fbf8b5",
   "metadata": {
    "id": "8a840259-f6cc-4c5b-8b99-2d5a09fbf8b5"
   },
   "outputs": [],
   "source": [
    "#Merging the variables (H2OSOI, DZSOI and ZSOI) into a single Dataset (Loc 4)\n",
    "data_4_f3 = xr.merge((loc_4_H2OSOI_f3,loc_4_DZSOI_f3,loc_4_ZSOI_f3), compat='override')\n",
    "data_4_f3"
   ]
  },
  {
   "cell_type": "code",
   "execution_count": null,
   "id": "2866516c-32b7-4bf1-97d2-c493b8acaa36",
   "metadata": {
    "id": "2866516c-32b7-4bf1-97d2-c493b8acaa36"
   },
   "outputs": [],
   "source": [
    "data_4_mul_50_f3 = data_4_f3 * 50\n",
    "data_4_mul_50_f3"
   ]
  },
  {
   "cell_type": "code",
   "execution_count": null,
   "id": "65d594c9-08a0-4a55-8c6b-fabdab97b00c",
   "metadata": {
    "id": "65d594c9-08a0-4a55-8c6b-fabdab97b00c"
   },
   "outputs": [],
   "source": [
    "#Creating a DataFrame for the variable H2OSOI (Loc 4)\n",
    "df_loc_4_H2OSOI_f3 = pd.DataFrame(data_4_mul_50_f3.H2OSOI)\n",
    "df_loc_4_H2OSOI_f3"
   ]
  },
  {
   "cell_type": "code",
   "execution_count": null,
   "id": "50ff0f02-5e29-4351-a9d8-aa8c28c79a06",
   "metadata": {
    "id": "50ff0f02-5e29-4351-a9d8-aa8c28c79a06"
   },
   "outputs": [],
   "source": [
    "df_loc_4_H2OSOI_f3_5 = df_loc_4_H2OSOI_f3.iloc[:,:5]\n",
    "df_loc_4_H2OSOI_f3_5"
   ]
  },
  {
   "cell_type": "code",
   "execution_count": null,
   "id": "8155803e-e3d5-4b69-9a4e-459509a5ced9",
   "metadata": {
    "id": "8155803e-e3d5-4b69-9a4e-459509a5ced9"
   },
   "outputs": [],
   "source": [
    "df_loc_4_H2OSOI_f3_5_mean = df_loc_4_H2OSOI_f3_5.mean(axis = 1, skipna = True)\n",
    "df_loc_4_H2OSOI_f3_5_mean"
   ]
  },
  {
   "cell_type": "code",
   "execution_count": null,
   "id": "68a2eef4-d13d-4395-b4c7-c38d363bc31d",
   "metadata": {
    "id": "68a2eef4-d13d-4395-b4c7-c38d363bc31d"
   },
   "outputs": [],
   "source": [
    "#Plotting the H2OSOI variable DataFrame (Loc 4) using line plot function\n",
    "df_loc_4_H2OSOI_f3_5_mean.plot(kind='line')\n",
    "plt.xlabel(\"Time\",size=15)\n",
    "plt.ylabel(\"Levsoi\",size=15)\n",
    "plt.title(\"H2OSOI - Volumetric Soil Water (Loc 4) - 2018 \\nlat=11.78, lon=80.0\",size=20)"
   ]
  },
  {
   "cell_type": "code",
   "execution_count": null,
   "id": "bdfad7fe-068a-4c9d-a508-3af54f7de97a",
   "metadata": {
    "id": "bdfad7fe-068a-4c9d-a508-3af54f7de97a"
   },
   "outputs": [],
   "source": [
    "#Plotting the H2OSOI variable DataFrame for all locations using line plot function\n",
    "df_loc_1_H2OSOI_f3_5_mean.plot(kind='line', label = 'Loc 1')\n",
    "df_loc_2_H2OSOI_f3_5_mean.plot(kind='line', label = 'Loc 2')\n",
    "df_loc_3_H2OSOI_f3_5_mean.plot(kind='line', label = 'Loc 3')\n",
    "df_loc_4_H2OSOI_f3_5_mean.plot(kind='line', label = 'Loc 4')\n",
    "plt.xlabel(\"Time (46 days)\",size=15)\n",
    "plt.ylabel(\"Levsoi\",size=15)\n",
    "plt.title(\"H2OSOI - Volumetric Soil Water - 2018\",size=20)\n",
    "plt.legend(title= 'Location', title_fontsize = 15, prop = {'size' : 10},  bbox_to_anchor= (1, 1));"
   ]
  },
  {
   "cell_type": "code",
   "execution_count": null,
   "id": "ef41986e-635f-4280-afea-78c6642f0192",
   "metadata": {
    "id": "ef41986e-635f-4280-afea-78c6642f0192"
   },
   "outputs": [],
   "source": [
    "ds_f4 = xr.open_dataset(\"cesm2cam6v2.2019-01-21.09.clm2.h0.2019-01-21-00000.nc\", engine=\"netcdf4\")"
   ]
  },
  {
   "cell_type": "code",
   "execution_count": null,
   "id": "a662cb89-0dc1-462d-83c7-ff3b5e1b9d6d",
   "metadata": {
    "id": "a662cb89-0dc1-462d-83c7-ff3b5e1b9d6d"
   },
   "outputs": [],
   "source": [
    "ds_f4"
   ]
  },
  {
   "cell_type": "code",
   "execution_count": null,
   "id": "36f6e111-acb6-489b-8d39-0b6563e83a92",
   "metadata": {
    "id": "36f6e111-acb6-489b-8d39-0b6563e83a92"
   },
   "outputs": [],
   "source": [
    "#Los Angels Location - Latitude & Longitude co-ordinates\n",
    "# identified Location is Howe Road, Ventura County, California, 93015\n",
    "\n",
    "loc_1_H2OSOI_f4=ds_f4.H2OSOI.sel(lat=34.0522, lon=241.75, method='nearest')\n",
    "loc_1_DZSOI_f4=ds_f4.DZSOI.sel(lat=34.0522, lon=241.75, method='nearest')\n",
    "loc_1_ZSOI_f4 = ds_f4.ZSOI.sel(lat=34.0522, lon=241.75, method='nearest')\n",
    "\n",
    "#Cheyenne Location - Latitude & Longitude co-ordinates\n",
    "# identified Location is near Cheyenne\n",
    "\n",
    "loc_2_H2OSOI_f4=ds_f4.H2OSOI.sel(lat=41.02, lon=244.05, method='nearest')\n",
    "loc_2_DZSOI_f4=ds_f4.DZSOI.sel(lat=41.02, lon=244.05, method='nearest')\n",
    "loc_2_ZSOI_f4 = ds_f4.ZSOI.sel(lat=41.02, lon=244.05, method='nearest')\n",
    "\n",
    "#Boston Location - Latitude & Longitude co-ordinates\n",
    "# identified Location is Near to Boston\n",
    "\n",
    "loc_3_H2OSOI_f4=ds_f4.H2OSOI.sel(lat=41.08, lon=243.05, method='nearest')\n",
    "loc_3_DZSOI_f4=ds_f4.DZSOI.sel(lat=41.08, lon=243.05, method='nearest')\n",
    "loc_3_ZSOI_f4 = ds_f4.ZSOI.sel(lat=41.08, lon=243.05, method='nearest')\n",
    "\n",
    "#Villupuram - Latitude & Longitude co-ordinates\n",
    "# identified Location is around VPM\n",
    "\n",
    "loc_4_H2OSOI_f4=ds_f4.H2OSOI.sel(lat=11.938066, lon=79.488102, method='nearest')\n",
    "loc_4_DZSOI_f4=ds_f4.DZSOI.sel(lat=11.938066, lon=79.488102, method='nearest')\n",
    "loc_4_ZSOI_f4 = ds_f4.ZSOI.sel(lat=11.938066, lon=79.488102, method='nearest')"
   ]
  },
  {
   "cell_type": "code",
   "execution_count": null,
   "id": "c315da4c-f24c-4811-abf4-9dc4ef33fb53",
   "metadata": {
    "id": "c315da4c-f24c-4811-abf4-9dc4ef33fb53"
   },
   "outputs": [],
   "source": [
    "#Merging the variables (H2OSOI, DZSOI and ZSOI) into a single Dataset (Loc 1)\n",
    "data_1_f4 = xr.merge((loc_1_H2OSOI_f4,loc_1_DZSOI_f4,loc_1_ZSOI_f4), compat='override')\n",
    "data_1_f4"
   ]
  },
  {
   "cell_type": "code",
   "execution_count": null,
   "id": "764093db-70c2-47a5-93d7-7aa83f430bd9",
   "metadata": {
    "id": "764093db-70c2-47a5-93d7-7aa83f430bd9"
   },
   "outputs": [],
   "source": [
    "dataa_1_mul_50_f4 = data_1_f4 * 50\n",
    "dataa_1_mul_50_f4"
   ]
  },
  {
   "cell_type": "code",
   "execution_count": null,
   "id": "28049aaa-a5fb-4734-b531-c06776d0a047",
   "metadata": {
    "id": "28049aaa-a5fb-4734-b531-c06776d0a047"
   },
   "outputs": [],
   "source": [
    "#Creating a DataFrame for the variable H2OSOI (Loc 1)\n",
    "df_loc_1_H2OSOI_f4 = pd.DataFrame(dataa_1_mul_50_f4.H2OSOI)\n",
    "df_loc_1_H2OSOI_f4"
   ]
  },
  {
   "cell_type": "code",
   "execution_count": null,
   "id": "f53c321b-bb7a-44be-9bd6-f1f939485cd4",
   "metadata": {
    "id": "f53c321b-bb7a-44be-9bd6-f1f939485cd4"
   },
   "outputs": [],
   "source": [
    "df_loc_1_H2OSOI_f4_5 = df_loc_1_H2OSOI_f4.iloc[:,:5]  \n",
    "df_loc_1_H2OSOI_f4_5"
   ]
  },
  {
   "cell_type": "code",
   "execution_count": null,
   "id": "e2e0a4d3-b208-4c09-87c3-0ef8022e68b6",
   "metadata": {
    "id": "e2e0a4d3-b208-4c09-87c3-0ef8022e68b6"
   },
   "outputs": [],
   "source": [
    "df_loc_1_H2OSOI_f4_5_mean = df_loc_1_H2OSOI_f4_5.mean(axis = 1, skipna = True)\n",
    "df_loc_1_H2OSOI_f4_5_mean"
   ]
  },
  {
   "cell_type": "code",
   "execution_count": null,
   "id": "c0d08c2f-8ecc-4e8e-8dfb-1a9b5e9c0e25",
   "metadata": {
    "id": "c0d08c2f-8ecc-4e8e-8dfb-1a9b5e9c0e25"
   },
   "outputs": [],
   "source": [
    "#Plotting the H2OSOI variable DataFrame (Loc 1) using line plot function\n",
    "df_loc_1_H2OSOI_f4_5_mean.plot(kind='line')\n",
    "plt.xlabel(\"Time\",size=15)\n",
    "plt.ylabel(\"Levsoi\",size=15)\n",
    "plt.title(\"H2OSOI - Volumetric Soil Water (Loc 1) - 2019 \\nlat=34.4, lon=241.2\",size=20)"
   ]
  },
  {
   "cell_type": "code",
   "execution_count": null,
   "id": "16a2b293-5e80-4fe6-b9b7-1580c70768ad",
   "metadata": {
    "id": "16a2b293-5e80-4fe6-b9b7-1580c70768ad"
   },
   "outputs": [],
   "source": [
    "#Merging the variables (H2OSOI, DZSOI and ZSOI) into a single Dataset (Loc 2)\n",
    "data_2_f4 = xr.merge((loc_2_H2OSOI_f4,loc_2_DZSOI_f4,loc_2_ZSOI_f4), compat='override')\n",
    "data_2_f4"
   ]
  },
  {
   "cell_type": "code",
   "execution_count": null,
   "id": "0586de69-1d56-426f-b8c1-4f2880c1f55c",
   "metadata": {
    "id": "0586de69-1d56-426f-b8c1-4f2880c1f55c"
   },
   "outputs": [],
   "source": [
    "data_2_mul_50_f4 = data_2_f4 * 50\n",
    "data_2_mul_50_f4"
   ]
  },
  {
   "cell_type": "code",
   "execution_count": null,
   "id": "359ad3b4-50d9-4034-b415-dcfffb723881",
   "metadata": {
    "id": "359ad3b4-50d9-4034-b415-dcfffb723881"
   },
   "outputs": [],
   "source": [
    "#Creating a DataFrame for the variable H2OSOI (Loc 2)\n",
    "df_loc_2_H2OSOI_f4 = pd.DataFrame(data_2_mul_50_f4.H2OSOI)\n",
    "df_loc_2_H2OSOI_f4"
   ]
  },
  {
   "cell_type": "code",
   "execution_count": null,
   "id": "379bbbdc-8029-494f-ad5e-3d681cc8b639",
   "metadata": {
    "id": "379bbbdc-8029-494f-ad5e-3d681cc8b639"
   },
   "outputs": [],
   "source": [
    "df_loc_2_H2OSOI_f4_5 = df_loc_2_H2OSOI_f4.iloc[:,:5]\n",
    "df_loc_2_H2OSOI_f4_5"
   ]
  },
  {
   "cell_type": "code",
   "execution_count": null,
   "id": "3bb2daa9-0d42-4a13-9232-55a4cf99d96e",
   "metadata": {
    "id": "3bb2daa9-0d42-4a13-9232-55a4cf99d96e"
   },
   "outputs": [],
   "source": [
    "df_loc_2_H2OSOI_f4_5_mean = df_loc_2_H2OSOI_f4_5.mean(axis = 1, skipna = True)\n",
    "df_loc_2_H2OSOI_f4_5_mean"
   ]
  },
  {
   "cell_type": "code",
   "execution_count": null,
   "id": "3316eb47-5eb1-459e-b77c-193be925afc8",
   "metadata": {
    "id": "3316eb47-5eb1-459e-b77c-193be925afc8"
   },
   "outputs": [],
   "source": [
    "#Plotting the H2OSOI variable DataFrame (Loc 2) using line plot function\n",
    "df_loc_2_H2OSOI_f4_5_mean.plot(kind='line')\n",
    "plt.xlabel(\"Time\",size=15)\n",
    "plt.ylabel(\"Levsoi\",size=15)\n",
    "plt.title(\"H2OSOI - Volumetric Soil Water (Loc 2) - 2019 \\nlat=40.99, lon=243.8\",size=20)"
   ]
  },
  {
   "cell_type": "code",
   "execution_count": null,
   "id": "4db9c24b-84cd-421e-976f-139cc123a7a3",
   "metadata": {
    "id": "4db9c24b-84cd-421e-976f-139cc123a7a3"
   },
   "outputs": [],
   "source": [
    "#Merging the variables (H2OSOI, DZSOI and ZSOI) into a single Dataset (Loc 3)\n",
    "data_3_f4 = xr.merge((loc_3_H2OSOI_f4,loc_3_DZSOI_f4,loc_3_ZSOI_f4), compat='override')\n",
    "data_3_f4"
   ]
  },
  {
   "cell_type": "code",
   "execution_count": null,
   "id": "346b5c1f-6ec4-4cbc-bce0-c1b81dd7cb05",
   "metadata": {
    "id": "346b5c1f-6ec4-4cbc-bce0-c1b81dd7cb05"
   },
   "outputs": [],
   "source": [
    "data_3_mul_50_f4 = data_3_f4 * 50\n",
    "data_3_mul_50_f4"
   ]
  },
  {
   "cell_type": "code",
   "execution_count": null,
   "id": "cbc6d107-8ca1-4af8-bcfa-cacac02f98b4",
   "metadata": {
    "id": "cbc6d107-8ca1-4af8-bcfa-cacac02f98b4"
   },
   "outputs": [],
   "source": [
    "#Creating a DataFrame for the variable H2OSOI (Loc 3)\n",
    "df_loc_3_H2OSOI_f4 = pd.DataFrame(data_3_mul_50_f4.H2OSOI)\n",
    "df_loc_3_H2OSOI_f4"
   ]
  },
  {
   "cell_type": "code",
   "execution_count": null,
   "id": "c57cb5fb-8bb0-4962-8ba5-47db0b88f302",
   "metadata": {
    "id": "c57cb5fb-8bb0-4962-8ba5-47db0b88f302"
   },
   "outputs": [],
   "source": [
    "df_loc_3_H2OSOI_f4_5 = df_loc_3_H2OSOI_f4.iloc[:,:5]\n",
    "df_loc_3_H2OSOI_f4_5"
   ]
  },
  {
   "cell_type": "code",
   "execution_count": null,
   "id": "120cbd08-8979-4ed3-8302-68830ba5d9b6",
   "metadata": {
    "id": "120cbd08-8979-4ed3-8302-68830ba5d9b6"
   },
   "outputs": [],
   "source": [
    "df_loc_3_H2OSOI_f4_5_mean = df_loc_3_H2OSOI_f4_5.mean(axis = 1, skipna = True)\n",
    "df_loc_3_H2OSOI_f4_5_mean"
   ]
  },
  {
   "cell_type": "code",
   "execution_count": null,
   "id": "0fe92096-49d0-488f-ae4d-a41decd555ba",
   "metadata": {
    "id": "0fe92096-49d0-488f-ae4d-a41decd555ba"
   },
   "outputs": [],
   "source": [
    "#Plotting the H2OSOI variable DataFrame (Loc 3) using line plot function\n",
    "df_loc_3_H2OSOI_f4_5_mean.plot(kind='line')\n",
    "plt.xlabel(\"Time\",size=15)\n",
    "plt.ylabel(\"Levsoi\",size=15)\n",
    "plt.title(\"H2OSOI - Volumetric Soil Water (Loc 3) - 2019 \\nlat=40.99, lon=242.5\",size=20)"
   ]
  },
  {
   "cell_type": "code",
   "execution_count": null,
   "id": "c082cf71-9e40-4f42-8964-c0bdbf77c40d",
   "metadata": {
    "id": "c082cf71-9e40-4f42-8964-c0bdbf77c40d"
   },
   "outputs": [],
   "source": [
    "#Merging the variables (H2OSOI, DZSOI and ZSOI) into a single Dataset (Loc 4)\n",
    "data_4_f4 = xr.merge((loc_4_H2OSOI_f4,loc_4_DZSOI_f4,loc_4_ZSOI_f4), compat='override')\n",
    "data_4_f4"
   ]
  },
  {
   "cell_type": "code",
   "execution_count": null,
   "id": "63d98487-befb-43a1-b5b3-e4756b72106e",
   "metadata": {
    "id": "63d98487-befb-43a1-b5b3-e4756b72106e"
   },
   "outputs": [],
   "source": [
    "data_4_mul_50_f4 = data_4_f4 * 50\n",
    "data_4_mul_50_f4"
   ]
  },
  {
   "cell_type": "code",
   "execution_count": null,
   "id": "32c56099-925d-4dd2-ba9b-ecd4d842a217",
   "metadata": {
    "id": "32c56099-925d-4dd2-ba9b-ecd4d842a217"
   },
   "outputs": [],
   "source": [
    "#Creating a DataFrame for the variable H2OSOI (Loc 4)\n",
    "df_loc_4_H2OSOI_f4 = pd.DataFrame(data_4_mul_50_f4.H2OSOI)\n",
    "df_loc_4_H2OSOI_f4"
   ]
  },
  {
   "cell_type": "code",
   "execution_count": null,
   "id": "d6f57c8c-e9fe-4dde-9bb0-86d1a0766ec7",
   "metadata": {
    "id": "d6f57c8c-e9fe-4dde-9bb0-86d1a0766ec7"
   },
   "outputs": [],
   "source": [
    "df_loc_4_H2OSOI_f4_5 = df_loc_4_H2OSOI_f4.iloc[:,:5]\n",
    "df_loc_4_H2OSOI_f4_5"
   ]
  },
  {
   "cell_type": "code",
   "execution_count": null,
   "id": "44ee2935-c42d-4291-a39d-cd4a86907f77",
   "metadata": {
    "id": "44ee2935-c42d-4291-a39d-cd4a86907f77"
   },
   "outputs": [],
   "source": [
    "df_loc_4_H2OSOI_f4_5_mean = df_loc_4_H2OSOI_f4_5.mean(axis = 1, skipna = True)\n",
    "df_loc_4_H2OSOI_f4_5_mean"
   ]
  },
  {
   "cell_type": "code",
   "execution_count": null,
   "id": "902a02db-11e4-4416-a58c-e3499c9d041e",
   "metadata": {
    "id": "902a02db-11e4-4416-a58c-e3499c9d041e"
   },
   "outputs": [],
   "source": [
    "#Plotting the H2OSOI variable DataFrame (Loc 4) using line plot function\n",
    "df_loc_4_H2OSOI_f4_5_mean.plot(kind='line')\n",
    "plt.xlabel(\"Time\",size=15)\n",
    "plt.ylabel(\"Levsoi\",size=15)\n",
    "plt.title(\"H2OSOI - Volumetric Soil Water (Loc 4) - 2019 \\nlat=11.78, lon=80.0\",size=20)"
   ]
  },
  {
   "cell_type": "code",
   "execution_count": null,
   "id": "a79b9961-b9ef-44fb-9a45-ed1ed3dc2100",
   "metadata": {
    "id": "a79b9961-b9ef-44fb-9a45-ed1ed3dc2100"
   },
   "outputs": [],
   "source": [
    "#Plotting the H2OSOI variable DataFrame for all locations using line plot function\n",
    "df_loc_1_H2OSOI_f4_5_mean.plot(kind='line', label = 'Loc 1')\n",
    "df_loc_2_H2OSOI_f4_5_mean.plot(kind='line', label = 'Loc 2')\n",
    "df_loc_3_H2OSOI_f4_5_mean.plot(kind='line', label = 'Loc 3')\n",
    "df_loc_4_H2OSOI_f4_5_mean.plot(kind='line', label = 'Loc 4')\n",
    "plt.xlabel(\"Time (46 days)\",size=15)\n",
    "plt.ylabel(\"Levsoi\",size=15)\n",
    "plt.title(\"H2OSOI - Volumetric Soil Water - 2019\",size=20)\n",
    "plt.legend(title= 'Location', title_fontsize = 15, prop = {'size' : 10},  bbox_to_anchor= (1, 1));"
   ]
  },
  {
   "cell_type": "code",
   "execution_count": null,
   "id": "c3e2c214-0cbc-43e4-9eee-bb86693fa940",
   "metadata": {
    "id": "c3e2c214-0cbc-43e4-9eee-bb86693fa940"
   },
   "outputs": [],
   "source": [
    "ds_f5 = xr.open_dataset(\"cesm2cam6v2.2020-01-27.09.clm2.h0.2020-01-27-00000.nc\", engine=\"netcdf4\")"
   ]
  },
  {
   "cell_type": "code",
   "execution_count": null,
   "id": "62336e6c-fedb-4ff3-bb75-47a7670e78bf",
   "metadata": {
    "id": "62336e6c-fedb-4ff3-bb75-47a7670e78bf"
   },
   "outputs": [],
   "source": [
    "ds_f5"
   ]
  },
  {
   "cell_type": "code",
   "execution_count": null,
   "id": "fb6fd12b-574a-47e8-a0be-461b0d0a129b",
   "metadata": {
    "id": "fb6fd12b-574a-47e8-a0be-461b0d0a129b"
   },
   "outputs": [],
   "source": [
    "#Los Angels Location - Latitude & Longitude co-ordinates\n",
    "# identified Location is Howe Road, Ventura County, California, 93015\n",
    "\n",
    "loc_1_H2OSOI_f5=ds_f5.H2OSOI.sel(lat=34.0522, lon=241.75, method='nearest')\n",
    "loc_1_DZSOI_f5=ds_f5.DZSOI.sel(lat=34.0522, lon=241.75, method='nearest')\n",
    "loc_1_ZSOI_f5 = ds_f5.ZSOI.sel(lat=34.0522, lon=241.75, method='nearest')\n",
    "\n",
    "#Cheyenne Location - Latitude & Longitude co-ordinates\n",
    "# identified Location is near Cheyenne\n",
    "\n",
    "loc_2_H2OSOI_f5=ds_f5.H2OSOI.sel(lat=41.02, lon=244.05, method='nearest')\n",
    "loc_2_DZSOI_f5=ds_f5.DZSOI.sel(lat=41.02, lon=244.05, method='nearest')\n",
    "loc_2_ZSOI_f5 = ds_f5.ZSOI.sel(lat=41.02, lon=244.05, method='nearest')\n",
    "\n",
    "#Boston Location - Latitude & Longitude co-ordinates\n",
    "# identified Location is Near to Boston\n",
    "\n",
    "loc_3_H2OSOI_f5=ds_f5.H2OSOI.sel(lat=41.08, lon=243.05, method='nearest')\n",
    "loc_3_DZSOI_f5=ds_f5.DZSOI.sel(lat=41.08, lon=243.05, method='nearest')\n",
    "loc_3_ZSOI_f5 = ds_f5.ZSOI.sel(lat=41.08, lon=243.05, method='nearest')\n",
    "\n",
    "#Villupuram - Latitude & Longitude co-ordinates\n",
    "# identified Location is around VPM\n",
    "\n",
    "loc_4_H2OSOI_f5=ds_f5.H2OSOI.sel(lat=11.938066, lon=79.488102, method='nearest')\n",
    "loc_4_DZSOI_f5=ds_f5.DZSOI.sel(lat=11.938066, lon=79.488102, method='nearest')\n",
    "loc_4_ZSOI_f5 = ds_f5.ZSOI.sel(lat=11.938066, lon=79.488102, method='nearest')"
   ]
  },
  {
   "cell_type": "code",
   "execution_count": null,
   "id": "8f2e3a42-e885-48f6-8bd4-273938970321",
   "metadata": {
    "id": "8f2e3a42-e885-48f6-8bd4-273938970321"
   },
   "outputs": [],
   "source": [
    "#Merging the variables (H2OSOI, DZSOI and ZSOI) into a single Dataset (Loc 1)\n",
    "data_1_f5 = xr.merge((loc_1_H2OSOI_f5,loc_1_DZSOI_f5,loc_1_ZSOI_f5), compat='override')\n",
    "data_1_f5"
   ]
  },
  {
   "cell_type": "code",
   "execution_count": null,
   "id": "f874f7af-2b94-4ccc-9009-8c7292d7ee97",
   "metadata": {
    "id": "f874f7af-2b94-4ccc-9009-8c7292d7ee97"
   },
   "outputs": [],
   "source": [
    "dataa_1_mul_50_f5 = data_1_f5 * 50\n",
    "dataa_1_mul_50_f5"
   ]
  },
  {
   "cell_type": "code",
   "execution_count": null,
   "id": "713fa3c3-24d5-408a-b2e5-a0bd4d358e8d",
   "metadata": {
    "id": "713fa3c3-24d5-408a-b2e5-a0bd4d358e8d"
   },
   "outputs": [],
   "source": [
    "#Creating a DataFrame for the variable H2OSOI (Loc 1)\n",
    "df_loc_1_H2OSOI_f5 = pd.DataFrame(dataa_1_mul_50_f5.H2OSOI)\n",
    "df_loc_1_H2OSOI_f5"
   ]
  },
  {
   "cell_type": "code",
   "execution_count": null,
   "id": "59fb3da6-f5aa-4bfa-8689-86192ddd0b55",
   "metadata": {
    "id": "59fb3da6-f5aa-4bfa-8689-86192ddd0b55"
   },
   "outputs": [],
   "source": [
    "df_loc_1_H2OSOI_f5_5 = df_loc_1_H2OSOI_f5.iloc[:,:5]  \n",
    "df_loc_1_H2OSOI_f5_5"
   ]
  },
  {
   "cell_type": "code",
   "execution_count": null,
   "id": "7ac3e277-03c0-4b18-83cb-1859297e5209",
   "metadata": {
    "id": "7ac3e277-03c0-4b18-83cb-1859297e5209"
   },
   "outputs": [],
   "source": [
    "df_loc_1_H2OSOI_f5_5_mean = df_loc_1_H2OSOI_f5_5.mean(axis = 1, skipna = True)\n",
    "df_loc_1_H2OSOI_f5_5_mean"
   ]
  },
  {
   "cell_type": "code",
   "execution_count": null,
   "id": "8cad0eca-14d8-4167-a8f1-7b01e883d00c",
   "metadata": {
    "id": "8cad0eca-14d8-4167-a8f1-7b01e883d00c"
   },
   "outputs": [],
   "source": [
    "#Plotting the H2OSOI variable DataFrame (Loc 1) using line plot function\n",
    "df_loc_1_H2OSOI_f5_5_mean.plot(kind='line')\n",
    "plt.xlabel(\"Time\",size=15)\n",
    "plt.ylabel(\"Levsoi\",size=15)\n",
    "plt.title(\"H2OSOI - Volumetric Soil Water (Loc 1) - 2020 \\nlat=34.4, lon=241.2\",size=20)"
   ]
  },
  {
   "cell_type": "code",
   "execution_count": null,
   "id": "85e39044-6a8b-4dae-a446-3eec2a5b5406",
   "metadata": {
    "id": "85e39044-6a8b-4dae-a446-3eec2a5b5406"
   },
   "outputs": [],
   "source": [
    "#Merging the variables (H2OSOI, DZSOI and ZSOI) into a single Dataset (Loc 2)\n",
    "data_2_f5 = xr.merge((loc_2_H2OSOI_f5,loc_2_DZSOI_f5,loc_2_ZSOI_f5), compat='override')\n",
    "data_2_f5"
   ]
  },
  {
   "cell_type": "code",
   "execution_count": null,
   "id": "a5631663-095f-4858-973b-f015260e979f",
   "metadata": {
    "id": "a5631663-095f-4858-973b-f015260e979f"
   },
   "outputs": [],
   "source": [
    "data_2_mul_50_f5 = data_2_f5 * 50\n",
    "data_2_mul_50_f5"
   ]
  },
  {
   "cell_type": "code",
   "execution_count": null,
   "id": "05cf8217-10f1-43cc-8b92-d060afc87a29",
   "metadata": {
    "id": "05cf8217-10f1-43cc-8b92-d060afc87a29"
   },
   "outputs": [],
   "source": [
    "#Creating a DataFrame for the variable H2OSOI (Loc 2)\n",
    "df_loc_2_H2OSOI_f5 = pd.DataFrame(data_2_mul_50_f5.H2OSOI)\n",
    "df_loc_2_H2OSOI_f5"
   ]
  },
  {
   "cell_type": "code",
   "execution_count": null,
   "id": "34b6368f-c79e-4e8e-8a3c-c7b590b4a6c1",
   "metadata": {
    "id": "34b6368f-c79e-4e8e-8a3c-c7b590b4a6c1"
   },
   "outputs": [],
   "source": [
    "df_loc_2_H2OSOI_f5_5 = df_loc_2_H2OSOI_f5.iloc[:,:5]\n",
    "df_loc_2_H2OSOI_f5_5"
   ]
  },
  {
   "cell_type": "code",
   "execution_count": null,
   "id": "d5565a42-ac18-4db6-9d22-19fb78525a2b",
   "metadata": {
    "id": "d5565a42-ac18-4db6-9d22-19fb78525a2b"
   },
   "outputs": [],
   "source": [
    "df_loc_2_H2OSOI_f5_5_mean = df_loc_2_H2OSOI_f5_5.mean(axis = 1, skipna = True)\n",
    "df_loc_2_H2OSOI_f5_5_mean"
   ]
  },
  {
   "cell_type": "code",
   "execution_count": null,
   "id": "92c8b31f-01a0-47f6-b6c9-50a4ffc578da",
   "metadata": {
    "id": "92c8b31f-01a0-47f6-b6c9-50a4ffc578da"
   },
   "outputs": [],
   "source": [
    "#Plotting the H2OSOI variable DataFrame (Loc 2) using line plot function\n",
    "df_loc_2_H2OSOI_f5_5_mean.plot(kind='line')\n",
    "plt.xlabel(\"Time\",size=15)\n",
    "plt.ylabel(\"Levsoi\",size=15)\n",
    "plt.title(\"H2OSOI - Volumetric Soil Water (Loc 2) - 2020 \\nlat=40.99, lon=243.8\",size=20)"
   ]
  },
  {
   "cell_type": "code",
   "execution_count": null,
   "id": "4804e95f-1425-4d15-9769-441db07b0c10",
   "metadata": {
    "id": "4804e95f-1425-4d15-9769-441db07b0c10"
   },
   "outputs": [],
   "source": [
    "#Merging the variables (H2OSOI, DZSOI and ZSOI) into a single Dataset (Loc 3)\n",
    "data_3_f5 = xr.merge((loc_3_H2OSOI_f5,loc_3_DZSOI_f5,loc_3_ZSOI_f5), compat='override')\n",
    "data_3_f5"
   ]
  },
  {
   "cell_type": "code",
   "execution_count": null,
   "id": "09ca7fc5-6c93-4734-a467-ab71fc9ff98e",
   "metadata": {
    "id": "09ca7fc5-6c93-4734-a467-ab71fc9ff98e"
   },
   "outputs": [],
   "source": [
    "data_3_mul_50_f5 = data_3_f5 * 50\n",
    "data_3_mul_50_f5"
   ]
  },
  {
   "cell_type": "code",
   "execution_count": null,
   "id": "6eced8bf-8243-4781-ad5e-af89206de707",
   "metadata": {
    "id": "6eced8bf-8243-4781-ad5e-af89206de707"
   },
   "outputs": [],
   "source": [
    "#Creating a DataFrame for the variable H2OSOI (Loc 3)\n",
    "df_loc_3_H2OSOI_f5 = pd.DataFrame(data_3_mul_50_f5.H2OSOI)\n",
    "df_loc_3_H2OSOI_f5"
   ]
  },
  {
   "cell_type": "code",
   "execution_count": null,
   "id": "4f91e72c-865f-4922-af09-f956b91e90be",
   "metadata": {
    "id": "4f91e72c-865f-4922-af09-f956b91e90be"
   },
   "outputs": [],
   "source": [
    "df_loc_3_H2OSOI_f5_5 = df_loc_3_H2OSOI_f5.iloc[:,:5]\n",
    "df_loc_3_H2OSOI_f5_5"
   ]
  },
  {
   "cell_type": "code",
   "execution_count": null,
   "id": "f5e3972d-0641-4406-b880-e2b60c20d7a7",
   "metadata": {
    "id": "f5e3972d-0641-4406-b880-e2b60c20d7a7"
   },
   "outputs": [],
   "source": [
    "df_loc_3_H2OSOI_f5_5_mean = df_loc_3_H2OSOI_f5_5.mean(axis = 1, skipna = True)\n",
    "df_loc_3_H2OSOI_f5_5_mean"
   ]
  },
  {
   "cell_type": "code",
   "execution_count": null,
   "id": "9b80d012-d428-4a4c-ba3d-ee0a06cc70ac",
   "metadata": {
    "id": "9b80d012-d428-4a4c-ba3d-ee0a06cc70ac"
   },
   "outputs": [],
   "source": [
    "#Plotting the H2OSOI variable DataFrame (Loc 3) using line plot function\n",
    "df_loc_3_H2OSOI_f5_5_mean.plot(kind='line')\n",
    "plt.xlabel(\"Time\",size=15)\n",
    "plt.ylabel(\"Levsoi\",size=15)\n",
    "plt.title(\"H2OSOI - Volumetric Soil Water (Loc 3) - 2020 \\nlat=40.99, lon=242.5\",size=20)"
   ]
  },
  {
   "cell_type": "code",
   "execution_count": null,
   "id": "c159e9eb-8c07-4b56-9d7d-2f8d30ccde53",
   "metadata": {
    "id": "c159e9eb-8c07-4b56-9d7d-2f8d30ccde53"
   },
   "outputs": [],
   "source": [
    "#Merging the variables (H2OSOI, DZSOI and ZSOI) into a single Dataset (Loc 4)\n",
    "data_4_f5 = xr.merge((loc_4_H2OSOI_f5,loc_4_DZSOI_f5,loc_4_ZSOI_f5), compat='override')\n",
    "data_4_f5"
   ]
  },
  {
   "cell_type": "code",
   "execution_count": null,
   "id": "eb758338-24ce-434c-acdb-31fbdcb3e2a5",
   "metadata": {
    "id": "eb758338-24ce-434c-acdb-31fbdcb3e2a5"
   },
   "outputs": [],
   "source": [
    "data_4_mul_50_f5 = data_4_f5 * 50\n",
    "data_4_mul_50_f5"
   ]
  },
  {
   "cell_type": "code",
   "execution_count": null,
   "id": "cee973a9-20b9-48db-a5cc-b8414e2328a3",
   "metadata": {
    "id": "cee973a9-20b9-48db-a5cc-b8414e2328a3"
   },
   "outputs": [],
   "source": [
    "#Creating a DataFrame for the variable H2OSOI (Loc 4)\n",
    "df_loc_4_H2OSOI_f5 = pd.DataFrame(data_4_mul_50_f5.H2OSOI)\n",
    "df_loc_4_H2OSOI_f5"
   ]
  },
  {
   "cell_type": "code",
   "execution_count": null,
   "id": "f4618528-ffb2-4bb6-86e9-54974a095a4b",
   "metadata": {
    "id": "f4618528-ffb2-4bb6-86e9-54974a095a4b"
   },
   "outputs": [],
   "source": [
    "df_loc_4_H2OSOI_f5_5 = df_loc_4_H2OSOI_f5.iloc[:,:5]\n",
    "df_loc_4_H2OSOI_f5_5"
   ]
  },
  {
   "cell_type": "code",
   "execution_count": null,
   "id": "e618f0b8-a07c-4d20-99cf-9d11cc3f3d25",
   "metadata": {
    "id": "e618f0b8-a07c-4d20-99cf-9d11cc3f3d25"
   },
   "outputs": [],
   "source": [
    "df_loc_4_H2OSOI_f5_5_mean = df_loc_4_H2OSOI_f5_5.mean(axis = 1, skipna = True)\n",
    "df_loc_4_H2OSOI_f5_5_mean"
   ]
  },
  {
   "cell_type": "code",
   "execution_count": null,
   "id": "1067f3d5-77bc-416e-bbcb-123ac6b220c8",
   "metadata": {
    "id": "1067f3d5-77bc-416e-bbcb-123ac6b220c8"
   },
   "outputs": [],
   "source": [
    "#Plotting the H2OSOI variable DataFrame (Loc 4) using line plot function\n",
    "df_loc_4_H2OSOI_f5_5_mean.plot(kind='line')\n",
    "plt.xlabel(\"Time\",size=15)\n",
    "plt.ylabel(\"Levsoi\",size=15)\n",
    "plt.title(\"H2OSOI - Volumetric Soil Water (Loc 4) - 2020 \\nlat=11.78, lon=80.0\",size=20)"
   ]
  },
  {
   "cell_type": "code",
   "execution_count": null,
   "id": "7d91899f-9ffd-4442-96c3-d75e8ded6b03",
   "metadata": {
    "id": "7d91899f-9ffd-4442-96c3-d75e8ded6b03"
   },
   "outputs": [],
   "source": [
    "#Plotting the H2OSOI variable DataFrame for all locations using line plot function\n",
    "df_loc_1_H2OSOI_f5_5_mean.plot(kind='line', label = 'Loc 1')\n",
    "df_loc_2_H2OSOI_f5_5_mean.plot(kind='line', label = 'Loc 2')\n",
    "df_loc_3_H2OSOI_f5_5_mean.plot(kind='line', label = 'Loc 3')\n",
    "df_loc_4_H2OSOI_f5_5_mean.plot(kind='line', label = 'Loc 4')\n",
    "plt.xlabel(\"Time (46 days)\",size=15)\n",
    "plt.ylabel(\"Levsoi\",size=15)\n",
    "plt.title(\"H2OSOI - Volumetric Soil Water - 2020\",size=20)\n",
    "plt.legend(title= 'Location', title_fontsize = 15, prop = {'size' : 10},  bbox_to_anchor= (1, 1));"
   ]
  },
  {
   "cell_type": "code",
   "execution_count": null,
   "id": "ca3951bb-3583-43fb-acf6-021d63f15d29",
   "metadata": {
    "id": "ca3951bb-3583-43fb-acf6-021d63f15d29"
   },
   "outputs": [],
   "source": [
    "ds_f6 = xr.open_dataset(\"cesm2cam6v2.2021-01-25.09.clm2.h0.2021-01-25-00000.nc\", engine=\"netcdf4\")"
   ]
  },
  {
   "cell_type": "code",
   "execution_count": null,
   "id": "76deb062-ee8a-4bd3-b5e5-549a3e61d186",
   "metadata": {
    "id": "76deb062-ee8a-4bd3-b5e5-549a3e61d186"
   },
   "outputs": [],
   "source": [
    "ds_f6"
   ]
  },
  {
   "cell_type": "code",
   "execution_count": null,
   "id": "a89300d6-aedb-4e72-ae01-5ef0eee52b2c",
   "metadata": {
    "id": "a89300d6-aedb-4e72-ae01-5ef0eee52b2c"
   },
   "outputs": [],
   "source": [
    "#Los Angels Location - Latitude & Longitude co-ordinates\n",
    "# identified Location is Howe Road, Ventura County, California, 93015\n",
    "\n",
    "loc_1_H2OSOI_f6=ds_f6.H2OSOI.sel(lat=34.0522, lon=241.75, method='nearest')\n",
    "loc_1_DZSOI_f6=ds_f6.DZSOI.sel(lat=34.0522, lon=241.75, method='nearest')\n",
    "loc_1_ZSOI_f6 = ds_f6.ZSOI.sel(lat=34.0522, lon=241.75, method='nearest')\n",
    "\n",
    "#Cheyenne Location - Latitude & Longitude co-ordinates\n",
    "# identified Location is near Cheyenne\n",
    "\n",
    "loc_2_H2OSOI_f6=ds_f6.H2OSOI.sel(lat=41.02, lon=244.05, method='nearest')\n",
    "loc_2_DZSOI_f6=ds_f6.DZSOI.sel(lat=41.02, lon=244.05, method='nearest')\n",
    "loc_2_ZSOI_f6 = ds_f6.ZSOI.sel(lat=41.02, lon=244.05, method='nearest')\n",
    "\n",
    "#Boston Location - Latitude & Longitude co-ordinates\n",
    "# identified Location is Near to Boston\n",
    "\n",
    "loc_3_H2OSOI_f6=ds_f6.H2OSOI.sel(lat=41.08, lon=243.05, method='nearest')\n",
    "loc_3_DZSOI_f6=ds_f6.DZSOI.sel(lat=41.08, lon=243.05, method='nearest')\n",
    "loc_3_ZSOI_f6 = ds_f6.ZSOI.sel(lat=41.08, lon=243.05, method='nearest')\n",
    "\n",
    "#Villupuram - Latitude & Longitude co-ordinates\n",
    "# identified Location is around VPM\n",
    "\n",
    "loc_4_H2OSOI_f6=ds_f6.H2OSOI.sel(lat=11.938066, lon=79.488102, method='nearest')\n",
    "loc_4_DZSOI_f6=ds_f6.DZSOI.sel(lat=11.938066, lon=79.488102, method='nearest')\n",
    "loc_4_ZSOI_f6 = ds_f6.ZSOI.sel(lat=11.938066, lon=79.488102, method='nearest')"
   ]
  },
  {
   "cell_type": "code",
   "execution_count": null,
   "id": "e22aaae4-2b7b-4636-95ef-6732d842fc05",
   "metadata": {
    "id": "e22aaae4-2b7b-4636-95ef-6732d842fc05"
   },
   "outputs": [],
   "source": [
    "#Merging the variables (H2OSOI, DZSOI and ZSOI) into a single Dataset (Loc 1)\n",
    "data_1_f6 = xr.merge((loc_1_H2OSOI_f6,loc_1_DZSOI_f6,loc_1_ZSOI_f6), compat='override')\n",
    "data_1_f6"
   ]
  },
  {
   "cell_type": "code",
   "execution_count": null,
   "id": "5a08c77f-e302-4958-9b69-9693bf09c47b",
   "metadata": {
    "id": "5a08c77f-e302-4958-9b69-9693bf09c47b"
   },
   "outputs": [],
   "source": [
    "dataa_1_mul_50_f6 = data_1_f6 * 50\n",
    "dataa_1_mul_50_f6"
   ]
  },
  {
   "cell_type": "code",
   "execution_count": null,
   "id": "baff0c81-f21b-40d6-b20f-142d44156db4",
   "metadata": {
    "id": "baff0c81-f21b-40d6-b20f-142d44156db4"
   },
   "outputs": [],
   "source": [
    "#Creating a DataFrame for the variable H2OSOI (Loc 1)\n",
    "df_loc_1_H2OSOI_f6 = pd.DataFrame(dataa_1_mul_50_f6.H2OSOI)\n",
    "df_loc_1_H2OSOI_f6"
   ]
  },
  {
   "cell_type": "code",
   "execution_count": null,
   "id": "21f420a1-71e2-47c3-bf14-2be417434588",
   "metadata": {
    "id": "21f420a1-71e2-47c3-bf14-2be417434588"
   },
   "outputs": [],
   "source": [
    "df_loc_1_H2OSOI_f6_5 = df_loc_1_H2OSOI_f6.iloc[:,:5]  \n",
    "df_loc_1_H2OSOI_f6_5"
   ]
  },
  {
   "cell_type": "code",
   "execution_count": null,
   "id": "44b058a8-d4e4-4a90-9151-d13d44e338c5",
   "metadata": {
    "id": "44b058a8-d4e4-4a90-9151-d13d44e338c5"
   },
   "outputs": [],
   "source": [
    "df_loc_1_H2OSOI_f6_5_mean = df_loc_1_H2OSOI_f6_5.mean(axis = 1, skipna = True)\n",
    "df_loc_1_H2OSOI_f6_5_mean"
   ]
  },
  {
   "cell_type": "code",
   "execution_count": null,
   "id": "275b821c-d7a8-4f2d-ab7e-15bf7eda89c1",
   "metadata": {
    "id": "275b821c-d7a8-4f2d-ab7e-15bf7eda89c1"
   },
   "outputs": [],
   "source": [
    "#Plotting the H2OSOI variable DataFrame (Loc 1) using line plot function\n",
    "df_loc_1_H2OSOI_f6_5_mean.plot(kind='line')\n",
    "plt.xlabel(\"Time\",size=15)\n",
    "plt.ylabel(\"Levsoi\",size=15)\n",
    "plt.title(\"H2OSOI - Volumetric Soil Water (Loc 1) - 2021 \\nlat=34.4, lon=241.2\",size=20)"
   ]
  },
  {
   "cell_type": "code",
   "execution_count": null,
   "id": "b7b02c8d-0d64-4e80-b8d6-f102ac695161",
   "metadata": {
    "id": "b7b02c8d-0d64-4e80-b8d6-f102ac695161"
   },
   "outputs": [],
   "source": [
    "data_2_f6 = xr.merge((loc_2_H2OSOI_f6,loc_2_DZSOI_f6,loc_2_ZSOI_f6), compat='override')\n",
    "data_2_mul_50_f6 = data_2_f6 * 50\n",
    "df_loc_2_H2OSOI_f6 = pd.DataFrame(data_2_mul_50_f6.H2OSOI)\n",
    "df_loc_2_H2OSOI_f6_5 = df_loc_2_H2OSOI_f6.iloc[:,:5]\n",
    "df_loc_2_H2OSOI_f6_5_mean = df_loc_2_H2OSOI_f6_5.mean(axis = 1, skipna = True)\n",
    "df_loc_2_H2OSOI_f6_5_mean"
   ]
  },
  {
   "cell_type": "code",
   "execution_count": null,
   "id": "9897bc72-2cb3-47a2-8e51-ee8a5d6b944a",
   "metadata": {
    "id": "9897bc72-2cb3-47a2-8e51-ee8a5d6b944a"
   },
   "outputs": [],
   "source": [
    "#Plotting the H2OSOI variable DataFrame (Loc 2) using line plot function\n",
    "df_loc_2_H2OSOI_f6_5_mean.plot(kind='line')\n",
    "plt.xlabel(\"Time\",size=15)\n",
    "plt.ylabel(\"Levsoi\",size=15)\n",
    "plt.title(\"H2OSOI - Volumetric Soil Water (Loc 2) - 2021 \\nlat=40.99, lon=243.8\",size=20)"
   ]
  },
  {
   "cell_type": "code",
   "execution_count": null,
   "id": "70e36556-981e-476c-a670-27d2ca614335",
   "metadata": {
    "id": "70e36556-981e-476c-a670-27d2ca614335"
   },
   "outputs": [],
   "source": [
    "data_3_f6 = xr.merge((loc_3_H2OSOI_f6,loc_3_DZSOI_f6,loc_3_ZSOI_f6), compat='override')\n",
    "data_3_mul_50_f6 = data_3_f6 * 50\n",
    "df_loc_3_H2OSOI_f6 = pd.DataFrame(data_3_mul_50_f6.H2OSOI)\n",
    "df_loc_3_H2OSOI_f6_5 = df_loc_3_H2OSOI_f6.iloc[:,:5]\n",
    "df_loc_3_H2OSOI_f6_5_mean = df_loc_3_H2OSOI_f6_5.mean(axis = 1, skipna = True)\n",
    "df_loc_3_H2OSOI_f6_5_mean"
   ]
  },
  {
   "cell_type": "code",
   "execution_count": null,
   "id": "8483823a-7a62-467d-8acb-9f6cbe8c9a48",
   "metadata": {
    "id": "8483823a-7a62-467d-8acb-9f6cbe8c9a48"
   },
   "outputs": [],
   "source": [
    "#Plotting the H2OSOI variable DataFrame (Loc 3) using line plot function\n",
    "df_loc_3_H2OSOI_f6_5_mean.plot(kind='line')\n",
    "plt.xlabel(\"Time\",size=15)\n",
    "plt.ylabel(\"Levsoi\",size=15)\n",
    "plt.title(\"H2OSOI - Volumetric Soil Water (Loc 3) - 2021 \\nlat=40.99, lon=242.5\",size=20)"
   ]
  },
  {
   "cell_type": "code",
   "execution_count": null,
   "id": "56e4b53b-0e66-43bf-bdb7-5362fdd20e94",
   "metadata": {
    "id": "56e4b53b-0e66-43bf-bdb7-5362fdd20e94"
   },
   "outputs": [],
   "source": [
    "data_4_f6 = xr.merge((loc_4_H2OSOI_f6,loc_4_DZSOI_f6,loc_4_ZSOI_f6), compat='override')\n",
    "data_4_mul_50_f6 = data_4_f6 * 50\n",
    "df_loc_4_H2OSOI_f6 = pd.DataFrame(data_4_mul_50_f6.H2OSOI)\n",
    "df_loc_4_H2OSOI_f6_5 = df_loc_4_H2OSOI_f6.iloc[:,:5]\n",
    "df_loc_4_H2OSOI_f6_5_mean = df_loc_4_H2OSOI_f6_5.mean(axis = 1, skipna = True)\n",
    "df_loc_4_H2OSOI_f6_5_mean"
   ]
  },
  {
   "cell_type": "code",
   "execution_count": null,
   "id": "3a055448-c836-410c-b53b-edf1c9051b65",
   "metadata": {
    "id": "3a055448-c836-410c-b53b-edf1c9051b65"
   },
   "outputs": [],
   "source": [
    "#Plotting the H2OSOI variable DataFrame (Loc 4) using line plot function\n",
    "df_loc_4_H2OSOI_f6_5_mean.plot(kind='line')\n",
    "plt.xlabel(\"Time\",size=15)\n",
    "plt.ylabel(\"Levsoi\",size=15)\n",
    "plt.title(\"H2OSOI - Volumetric Soil Water (Loc 4) - 2021 \\nlat=11.78, lon=80.0\",size=20)"
   ]
  },
  {
   "cell_type": "code",
   "execution_count": null,
   "id": "6d5d584c-0ff5-4df6-8954-151f96c3ce76",
   "metadata": {
    "id": "6d5d584c-0ff5-4df6-8954-151f96c3ce76"
   },
   "outputs": [],
   "source": [
    "#Plotting the H2OSOI variable DataFrame for all locations using line plot function\n",
    "df_loc_1_H2OSOI_f6_5_mean.plot(kind='line', label = 'Loc 1')\n",
    "df_loc_2_H2OSOI_f6_5_mean.plot(kind='line', label = 'Loc 2')\n",
    "df_loc_3_H2OSOI_f6_5_mean.plot(kind='line', label = 'Loc 3')\n",
    "df_loc_4_H2OSOI_f6_5_mean.plot(kind='line', label = 'Loc 4')\n",
    "plt.xlabel(\"Time (46 days)\",size=15)\n",
    "plt.ylabel(\"Levsoi\",size=15)\n",
    "plt.title(\"H2OSOI - Volumetric Soil Water - 2021\",size=20)\n",
    "plt.legend(title= 'Location', title_fontsize = 15, prop = {'size' : 10},  bbox_to_anchor= (1, 1));"
   ]
  },
  {
   "cell_type": "code",
   "execution_count": null,
   "id": "a13e6ff7-c43b-4c9a-bf26-c82a8ee99709",
   "metadata": {
    "id": "a13e6ff7-c43b-4c9a-bf26-c82a8ee99709"
   },
   "outputs": [],
   "source": [
    "ds_f7 = xr.open_dataset(\"cesm2cam6v2.2022-01-24.09.clm2.h0.2022-01-24-00000.nc\", engine=\"netcdf4\")"
   ]
  },
  {
   "cell_type": "code",
   "execution_count": null,
   "id": "015eea7c-e6ed-4d50-b6f3-834c64611bac",
   "metadata": {
    "id": "015eea7c-e6ed-4d50-b6f3-834c64611bac"
   },
   "outputs": [],
   "source": [
    "ds_f7"
   ]
  },
  {
   "cell_type": "code",
   "execution_count": null,
   "id": "d95cd75b-e7ad-41ee-ad70-2f2e2a9392d7",
   "metadata": {
    "id": "d95cd75b-e7ad-41ee-ad70-2f2e2a9392d7"
   },
   "outputs": [],
   "source": [
    "#Los Angels Location - Latitude & Longitude co-ordinates\n",
    "# identified Location is Howe Road, Ventura County, California, 93015\n",
    "\n",
    "loc_1_H2OSOI_f7=ds_f7.H2OSOI.sel(lat=34.0522, lon=241.75, method='nearest')\n",
    "loc_1_DZSOI_f7=ds_f7.DZSOI.sel(lat=34.0522, lon=241.75, method='nearest')\n",
    "loc_1_ZSOI_f7 = ds_f7.ZSOI.sel(lat=34.0522, lon=241.75, method='nearest')\n",
    "\n",
    "#Cheyenne Location - Latitude & Longitude co-ordinates\n",
    "# identified Location is near Cheyenne\n",
    "\n",
    "loc_2_H2OSOI_f7=ds_f7.H2OSOI.sel(lat=41.02, lon=244.05, method='nearest')\n",
    "loc_2_DZSOI_f7=ds_f7.DZSOI.sel(lat=41.02, lon=244.05, method='nearest')\n",
    "loc_2_ZSOI_f7 = ds_f7.ZSOI.sel(lat=41.02, lon=244.05, method='nearest')\n",
    "\n",
    "#Boston Location - Latitude & Longitude co-ordinates\n",
    "# identified Location is Near to Boston\n",
    "\n",
    "loc_3_H2OSOI_f7=ds_f7.H2OSOI.sel(lat=41.08, lon=243.05, method='nearest')\n",
    "loc_3_DZSOI_f7=ds_f7.DZSOI.sel(lat=41.08, lon=243.05, method='nearest')\n",
    "loc_3_ZSOI_f7 = ds_f7.ZSOI.sel(lat=41.08, lon=243.05, method='nearest')\n",
    "\n",
    "#Villupuram - Latitude & Longitude co-ordinates\n",
    "# identified Location is around VPM\n",
    "\n",
    "loc_4_H2OSOI_f7=ds_f7.H2OSOI.sel(lat=11.938066, lon=79.488102, method='nearest')\n",
    "loc_4_DZSOI_f7=ds_f7.DZSOI.sel(lat=11.938066, lon=79.488102, method='nearest')\n",
    "loc_4_ZSOI_f7 = ds_f7.ZSOI.sel(lat=11.938066, lon=79.488102, method='nearest')"
   ]
  },
  {
   "cell_type": "code",
   "execution_count": null,
   "id": "00b7b5d0-4527-4015-9534-22a2b3f73b83",
   "metadata": {
    "id": "00b7b5d0-4527-4015-9534-22a2b3f73b83"
   },
   "outputs": [],
   "source": [
    "data_1_f7 = xr.merge((loc_1_H2OSOI_f7,loc_1_DZSOI_f7,loc_1_ZSOI_f7), compat='override')\n",
    "dataa_1_mul_50_f7 = data_1_f7 * 50\n",
    "df_loc_1_H2OSOI_f7 = pd.DataFrame(dataa_1_mul_50_f7.H2OSOI)\n",
    "df_loc_1_H2OSOI_f7_5 = df_loc_1_H2OSOI_f7.iloc[:,:5]\n",
    "df_loc_1_H2OSOI_f7_5_mean = df_loc_1_H2OSOI_f7_5.mean(axis = 1, skipna = True)\n",
    "df_loc_1_H2OSOI_f7_5_mean"
   ]
  },
  {
   "cell_type": "code",
   "execution_count": null,
   "id": "15f0e13e-4600-436b-987b-f98d5cbe9afd",
   "metadata": {
    "id": "15f0e13e-4600-436b-987b-f98d5cbe9afd"
   },
   "outputs": [],
   "source": [
    "#Plotting the H2OSOI variable DataFrame (Loc 1) using line plot function\n",
    "df_loc_1_H2OSOI_f7_5_mean.plot(kind='line')\n",
    "plt.xlabel(\"Time\",size=15)\n",
    "plt.ylabel(\"Levsoi\",size=15)\n",
    "plt.title(\"H2OSOI - Volumetric Soil Water (Loc 1) - 2022 \\nlat=34.4, lon=241.2\",size=20)"
   ]
  },
  {
   "cell_type": "code",
   "execution_count": null,
   "id": "10982761-23b7-4219-8f47-e8d37b114fb3",
   "metadata": {
    "id": "10982761-23b7-4219-8f47-e8d37b114fb3"
   },
   "outputs": [],
   "source": [
    "data_2_f7 = xr.merge((loc_2_H2OSOI_f7,loc_2_DZSOI_f7,loc_2_ZSOI_f7), compat='override')\n",
    "data_2_mul_50_f7 = data_2_f7 * 50\n",
    "df_loc_2_H2OSOI_f7 = pd.DataFrame(data_2_mul_50_f7.H2OSOI)\n",
    "df_loc_2_H2OSOI_f7_5 = df_loc_2_H2OSOI_f7.iloc[:,:5]\n",
    "df_loc_2_H2OSOI_f7_5_mean = df_loc_2_H2OSOI_f7_5.mean(axis = 1, skipna = True)\n",
    "df_loc_2_H2OSOI_f7_5_mean"
   ]
  },
  {
   "cell_type": "code",
   "execution_count": null,
   "id": "e1d82f7b-bb1a-4a5d-9155-47d0147925a8",
   "metadata": {
    "id": "e1d82f7b-bb1a-4a5d-9155-47d0147925a8"
   },
   "outputs": [],
   "source": [
    "#Plotting the H2OSOI variable DataFrame (Loc 2) using line plot function\n",
    "df_loc_2_H2OSOI_f7_5_mean.plot(kind='line')\n",
    "plt.xlabel(\"Time\",size=15)\n",
    "plt.ylabel(\"Levsoi\",size=15)\n",
    "plt.title(\"H2OSOI - Volumetric Soil Water (Loc 2) - 2022 \\nlat=40.99, lon=243.8\",size=20)"
   ]
  },
  {
   "cell_type": "code",
   "execution_count": null,
   "id": "05a5bcfe-650b-4ed7-9b05-672ec4f2b6e4",
   "metadata": {
    "id": "05a5bcfe-650b-4ed7-9b05-672ec4f2b6e4"
   },
   "outputs": [],
   "source": [
    "data_3_f7 = xr.merge((loc_3_H2OSOI_f7,loc_3_DZSOI_f7,loc_3_ZSOI_f7), compat='override')\n",
    "data_3_mul_50_f7 = data_3_f7 * 50\n",
    "df_loc_3_H2OSOI_f7 = pd.DataFrame(data_3_mul_50_f7.H2OSOI)\n",
    "df_loc_3_H2OSOI_f7_5 = df_loc_3_H2OSOI_f7.iloc[:,:5]\n",
    "df_loc_3_H2OSOI_f7_5_mean = df_loc_3_H2OSOI_f7_5.mean(axis = 1, skipna = True)\n",
    "df_loc_3_H2OSOI_f7_5_mean"
   ]
  },
  {
   "cell_type": "code",
   "execution_count": null,
   "id": "ef72b167-d024-4e58-8865-a6124336dbfc",
   "metadata": {
    "id": "ef72b167-d024-4e58-8865-a6124336dbfc"
   },
   "outputs": [],
   "source": [
    "#Plotting the H2OSOI variable DataFrame (Loc 3) using line plot function\n",
    "df_loc_3_H2OSOI_f7_5_mean.plot(kind='line')\n",
    "plt.xlabel(\"Time\",size=15)\n",
    "plt.ylabel(\"Levsoi\",size=15)\n",
    "plt.title(\"H2OSOI - Volumetric Soil Water (Loc 3) - 2022 \\nlat=40.99, lon=242.5\",size=20)"
   ]
  },
  {
   "cell_type": "code",
   "execution_count": null,
   "id": "feb0b83b-412a-4fbc-b27b-65447f35d4f8",
   "metadata": {
    "id": "feb0b83b-412a-4fbc-b27b-65447f35d4f8"
   },
   "outputs": [],
   "source": [
    "data_4_f7 = xr.merge((loc_4_H2OSOI_f7,loc_4_DZSOI_f7,loc_4_ZSOI_f7), compat='override')\n",
    "data_4_mul_50_f7 = data_4_f7 * 50\n",
    "df_loc_4_H2OSOI_f7 = pd.DataFrame(data_4_mul_50_f7.H2OSOI)\n",
    "df_loc_4_H2OSOI_f7_5 = df_loc_4_H2OSOI_f7.iloc[:,:5]\n",
    "df_loc_4_H2OSOI_f7_5_mean = df_loc_4_H2OSOI_f7_5.mean(axis = 1, skipna = True)\n",
    "df_loc_4_H2OSOI_f7_5_mean"
   ]
  },
  {
   "cell_type": "code",
   "execution_count": null,
   "id": "06110fac-3d95-41f7-b422-ac18607292b9",
   "metadata": {
    "id": "06110fac-3d95-41f7-b422-ac18607292b9"
   },
   "outputs": [],
   "source": [
    "#Plotting the H2OSOI variable DataFrame (Loc 4) using line plot function\n",
    "df_loc_4_H2OSOI_f7_5_mean.plot(kind='line')\n",
    "plt.xlabel(\"Time\",size=15)\n",
    "plt.ylabel(\"Levsoi\",size=15)\n",
    "plt.title(\"H2OSOI - Volumetric Soil Water (Loc 4) - 2022 \\nlat=11.78, lon=80.0\",size=20)"
   ]
  },
  {
   "cell_type": "code",
   "execution_count": null,
   "id": "a83c71b7-03bd-4666-9550-2f8105f9918d",
   "metadata": {
    "id": "a83c71b7-03bd-4666-9550-2f8105f9918d"
   },
   "outputs": [],
   "source": [
    "#Plotting the H2OSOI variable DataFrame for all locations using line plot function\n",
    "df_loc_1_H2OSOI_f7_5_mean.plot(kind='line', label = 'Loc 1')\n",
    "df_loc_2_H2OSOI_f7_5_mean.plot(kind='line', label = 'Loc 2')\n",
    "df_loc_3_H2OSOI_f7_5_mean.plot(kind='line', label = 'Loc 3')\n",
    "df_loc_4_H2OSOI_f7_5_mean.plot(kind='line', label = 'Loc 4')\n",
    "plt.xlabel(\"Time (46 days)\",size=15)\n",
    "plt.ylabel(\"Levsoi\",size=15)\n",
    "plt.title(\"H2OSOI - Volumetric Soil Water - 2022\",size=20)\n",
    "plt.legend(title= 'Location', title_fontsize = 15, prop = {'size' : 10},  bbox_to_anchor= (1, 1));"
   ]
  },
  {
   "cell_type": "markdown",
   "id": "0a973487-27ef-433e-9aa4-8f7ccbe22557",
   "metadata": {
    "id": "0a973487-27ef-433e-9aa4-8f7ccbe22557"
   },
   "source": [
    "<b><u><font size=\"5\"><font color = \"blue\">Mean Levsoi of H2OSOI - Year 2016 (All Locations)</font></u></b>"
   ]
  },
  {
   "cell_type": "code",
   "execution_count": null,
   "id": "aff87cef-d3e0-45cc-8518-3bbfafbb6946",
   "metadata": {
    "id": "aff87cef-d3e0-45cc-8518-3bbfafbb6946"
   },
   "outputs": [],
   "source": [
    "df_merged_year_1 = pd.concat([df_loc_1_H2OSOI_f1_5_mean, df_loc_2_H2OSOI_f1_5_mean, df_loc_3_H2OSOI_f1_5_mean, df_loc_4_H2OSOI_f1_5_mean], axis=1, join=\"inner\")\n",
    "df_merged_year_1.columns = ['Levsoi_H2OSOI (Loc 1)', 'Levsoi_H2OSOI (Loc 2)', 'Levsoi_H2OSOI (Loc 3)','Levsoi_H2OSOI (Loc 4)']\n",
    "df_merged_year_1"
   ]
  },
  {
   "cell_type": "code",
   "execution_count": null,
   "id": "27a70bee-b045-49b4-9ffc-6946d0f9ecf2",
   "metadata": {
    "id": "27a70bee-b045-49b4-9ffc-6946d0f9ecf2"
   },
   "outputs": [],
   "source": [
    "df_merged_year_1.plot()\n",
    "plt.xlabel(\"Time (46 days)\",size=15)\n",
    "plt.ylabel(\"Levsoi\",size=15)\n",
    "plt.title(\"H2OSOI - Volumetric Soil Water - 2016\",size=20)\n",
    "plt.legend(title= 'Location', title_fontsize = 15, prop = {'size' : 10},  bbox_to_anchor= (1, 1));"
   ]
  },
  {
   "cell_type": "markdown",
   "id": "cd3e683b-05e0-46cb-bc43-e65bd0f3f164",
   "metadata": {
    "id": "cd3e683b-05e0-46cb-bc43-e65bd0f3f164"
   },
   "source": [
    "<b><u><font size=\"5\"><font color = \"blue\">Mean Levsoi of H2OSOI - Year 2017 (All Locations)</font></u></b>"
   ]
  },
  {
   "cell_type": "code",
   "execution_count": null,
   "id": "cb130535-73c8-42fe-9153-7aa7e9990811",
   "metadata": {
    "id": "cb130535-73c8-42fe-9153-7aa7e9990811"
   },
   "outputs": [],
   "source": [
    "df_merged_year_2 = pd.concat([df_loc_1_H2OSOI_f2_5_mean, df_loc_2_H2OSOI_f2_5_mean, df_loc_3_H2OSOI_f2_5_mean, df_loc_4_H2OSOI_f2_5_mean], axis=1, join=\"inner\")\n",
    "df_merged_year_2.columns = ['Levsoi_H2OSOI (Loc 1)', 'Levsoi_H2OSOI (Loc 2)', 'Levsoi_H2OSOI (Loc 3)','Levsoi_H2OSOI (Loc 4)']\n",
    "df_merged_year_2"
   ]
  },
  {
   "cell_type": "code",
   "execution_count": null,
   "id": "0fda92c7-e8e4-4f65-8613-b5da1035194a",
   "metadata": {
    "id": "0fda92c7-e8e4-4f65-8613-b5da1035194a"
   },
   "outputs": [],
   "source": [
    "df_merged_year_2.plot()\n",
    "plt.xlabel(\"Time (46 days)\",size=15)\n",
    "plt.ylabel(\"Levsoi\",size=15)\n",
    "plt.title(\"H2OSOI - Volumetric Soil Water - 2017\",size=20)\n",
    "plt.legend(title= 'Location', title_fontsize = 15, prop = {'size' : 10},  bbox_to_anchor= (1, 1));"
   ]
  },
  {
   "cell_type": "markdown",
   "id": "ad61eb98-2072-49ab-bb19-872237a77b3a",
   "metadata": {
    "id": "ad61eb98-2072-49ab-bb19-872237a77b3a"
   },
   "source": [
    "<b><u><font size=\"5\"><font color = \"blue\">Mean Levsoi of H2OSOI - Year 2018 (All Locations)</font></u></b>"
   ]
  },
  {
   "cell_type": "code",
   "execution_count": null,
   "id": "29ae0de1-1cfb-4716-95d1-ab24e3c0324a",
   "metadata": {
    "id": "29ae0de1-1cfb-4716-95d1-ab24e3c0324a"
   },
   "outputs": [],
   "source": [
    "df_merged_year_3 = pd.concat([df_loc_1_H2OSOI_f3_5_mean, df_loc_2_H2OSOI_f3_5_mean, df_loc_3_H2OSOI_f3_5_mean, df_loc_4_H2OSOI_f3_5_mean], axis=1, join=\"inner\")\n",
    "df_merged_year_3.columns = ['Levsoi_H2OSOI (Loc 1)', 'Levsoi_H2OSOI (Loc 2)', 'Levsoi_H2OSOI (Loc 3)','Levsoi_H2OSOI (Loc 4)']\n",
    "df_merged_year_3"
   ]
  },
  {
   "cell_type": "code",
   "execution_count": null,
   "id": "881ee3ae-7fcc-4ca7-bf40-3b2f0d62fc74",
   "metadata": {
    "id": "881ee3ae-7fcc-4ca7-bf40-3b2f0d62fc74"
   },
   "outputs": [],
   "source": [
    "df_merged_year_3.plot()\n",
    "plt.xlabel(\"Time (46 days)\",size=15)\n",
    "plt.ylabel(\"Levsoi\",size=15)\n",
    "plt.title(\"H2OSOI - Volumetric Soil Water - 2018\",size=20)\n",
    "plt.legend(title= 'Location', title_fontsize = 15, prop = {'size' : 10},  bbox_to_anchor= (1, 1));"
   ]
  },
  {
   "cell_type": "markdown",
   "id": "cf962b13-8836-4ec4-a0a3-cd2f52282329",
   "metadata": {
    "id": "cf962b13-8836-4ec4-a0a3-cd2f52282329"
   },
   "source": [
    "<b><u><font size=\"5\"><font color = \"blue\">Mean Levsoi of H2OSOI - Year 2019 (All Locations)</font></u></b>"
   ]
  },
  {
   "cell_type": "code",
   "execution_count": null,
   "id": "551185cf-b2d7-4755-9907-bbe3debc973b",
   "metadata": {
    "id": "551185cf-b2d7-4755-9907-bbe3debc973b"
   },
   "outputs": [],
   "source": [
    "df_merged_year_4 = pd.concat([df_loc_1_H2OSOI_f4_5_mean, df_loc_2_H2OSOI_f4_5_mean, df_loc_3_H2OSOI_f4_5_mean, df_loc_4_H2OSOI_f4_5_mean], axis=1, join=\"inner\")\n",
    "df_merged_year_4.columns = ['Levsoi_H2OSOI (Loc 1)', 'Levsoi_H2OSOI (Loc 2)', 'Levsoi_H2OSOI (Loc 3)','Levsoi_H2OSOI (Loc 4)']\n",
    "df_merged_year_4"
   ]
  },
  {
   "cell_type": "code",
   "execution_count": null,
   "id": "ad4e82b3-5de8-42df-bcab-ae5a9c6a1a56",
   "metadata": {
    "id": "ad4e82b3-5de8-42df-bcab-ae5a9c6a1a56"
   },
   "outputs": [],
   "source": [
    "df_merged_year_4.plot()\n",
    "plt.xlabel(\"Time (46 days)\",size=15)\n",
    "plt.ylabel(\"Levsoi\",size=15)\n",
    "plt.title(\"H2OSOI - Volumetric Soil Water - 2019\",size=20)\n",
    "plt.legend(title= 'Location', title_fontsize = 15, prop = {'size' : 10},  bbox_to_anchor= (1, 1));"
   ]
  },
  {
   "cell_type": "markdown",
   "id": "7098f5b2-997a-4552-a21a-84023c5bf864",
   "metadata": {
    "id": "7098f5b2-997a-4552-a21a-84023c5bf864"
   },
   "source": [
    "<b><u><font size=\"5\"><font color = \"blue\">Mean Levsoi of H2OSOI - Year 2020 (All Locations)</font></u></b>"
   ]
  },
  {
   "cell_type": "code",
   "execution_count": null,
   "id": "3b90c284-2c7e-43ea-a153-5316439562c8",
   "metadata": {
    "id": "3b90c284-2c7e-43ea-a153-5316439562c8"
   },
   "outputs": [],
   "source": [
    "df_merged_year_5 = pd.concat([df_loc_1_H2OSOI_f5_5_mean, df_loc_2_H2OSOI_f5_5_mean, df_loc_3_H2OSOI_f5_5_mean, df_loc_4_H2OSOI_f5_5_mean], axis=1, join=\"inner\")\n",
    "df_merged_year_5.columns = ['Levsoi_H2OSOI (Loc 1)', 'Levsoi_H2OSOI (Loc 2)', 'Levsoi_H2OSOI (Loc 3)','Levsoi_H2OSOI (Loc 4)']\n",
    "df_merged_year_5"
   ]
  },
  {
   "cell_type": "code",
   "execution_count": null,
   "id": "2c27ca5a-8116-442c-b892-d209bb601750",
   "metadata": {
    "id": "2c27ca5a-8116-442c-b892-d209bb601750"
   },
   "outputs": [],
   "source": [
    "df_merged_year_5.plot()\n",
    "plt.xlabel(\"Time (46 days)\",size=15)\n",
    "plt.ylabel(\"Levsoi\",size=15)\n",
    "plt.title(\"H2OSOI - Volumetric Soil Water - 2020\",size=20)\n",
    "plt.legend(title= 'Location', title_fontsize = 15, prop = {'size' : 10},  bbox_to_anchor= (1, 1));"
   ]
  },
  {
   "cell_type": "markdown",
   "id": "82c67468-033f-41ff-b1d1-dfddd2318c95",
   "metadata": {
    "id": "82c67468-033f-41ff-b1d1-dfddd2318c95"
   },
   "source": [
    "<b><u><font size=\"5\"><font color = \"blue\">Mean Levsoi of H2OSOI - Year 2021 (All Locations)</font></u><b>"
   ]
  },
  {
   "cell_type": "code",
   "execution_count": null,
   "id": "ebc14c12-da45-4118-90cd-17fa592a0785",
   "metadata": {
    "id": "ebc14c12-da45-4118-90cd-17fa592a0785"
   },
   "outputs": [],
   "source": [
    "df_merged_year_6 = pd.concat([df_loc_1_H2OSOI_f6_5_mean, df_loc_2_H2OSOI_f6_5_mean, df_loc_3_H2OSOI_f6_5_mean, df_loc_4_H2OSOI_f6_5_mean], axis=1, join=\"inner\")\n",
    "df_merged_year_6.columns = ['Levsoi_H2OSOI (Loc 1)', 'Levsoi_H2OSOI (Loc 2)', 'Levsoi_H2OSOI (Loc 3)','Levsoi_H2OSOI (Loc 4)']\n",
    "df_merged_year_6"
   ]
  },
  {
   "cell_type": "code",
   "execution_count": null,
   "id": "49bb80de-cf08-454e-871e-3a62443cfd92",
   "metadata": {
    "id": "49bb80de-cf08-454e-871e-3a62443cfd92"
   },
   "outputs": [],
   "source": [
    "df_merged_year_6.plot()\n",
    "plt.xlabel(\"Time (46 days)\",size=15)\n",
    "plt.ylabel(\"Levsoi\",size=15)\n",
    "plt.title(\"H2OSOI - Volumetric Soil Water - 2021\",size=20)\n",
    "plt.legend(title= 'Location', title_fontsize = 15, prop = {'size' : 10},  bbox_to_anchor= (1, 1));"
   ]
  },
  {
   "cell_type": "markdown",
   "id": "9346865b-972a-4535-b35c-d37cc32201b6",
   "metadata": {
    "id": "9346865b-972a-4535-b35c-d37cc32201b6"
   },
   "source": [
    "<b><u><font size=\"5\"><font color = \"blue\">Mean Levsoi of H2OSOI - Year 2022 (All Locations)</font></u></b>"
   ]
  },
  {
   "cell_type": "code",
   "execution_count": null,
   "id": "7ab785fc-60bc-4229-9b86-42aa07a98193",
   "metadata": {
    "id": "7ab785fc-60bc-4229-9b86-42aa07a98193"
   },
   "outputs": [],
   "source": [
    "df_merged_year_7 = pd.concat([df_loc_1_H2OSOI_f7_5_mean, df_loc_2_H2OSOI_f7_5_mean, df_loc_3_H2OSOI_f7_5_mean, df_loc_4_H2OSOI_f7_5_mean], axis=1, join=\"inner\")\n",
    "df_merged_year_7.columns = ['Levsoi_H2OSOI (Loc 1)', 'Levsoi_H2OSOI (Loc 2)', 'Levsoi_H2OSOI (Loc 3)','Levsoi_H2OSOI (Loc 4)']\n",
    "df_merged_year_7"
   ]
  },
  {
   "cell_type": "code",
   "execution_count": null,
   "id": "a7a7a0aa-7797-48bd-9624-bd108fd2e261",
   "metadata": {
    "id": "a7a7a0aa-7797-48bd-9624-bd108fd2e261"
   },
   "outputs": [],
   "source": [
    "df_merged_year_7.plot()\n",
    "plt.xlabel(\"Time (46 days)\",size=15)\n",
    "plt.ylabel(\"Levsoi\",size=15)\n",
    "plt.title(\"H2OSOI - Volumetric Soil Water - 2022\",size=20)\n",
    "plt.legend(title= 'Location', title_fontsize = 15, prop = {'size' : 10},  bbox_to_anchor= (1, 1));"
   ]
  },
  {
   "cell_type": "markdown",
   "id": "98b95cb8-be58-44f7-b757-0d4baf7716c7",
   "metadata": {
    "id": "98b95cb8-be58-44f7-b757-0d4baf7716c7"
   },
   "source": [
    "<b><u><font size=\"5\"><font color = \"blue\">Mean Levsoi of H2OSOI - Location 1 (All years)</font></u></b>"
   ]
  },
  {
   "cell_type": "code",
   "execution_count": null,
   "id": "ea23cb87-c2e3-460a-86d8-e39e247a0a78",
   "metadata": {
    "id": "ea23cb87-c2e3-460a-86d8-e39e247a0a78"
   },
   "outputs": [],
   "source": [
    "df_location_1 = pd.concat([df_loc_1_H2OSOI_f1_5_mean, df_loc_1_H2OSOI_f2_5_mean,df_loc_1_H2OSOI_f3_5_mean, df_loc_1_H2OSOI_f4_5_mean, df_loc_1_H2OSOI_f5_5_mean, df_loc_1_H2OSOI_f6_5_mean, df_loc_1_H2OSOI_f7_5_mean], axis = 1, join = \"inner\")\n",
    "df_location_1.columns = ['2016','2017','2018','2019','2020','2021','2022']\n",
    "df_location_1"
   ]
  },
  {
   "cell_type": "code",
   "execution_count": null,
   "id": "e2ef4bc5-1b6c-4538-b3f1-4a102f1b78d7",
   "metadata": {
    "id": "e2ef4bc5-1b6c-4538-b3f1-4a102f1b78d7"
   },
   "outputs": [],
   "source": [
    "#Plotting the H2OSOI variable DataFrame for Location 1 using line plot function\n",
    "\n",
    "df_location_1.plot()\n",
    "plt.xlabel(\"Time (46 days)\",size=15)\n",
    "plt.ylabel(\"Levsoi\",size=15)\n",
    "plt.title(\"H2OSOI - Volumetric Soil Water - Location 1\",size=20)\n",
    "plt.legend(title= 'Years', title_fontsize = 15, prop = {'size' : 10},  bbox_to_anchor= (1, 1));"
   ]
  },
  {
   "cell_type": "markdown",
   "id": "3db30e2d-5014-4b67-8086-d697dbee065b",
   "metadata": {
    "id": "3db30e2d-5014-4b67-8086-d697dbee065b"
   },
   "source": [
    "<b><u><font size=\"5\"><font color = \"blue\">Mean Levsoi of H2OSOI - Location 2 (All years)</font></u></b>"
   ]
  },
  {
   "cell_type": "code",
   "execution_count": null,
   "id": "f5bf131e-66f4-4cea-9a3d-433fee046628",
   "metadata": {
    "id": "f5bf131e-66f4-4cea-9a3d-433fee046628"
   },
   "outputs": [],
   "source": [
    "df_location_2 = pd.concat([df_loc_2_H2OSOI_f1_5_mean, df_loc_2_H2OSOI_f2_5_mean,df_loc_2_H2OSOI_f3_5_mean, df_loc_2_H2OSOI_f4_5_mean, df_loc_2_H2OSOI_f5_5_mean, df_loc_2_H2OSOI_f6_5_mean, df_loc_2_H2OSOI_f7_5_mean], axis = 1, join = \"inner\")\n",
    "df_location_2.columns = ['2016','2017','2018','2019','2020','2021','2022']\n",
    "df_location_2"
   ]
  },
  {
   "cell_type": "code",
   "execution_count": null,
   "id": "99121950-f245-4d71-9f70-48b05c635457",
   "metadata": {
    "id": "99121950-f245-4d71-9f70-48b05c635457"
   },
   "outputs": [],
   "source": [
    "#Plotting the H2OSOI variable DataFrame for Location 2 using line plot function\n",
    "df_location_2.plot()\n",
    "plt.xlabel(\"Time (46 days)\",size=15)\n",
    "plt.ylabel(\"Levsoi\",size=15)\n",
    "plt.title(\"H2OSOI - Volumetric Soil Water - Location 2\",size=20)\n",
    "plt.legend(title= 'Years', title_fontsize = 15, prop = {'size' : 10},  bbox_to_anchor= (1, 1));"
   ]
  },
  {
   "cell_type": "markdown",
   "id": "39acc209-2e83-4d37-813c-3d43d31c4d97",
   "metadata": {
    "id": "39acc209-2e83-4d37-813c-3d43d31c4d97"
   },
   "source": [
    "<b><u><font size=\"5\"><font color = \"blue\">Mean Levsoi of H2OSOI - Location 3 (All years)</font></u></b>"
   ]
  },
  {
   "cell_type": "code",
   "execution_count": null,
   "id": "f76b8ef1-b44b-48bf-8395-cdbc0e2818f0",
   "metadata": {
    "id": "f76b8ef1-b44b-48bf-8395-cdbc0e2818f0"
   },
   "outputs": [],
   "source": [
    "df_location_3 = pd.concat([df_loc_3_H2OSOI_f1_5_mean, df_loc_3_H2OSOI_f2_5_mean,df_loc_3_H2OSOI_f3_5_mean, df_loc_3_H2OSOI_f4_5_mean, df_loc_3_H2OSOI_f5_5_mean, df_loc_3_H2OSOI_f6_5_mean, df_loc_3_H2OSOI_f7_5_mean], axis = 1, join = \"inner\")\n",
    "df_location_3.columns = ['2016','2017','2018','2019','2020','2021','2022']\n",
    "df_location_3"
   ]
  },
  {
   "cell_type": "code",
   "execution_count": null,
   "id": "a8153ac7-f385-4ef0-907f-b0541631a606",
   "metadata": {
    "id": "a8153ac7-f385-4ef0-907f-b0541631a606"
   },
   "outputs": [],
   "source": [
    "#Plotting the H2OSOI variable DataFrame for Location 3 using line plot function\n",
    "df_location_3.plot()\n",
    "plt.xlabel(\"Time (46 days)\",size=15)\n",
    "plt.ylabel(\"Levsoi\",size=15)\n",
    "plt.title(\"H2OSOI - Volumetric Soil Water - Location 3\",size=20)\n",
    "plt.legend(title= 'Years', title_fontsize = 15, prop = {'size' : 10},  bbox_to_anchor= (1, 1));"
   ]
  },
  {
   "cell_type": "markdown",
   "id": "c14c2a71-bd0b-496e-83b2-e0d8280b50c9",
   "metadata": {
    "id": "c14c2a71-bd0b-496e-83b2-e0d8280b50c9"
   },
   "source": [
    "<b><u><font size=\"5\"><font color = \"blue\">Mean Levsoi of H2OSOI - Location 4 (All years)</font></u></b>"
   ]
  },
  {
   "cell_type": "code",
   "execution_count": null,
   "id": "d1954a77-a528-4bcc-aade-319abcdb2688",
   "metadata": {
    "id": "d1954a77-a528-4bcc-aade-319abcdb2688"
   },
   "outputs": [],
   "source": [
    "df_location_4 = pd.concat([df_loc_4_H2OSOI_f1_5_mean, df_loc_4_H2OSOI_f2_5_mean,df_loc_4_H2OSOI_f3_5_mean, df_loc_4_H2OSOI_f4_5_mean, df_loc_4_H2OSOI_f5_5_mean, df_loc_4_H2OSOI_f6_5_mean, df_loc_4_H2OSOI_f7_5_mean], axis = 1, join = \"inner\")\n",
    "df_location_4.columns = ['2016','2017','2018','2019','2020','2021','2022']\n",
    "df_location_4"
   ]
  },
  {
   "cell_type": "code",
   "execution_count": null,
   "id": "a2eca236-7df0-4653-97cb-319b5fc8dab1",
   "metadata": {
    "id": "a2eca236-7df0-4653-97cb-319b5fc8dab1"
   },
   "outputs": [],
   "source": [
    "#Plotting the H2OSOI variable DataFrame for Location 4 using line plot function\n",
    "df_location_4.plot()\n",
    "plt.xlabel(\"Time (46 days)\",size=15)\n",
    "plt.ylabel(\"Levsoi\",size=15)\n",
    "plt.title(\"H2OSOI - Volumetric Soil Water - Location 4\",size=20)\n",
    "plt.legend(title= 'Years', title_fontsize = 15, prop = {'size' : 10},  bbox_to_anchor= (1, 1));"
   ]
  }
 ],
 "metadata": {
  "colab": {
   "collapsed_sections": [],
   "provenance": []
  },
  "kernelspec": {
   "display_name": "Python 3 (ipykernel)",
   "language": "python",
   "name": "python3"
  },
  "language_info": {
   "codemirror_mode": {
    "name": "ipython",
    "version": 3
   },
   "file_extension": ".py",
   "mimetype": "text/x-python",
   "name": "python",
   "nbconvert_exporter": "python",
   "pygments_lexer": "ipython3",
   "version": "3.9.12"
  }
 },
 "nbformat": 4,
 "nbformat_minor": 5
}
