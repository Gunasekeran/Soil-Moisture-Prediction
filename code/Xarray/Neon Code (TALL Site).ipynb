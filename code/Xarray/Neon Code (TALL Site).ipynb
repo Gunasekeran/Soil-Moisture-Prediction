{
 "cells": [
  {
   "cell_type": "code",
   "execution_count": null,
   "id": "6453d25e",
   "metadata": {},
   "outputs": [],
   "source": [
    "import warnings\n",
    "warnings.filterwarnings('ignore')\n",
    "import pandas as pd  #importing pandas  \n",
    "import glob #importing glob to deal with iterations within a directory\n",
    "import datetime #importing date time for date time manipulation"
   ]
  },
  {
   "cell_type": "code",
   "execution_count": null,
   "id": "1af307c5",
   "metadata": {},
   "outputs": [],
   "source": [
    "# Creating a collection of data frame to store various sites in diffrent frames\n",
    "dataframe_collection = {}"
   ]
  },
  {
   "cell_type": "code",
   "execution_count": null,
   "id": "4f0294bf",
   "metadata": {},
   "outputs": [],
   "source": [
    "# Creating a temporary data frame to store temp values for processing\n",
    "all_data = pd.DataFrame()"
   ]
  },
  {
   "cell_type": "code",
   "execution_count": null,
   "id": "9708e0ba",
   "metadata": {},
   "outputs": [],
   "source": [
    "#Setting the date range using pandas\n",
    "date1 = '2018-01'\n",
    "date2 = '2018-02'\n",
    "klist= pd.date_range('2018-01','2018-02',freq='M').strftime(\"%Y-%m\").tolist()"
   ]
  },
  {
   "cell_type": "code",
   "execution_count": null,
   "id": "241244b3",
   "metadata": {},
   "outputs": [],
   "source": [
    "#using 3 Loops, k loop to manage the date range (change if required), j loop is to manage the sites since (we chose 5 sites ranges from 1-6), the third loop is to iterate through diffrent files inside a given directory\n",
    "for k in range(0,1):\n",
    "    for j in range(1,6):\n",
    "        i=1\n",
    "        for f in glob.glob(\"NEON_conc-h2o-soil-salinity/NEON.D08.TALL.DP1.00094.001.%s.expanded.20220120T173946Z.RELEASE-2022/NEON.D08.TALL.DP1.00094.001.00%d.*.030.*\"%(klist[k],j)):\n",
    "#reading a single file and deleting and formatting the data based on our requirement\n",
    "            df = pd.read_csv(f)\n",
    "            del df['VSWCMinimum']\n",
    "            del df['VSWCMaximum']\n",
    "            del df['VSWCNumPts']\n",
    "            del df['VSWCExpUncert']\n",
    "            del df['VSWCStdErMean']\n",
    "            del df['VSICMinimum']\n",
    "            del df['VSICMaximum']\n",
    "            del df['VSICNumPts']\n",
    "            del df['VSICExpUncert']\n",
    "            del df['VSICStdErMean']\n",
    "            del df['VSWCVariance']\n",
    "            del df['VSICVariance']\n",
    "            df['startDateTime']= pd.to_datetime(df['startDateTime'])\n",
    "\n",
    "#resampling our existing data by averaging our data to daily data index is start date time \n",
    "            df=df.resample('d', on='startDateTime').mean()\n",
    " #Checking whether this is the first file for a given site which is being processes if first add to the orginal data frame since it is empty      \n",
    "            if k==0:\n",
    "                if i==1:\n",
    "                    dataframe_collection[j] = pd.DataFrame(index = df.index)\n",
    "                    dataframe_collection[j]['Level1VSWCMean'] = df['VSWCMean']\n",
    "                    dataframe_collection[j]['Level1VSWCFinalQF'] = df['VSWCFinalQF']\n",
    "                    dataframe_collection[j]['Level1VSICMean'] = df['VSICMean']\n",
    "                    dataframe_collection[j]['Level1VSICFinalQF'] = df['VSICFinalQF'] \n",
    "\n",
    "                else:\n",
    "                    dataframe_collection[j]['Level%dVSWCMean'%i] = df['VSWCMean']\n",
    "                    dataframe_collection[j]['Level%dVSWCFinalQF' %i] = df['VSWCFinalQF']\n",
    "                    dataframe_collection[j]['Level%dVSICMean' %i] = df['VSICMean']\n",
    "                    dataframe_collection[j]['Level%dVSICFinalQF'%i] = df['VSICFinalQF']\n",
    "#if it is not the first file for a given site then we store the processed data in a temporary data frame and append it after processing\n",
    "            else:\n",
    "                if i==1:\n",
    "                    all_data = pd.DataFrame(index = df.index)\n",
    "                    all_data['Level1VSWCMean'] = df['VSWCMean']\n",
    "                    all_data['Level1VSWCFinalQF'] = df['VSWCFinalQF']\n",
    "                    all_data['Level1VSICMean'] = df['VSICMean']\n",
    "                    all_data['Level1VSICFinalQF'] = df['VSICFinalQF'] \n",
    "\n",
    "                else:\n",
    "                    all_data['Level%dVSWCMean'%i] = df['VSWCMean']\n",
    "                    all_data['Level%dVSWCFinalQF' %i] = df['VSWCFinalQF']\n",
    "                    all_data['Level%dVSICMean' %i] = df['VSICMean']\n",
    "                    all_data['Level%dVSICFinalQF'%i] = df['VSICFinalQF']\n",
    "            i=i+1\n",
    "#appending the data frame\n",
    "            dataframe_collection[j]=dataframe_collection[j].append(all_data)"
   ]
  },
  {
   "cell_type": "code",
   "execution_count": null,
   "id": "ddee32e9",
   "metadata": {},
   "outputs": [],
   "source": [
    "# filling empty or missing values with -999\n",
    "dataframe_collection[1] = dataframe_collection[1].fillna(-999)\n",
    "dataframe_collection[2] = dataframe_collection[2].fillna(-999)\n",
    "dataframe_collection[3] = dataframe_collection[3].fillna(-999)\n",
    "dataframe_collection[4] = dataframe_collection[4].fillna(-999)\n",
    "dataframe_collection[5] = dataframe_collection[5].fillna(-999)"
   ]
  },
  {
   "cell_type": "code",
   "execution_count": null,
   "id": "8c10f3cc",
   "metadata": {},
   "outputs": [],
   "source": [
    "#stripping our timezone from datetime so that we can get it into a format which can be stored in excel)\n",
    "dataframe_collection[1].index=dataframe_collection[1].index.astype(str).str[:-6]\n",
    "dataframe_collection[2].index=dataframe_collection[2].index.astype(str).str[:-6]\n",
    "dataframe_collection[3].index=dataframe_collection[3].index.astype(str).str[:-6]\n",
    "dataframe_collection[4].index=dataframe_collection[4].index.astype(str).str[:-6]\n",
    "dataframe_collection[5].index=dataframe_collection[5].index.astype(str).str[:-6]"
   ]
  },
  {
   "cell_type": "code",
   "execution_count": null,
   "id": "3ffcfb13",
   "metadata": {},
   "outputs": [],
   "source": [
    "#writing the cleaned data to a new excel file where 5 sites are stored in 5 diffrent sheets        \n",
    "fname = 'FinalDataABBY2018.xlsx'\n",
    "writer = pd.ExcelWriter(fname,engine = 'xlsxwriter',options = {'remove_timezone': True})\n",
    "dataframe_collection[1].to_excel(writer, \"Site1\")\n",
    "dataframe_collection[2].to_excel(writer, \"Site2\")\n",
    "dataframe_collection[3].to_excel(writer, \"Site3\")\n",
    "dataframe_collection[4].to_excel(writer, \"Site4\")\n",
    "dataframe_collection[5].to_excel(writer, \"Site5\")"
   ]
  },
  {
   "cell_type": "code",
   "execution_count": null,
   "id": "8eb0c7f9",
   "metadata": {},
   "outputs": [],
   "source": [
    "## more dataframes goes here\n",
    "writer.save()"
   ]
  },
  {
   "cell_type": "code",
   "execution_count": null,
   "id": "3004618f",
   "metadata": {},
   "outputs": [],
   "source": [
    "df_1 = pd.read_excel('FinalDataABBY2018.xlsx', sheet_name='Site1')\n",
    "cols_1 = ['Level1VSWCMean', 'Level2VSWCMean', 'Level3VSWCMean', 'Level4VSWCMean', 'Level5VSWCMean', 'Level6VSWCMean', 'Level7VSWCMean', 'Level8VSWCMean']\n",
    "df_1['sum'] = df_1[cols_1].sum(axis=1)\n",
    "df_1['sum']"
   ]
  },
  {
   "cell_type": "code",
   "execution_count": null,
   "id": "96aee906",
   "metadata": {},
   "outputs": [],
   "source": [
    "df_1['sum'].plot()"
   ]
  },
  {
   "cell_type": "code",
   "execution_count": null,
   "id": "63091a2b",
   "metadata": {},
   "outputs": [],
   "source": [
    "df_2 = pd.read_excel('FinalDataABBY2018.xlsx', sheet_name='Site2')\n",
    "cols_2 = ['Level1VSWCMean', 'Level2VSWCMean', 'Level3VSWCMean', 'Level4VSWCMean', 'Level5VSWCMean', 'Level6VSWCMean', 'Level7VSWCMean', 'Level8VSWCMean']\n",
    "df_2['sum'] = df_2[cols_2].sum(axis=1)\n",
    "df_2['sum']"
   ]
  },
  {
   "cell_type": "code",
   "execution_count": null,
   "id": "150d7fd2",
   "metadata": {},
   "outputs": [],
   "source": [
    "df_2['sum'].plot()"
   ]
  },
  {
   "cell_type": "code",
   "execution_count": null,
   "id": "320e7552",
   "metadata": {},
   "outputs": [],
   "source": [
    "df_3 = pd.read_excel('FinalDataABBY2018.xlsx', sheet_name='Site3')\n",
    "cols_3 = ['Level1VSWCMean', 'Level2VSWCMean', 'Level3VSWCMean', 'Level4VSWCMean', 'Level5VSWCMean', 'Level6VSWCMean', 'Level7VSWCMean', 'Level8VSWCMean']\n",
    "df_3['sum'] = df_3[cols_3].sum(axis=1)\n",
    "df_3['sum']"
   ]
  },
  {
   "cell_type": "code",
   "execution_count": null,
   "id": "ecfddc65",
   "metadata": {},
   "outputs": [],
   "source": [
    "df_3['sum'].plot()"
   ]
  },
  {
   "cell_type": "code",
   "execution_count": null,
   "id": "633ecd05",
   "metadata": {},
   "outputs": [],
   "source": [
    "df_4 = pd.read_excel('FinalDataABBY2018.xlsx', sheet_name='Site4')\n",
    "cols_4 = ['Level1VSWCMean', 'Level2VSWCMean', 'Level3VSWCMean', 'Level4VSWCMean', 'Level5VSWCMean', 'Level6VSWCMean', 'Level7VSWCMean', 'Level8VSWCMean']\n",
    "df_4['sum'] = df_4[cols_4].sum(axis=1)\n",
    "df_4['sum']"
   ]
  },
  {
   "cell_type": "code",
   "execution_count": null,
   "id": "71100596",
   "metadata": {},
   "outputs": [],
   "source": [
    "df_4['sum'].plot()"
   ]
  },
  {
   "cell_type": "code",
   "execution_count": null,
   "id": "2f9a18c5",
   "metadata": {},
   "outputs": [],
   "source": [
    "df_5 = pd.read_excel('FinalDataABBY2018.xlsx', sheet_name='Site4')\n",
    "cols_5 = ['Level1VSWCMean', 'Level2VSWCMean', 'Level3VSWCMean', 'Level4VSWCMean', 'Level5VSWCMean', 'Level6VSWCMean', 'Level7VSWCMean', 'Level8VSWCMean']\n",
    "df_5['sum'] = df_5[cols_5].sum(axis=1)\n",
    "df_5['sum']"
   ]
  },
  {
   "cell_type": "code",
   "execution_count": null,
   "id": "0a93c8bd",
   "metadata": {},
   "outputs": [],
   "source": [
    "df_5['sum'].plot()"
   ]
  },
  {
   "cell_type": "code",
   "execution_count": null,
   "id": "e85c9907",
   "metadata": {},
   "outputs": [],
   "source": [
    "dff = df_1['sum'] + df_2['sum'] + df_3['sum'] + df_4['sum'] + df_5['sum']\n",
    "dff = dff/5\n",
    "dff"
   ]
  },
  {
   "cell_type": "code",
   "execution_count": null,
   "id": "a442bba3",
   "metadata": {},
   "outputs": [],
   "source": [
    "dff.plot()"
   ]
  }
 ],
 "metadata": {
  "kernelspec": {
   "display_name": "Python 3 (ipykernel)",
   "language": "python",
   "name": "python3"
  },
  "language_info": {
   "codemirror_mode": {
    "name": "ipython",
    "version": 3
   },
   "file_extension": ".py",
   "mimetype": "text/x-python",
   "name": "python",
   "nbconvert_exporter": "python",
   "pygments_lexer": "ipython3",
   "version": "3.9.12"
  }
 },
 "nbformat": 4,
 "nbformat_minor": 5
}
