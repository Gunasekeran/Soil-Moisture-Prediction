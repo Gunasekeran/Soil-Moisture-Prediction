{
 "cells": [
  {
   "cell_type": "code",
   "execution_count": 1,
   "id": "f46c81b3",
   "metadata": {},
   "outputs": [],
   "source": [
    "import tensorflow as tf\n",
    "import numpy as np\n",
    "import pandas as pd\n",
    "import keras.backend as K"
   ]
  },
  {
   "cell_type": "code",
   "execution_count": 2,
   "id": "10172227",
   "metadata": {},
   "outputs": [],
   "source": [
    "input_columns = ['year', 'month', 'day', 'hour', 'minute', 'moisture0', 'moisture1', 'moisture2']\n",
    "prediction = ['moisture3']"
   ]
  },
  {
   "cell_type": "code",
   "execution_count": 3,
   "id": "efaf35c5",
   "metadata": {},
   "outputs": [],
   "source": [
    "train_size = 4000\n",
    "test_size = 1000"
   ]
  },
  {
   "cell_type": "code",
   "execution_count": 4,
   "id": "eafc40a0",
   "metadata": {},
   "outputs": [],
   "source": [
    "def sum_error(y_true, y_pred):\n",
    "        return K.sum(K.abs(y_pred - y_true))"
   ]
  },
  {
   "cell_type": "code",
   "execution_count": 5,
   "id": "f2e93da4",
   "metadata": {},
   "outputs": [
    {
     "data": {
      "text/plain": [
       "4"
      ]
     },
     "execution_count": 5,
     "metadata": {},
     "output_type": "execute_result"
    }
   ],
   "source": [
    "K.eval(K.sum(K.abs(np.array([0,3]) - np.array([2,5]))))"
   ]
  },
  {
   "cell_type": "code",
   "execution_count": 6,
   "id": "efccc9b7",
   "metadata": {},
   "outputs": [],
   "source": [
    "data_frame = pd.read_csv('soil_moisture_dataset.csv')"
   ]
  },
  {
   "cell_type": "code",
   "execution_count": 7,
   "id": "4a81e855",
   "metadata": {},
   "outputs": [
    {
     "data": {
      "text/html": [
       "<div>\n",
       "<style scoped>\n",
       "    .dataframe tbody tr th:only-of-type {\n",
       "        vertical-align: middle;\n",
       "    }\n",
       "\n",
       "    .dataframe tbody tr th {\n",
       "        vertical-align: top;\n",
       "    }\n",
       "\n",
       "    .dataframe thead th {\n",
       "        text-align: right;\n",
       "    }\n",
       "</style>\n",
       "<table border=\"1\" class=\"dataframe\">\n",
       "  <thead>\n",
       "    <tr style=\"text-align: right;\">\n",
       "      <th></th>\n",
       "      <th>year</th>\n",
       "      <th>month</th>\n",
       "      <th>day</th>\n",
       "      <th>hour</th>\n",
       "      <th>minute</th>\n",
       "      <th>second</th>\n",
       "      <th>moisture0</th>\n",
       "      <th>moisture1</th>\n",
       "      <th>moisture2</th>\n",
       "      <th>moisture3</th>\n",
       "      <th>moisture4</th>\n",
       "      <th>condition</th>\n",
       "    </tr>\n",
       "  </thead>\n",
       "  <tbody>\n",
       "    <tr>\n",
       "      <th>0</th>\n",
       "      <td>2020</td>\n",
       "      <td>3</td>\n",
       "      <td>6</td>\n",
       "      <td>22</td>\n",
       "      <td>16</td>\n",
       "      <td>11</td>\n",
       "      <td>0.70</td>\n",
       "      <td>0.64</td>\n",
       "      <td>0.73</td>\n",
       "      <td>0.40</td>\n",
       "      <td>0.02</td>\n",
       "      <td>False</td>\n",
       "    </tr>\n",
       "    <tr>\n",
       "      <th>1</th>\n",
       "      <td>2020</td>\n",
       "      <td>3</td>\n",
       "      <td>6</td>\n",
       "      <td>22</td>\n",
       "      <td>17</td>\n",
       "      <td>11</td>\n",
       "      <td>0.70</td>\n",
       "      <td>0.64</td>\n",
       "      <td>0.71</td>\n",
       "      <td>0.39</td>\n",
       "      <td>0.02</td>\n",
       "      <td>False</td>\n",
       "    </tr>\n",
       "    <tr>\n",
       "      <th>2</th>\n",
       "      <td>2020</td>\n",
       "      <td>3</td>\n",
       "      <td>6</td>\n",
       "      <td>22</td>\n",
       "      <td>18</td>\n",
       "      <td>11</td>\n",
       "      <td>0.69</td>\n",
       "      <td>0.63</td>\n",
       "      <td>0.70</td>\n",
       "      <td>0.39</td>\n",
       "      <td>0.02</td>\n",
       "      <td>False</td>\n",
       "    </tr>\n",
       "    <tr>\n",
       "      <th>3</th>\n",
       "      <td>2020</td>\n",
       "      <td>3</td>\n",
       "      <td>6</td>\n",
       "      <td>22</td>\n",
       "      <td>19</td>\n",
       "      <td>11</td>\n",
       "      <td>0.69</td>\n",
       "      <td>0.63</td>\n",
       "      <td>0.70</td>\n",
       "      <td>0.39</td>\n",
       "      <td>0.02</td>\n",
       "      <td>False</td>\n",
       "    </tr>\n",
       "    <tr>\n",
       "      <th>4</th>\n",
       "      <td>2020</td>\n",
       "      <td>3</td>\n",
       "      <td>6</td>\n",
       "      <td>22</td>\n",
       "      <td>20</td>\n",
       "      <td>12</td>\n",
       "      <td>0.69</td>\n",
       "      <td>0.62</td>\n",
       "      <td>0.69</td>\n",
       "      <td>0.39</td>\n",
       "      <td>0.02</td>\n",
       "      <td>False</td>\n",
       "    </tr>\n",
       "    <tr>\n",
       "      <th>...</th>\n",
       "      <td>...</td>\n",
       "      <td>...</td>\n",
       "      <td>...</td>\n",
       "      <td>...</td>\n",
       "      <td>...</td>\n",
       "      <td>...</td>\n",
       "      <td>...</td>\n",
       "      <td>...</td>\n",
       "      <td>...</td>\n",
       "      <td>...</td>\n",
       "      <td>...</td>\n",
       "      <td>...</td>\n",
       "    </tr>\n",
       "    <tr>\n",
       "      <th>4112</th>\n",
       "      <td>2020</td>\n",
       "      <td>3</td>\n",
       "      <td>9</td>\n",
       "      <td>19</td>\n",
       "      <td>12</td>\n",
       "      <td>49</td>\n",
       "      <td>0.18</td>\n",
       "      <td>0.62</td>\n",
       "      <td>0.60</td>\n",
       "      <td>0.10</td>\n",
       "      <td>0.03</td>\n",
       "      <td>False</td>\n",
       "    </tr>\n",
       "    <tr>\n",
       "      <th>4113</th>\n",
       "      <td>2020</td>\n",
       "      <td>3</td>\n",
       "      <td>9</td>\n",
       "      <td>19</td>\n",
       "      <td>13</td>\n",
       "      <td>49</td>\n",
       "      <td>0.18</td>\n",
       "      <td>0.62</td>\n",
       "      <td>0.59</td>\n",
       "      <td>0.10</td>\n",
       "      <td>0.02</td>\n",
       "      <td>False</td>\n",
       "    </tr>\n",
       "    <tr>\n",
       "      <th>4114</th>\n",
       "      <td>2020</td>\n",
       "      <td>3</td>\n",
       "      <td>9</td>\n",
       "      <td>19</td>\n",
       "      <td>14</td>\n",
       "      <td>49</td>\n",
       "      <td>0.18</td>\n",
       "      <td>0.62</td>\n",
       "      <td>0.59</td>\n",
       "      <td>0.10</td>\n",
       "      <td>0.02</td>\n",
       "      <td>False</td>\n",
       "    </tr>\n",
       "    <tr>\n",
       "      <th>4115</th>\n",
       "      <td>2020</td>\n",
       "      <td>3</td>\n",
       "      <td>9</td>\n",
       "      <td>19</td>\n",
       "      <td>15</td>\n",
       "      <td>49</td>\n",
       "      <td>0.18</td>\n",
       "      <td>0.62</td>\n",
       "      <td>0.60</td>\n",
       "      <td>0.10</td>\n",
       "      <td>0.02</td>\n",
       "      <td>False</td>\n",
       "    </tr>\n",
       "    <tr>\n",
       "      <th>4116</th>\n",
       "      <td>2020</td>\n",
       "      <td>3</td>\n",
       "      <td>9</td>\n",
       "      <td>19</td>\n",
       "      <td>16</td>\n",
       "      <td>49</td>\n",
       "      <td>0.18</td>\n",
       "      <td>0.63</td>\n",
       "      <td>0.60</td>\n",
       "      <td>0.09</td>\n",
       "      <td>0.02</td>\n",
       "      <td>False</td>\n",
       "    </tr>\n",
       "  </tbody>\n",
       "</table>\n",
       "<p>4117 rows × 12 columns</p>\n",
       "</div>"
      ],
      "text/plain": [
       "      year  month  day  hour  minute  second  moisture0  moisture1  moisture2  \\\n",
       "0     2020      3    6    22      16      11       0.70       0.64       0.73   \n",
       "1     2020      3    6    22      17      11       0.70       0.64       0.71   \n",
       "2     2020      3    6    22      18      11       0.69       0.63       0.70   \n",
       "3     2020      3    6    22      19      11       0.69       0.63       0.70   \n",
       "4     2020      3    6    22      20      12       0.69       0.62       0.69   \n",
       "...    ...    ...  ...   ...     ...     ...        ...        ...        ...   \n",
       "4112  2020      3    9    19      12      49       0.18       0.62       0.60   \n",
       "4113  2020      3    9    19      13      49       0.18       0.62       0.59   \n",
       "4114  2020      3    9    19      14      49       0.18       0.62       0.59   \n",
       "4115  2020      3    9    19      15      49       0.18       0.62       0.60   \n",
       "4116  2020      3    9    19      16      49       0.18       0.63       0.60   \n",
       "\n",
       "      moisture3  moisture4  condition  \n",
       "0          0.40       0.02      False  \n",
       "1          0.39       0.02      False  \n",
       "2          0.39       0.02      False  \n",
       "3          0.39       0.02      False  \n",
       "4          0.39       0.02      False  \n",
       "...         ...        ...        ...  \n",
       "4112       0.10       0.03      False  \n",
       "4113       0.10       0.02      False  \n",
       "4114       0.10       0.02      False  \n",
       "4115       0.10       0.02      False  \n",
       "4116       0.09       0.02      False  \n",
       "\n",
       "[4117 rows x 12 columns]"
      ]
     },
     "execution_count": 7,
     "metadata": {},
     "output_type": "execute_result"
    }
   ],
   "source": [
    "data_frame"
   ]
  },
  {
   "cell_type": "code",
   "execution_count": 8,
   "id": "40f2a6d0",
   "metadata": {},
   "outputs": [],
   "source": [
    "data_frame = data_frame.sample(frac=1)"
   ]
  },
  {
   "cell_type": "code",
   "execution_count": 9,
   "id": "68da2f3c",
   "metadata": {},
   "outputs": [
    {
     "data": {
      "text/html": [
       "<div>\n",
       "<style scoped>\n",
       "    .dataframe tbody tr th:only-of-type {\n",
       "        vertical-align: middle;\n",
       "    }\n",
       "\n",
       "    .dataframe tbody tr th {\n",
       "        vertical-align: top;\n",
       "    }\n",
       "\n",
       "    .dataframe thead th {\n",
       "        text-align: right;\n",
       "    }\n",
       "</style>\n",
       "<table border=\"1\" class=\"dataframe\">\n",
       "  <thead>\n",
       "    <tr style=\"text-align: right;\">\n",
       "      <th></th>\n",
       "      <th>year</th>\n",
       "      <th>month</th>\n",
       "      <th>day</th>\n",
       "      <th>hour</th>\n",
       "      <th>minute</th>\n",
       "      <th>second</th>\n",
       "      <th>moisture0</th>\n",
       "      <th>moisture1</th>\n",
       "      <th>moisture2</th>\n",
       "      <th>moisture3</th>\n",
       "      <th>moisture4</th>\n",
       "    </tr>\n",
       "  </thead>\n",
       "  <tbody>\n",
       "    <tr>\n",
       "      <th>3884</th>\n",
       "      <td>2020</td>\n",
       "      <td>3</td>\n",
       "      <td>9</td>\n",
       "      <td>15</td>\n",
       "      <td>24</td>\n",
       "      <td>38</td>\n",
       "      <td>0.20</td>\n",
       "      <td>0.63</td>\n",
       "      <td>0.60</td>\n",
       "      <td>0.10</td>\n",
       "      <td>0.02</td>\n",
       "    </tr>\n",
       "    <tr>\n",
       "      <th>1471</th>\n",
       "      <td>2020</td>\n",
       "      <td>3</td>\n",
       "      <td>7</td>\n",
       "      <td>23</td>\n",
       "      <td>9</td>\n",
       "      <td>36</td>\n",
       "      <td>0.54</td>\n",
       "      <td>0.67</td>\n",
       "      <td>0.71</td>\n",
       "      <td>0.52</td>\n",
       "      <td>0.03</td>\n",
       "    </tr>\n",
       "    <tr>\n",
       "      <th>2884</th>\n",
       "      <td>2020</td>\n",
       "      <td>3</td>\n",
       "      <td>8</td>\n",
       "      <td>22</td>\n",
       "      <td>43</td>\n",
       "      <td>48</td>\n",
       "      <td>0.37</td>\n",
       "      <td>0.65</td>\n",
       "      <td>0.66</td>\n",
       "      <td>0.12</td>\n",
       "      <td>0.03</td>\n",
       "    </tr>\n",
       "    <tr>\n",
       "      <th>3841</th>\n",
       "      <td>2020</td>\n",
       "      <td>3</td>\n",
       "      <td>9</td>\n",
       "      <td>14</td>\n",
       "      <td>41</td>\n",
       "      <td>36</td>\n",
       "      <td>0.21</td>\n",
       "      <td>0.63</td>\n",
       "      <td>0.60</td>\n",
       "      <td>0.09</td>\n",
       "      <td>0.02</td>\n",
       "    </tr>\n",
       "    <tr>\n",
       "      <th>1978</th>\n",
       "      <td>2020</td>\n",
       "      <td>3</td>\n",
       "      <td>8</td>\n",
       "      <td>7</td>\n",
       "      <td>37</td>\n",
       "      <td>2</td>\n",
       "      <td>0.50</td>\n",
       "      <td>0.68</td>\n",
       "      <td>0.71</td>\n",
       "      <td>0.27</td>\n",
       "      <td>0.02</td>\n",
       "    </tr>\n",
       "    <tr>\n",
       "      <th>...</th>\n",
       "      <td>...</td>\n",
       "      <td>...</td>\n",
       "      <td>...</td>\n",
       "      <td>...</td>\n",
       "      <td>...</td>\n",
       "      <td>...</td>\n",
       "      <td>...</td>\n",
       "      <td>...</td>\n",
       "      <td>...</td>\n",
       "      <td>...</td>\n",
       "      <td>...</td>\n",
       "    </tr>\n",
       "    <tr>\n",
       "      <th>742</th>\n",
       "      <td>2020</td>\n",
       "      <td>3</td>\n",
       "      <td>7</td>\n",
       "      <td>10</td>\n",
       "      <td>49</td>\n",
       "      <td>40</td>\n",
       "      <td>0.56</td>\n",
       "      <td>0.66</td>\n",
       "      <td>0.73</td>\n",
       "      <td>0.58</td>\n",
       "      <td>0.02</td>\n",
       "    </tr>\n",
       "    <tr>\n",
       "      <th>2981</th>\n",
       "      <td>2020</td>\n",
       "      <td>3</td>\n",
       "      <td>9</td>\n",
       "      <td>0</td>\n",
       "      <td>20</td>\n",
       "      <td>53</td>\n",
       "      <td>0.34</td>\n",
       "      <td>0.63</td>\n",
       "      <td>0.65</td>\n",
       "      <td>0.11</td>\n",
       "      <td>0.02</td>\n",
       "    </tr>\n",
       "    <tr>\n",
       "      <th>3003</th>\n",
       "      <td>2020</td>\n",
       "      <td>3</td>\n",
       "      <td>9</td>\n",
       "      <td>0</td>\n",
       "      <td>42</td>\n",
       "      <td>54</td>\n",
       "      <td>0.34</td>\n",
       "      <td>0.63</td>\n",
       "      <td>0.64</td>\n",
       "      <td>0.11</td>\n",
       "      <td>0.02</td>\n",
       "    </tr>\n",
       "    <tr>\n",
       "      <th>3926</th>\n",
       "      <td>2020</td>\n",
       "      <td>3</td>\n",
       "      <td>9</td>\n",
       "      <td>16</td>\n",
       "      <td>6</td>\n",
       "      <td>40</td>\n",
       "      <td>0.19</td>\n",
       "      <td>0.63</td>\n",
       "      <td>0.60</td>\n",
       "      <td>0.09</td>\n",
       "      <td>0.02</td>\n",
       "    </tr>\n",
       "    <tr>\n",
       "      <th>2431</th>\n",
       "      <td>2020</td>\n",
       "      <td>3</td>\n",
       "      <td>8</td>\n",
       "      <td>15</td>\n",
       "      <td>10</td>\n",
       "      <td>25</td>\n",
       "      <td>0.42</td>\n",
       "      <td>0.65</td>\n",
       "      <td>0.70</td>\n",
       "      <td>0.18</td>\n",
       "      <td>0.02</td>\n",
       "    </tr>\n",
       "  </tbody>\n",
       "</table>\n",
       "<p>4117 rows × 11 columns</p>\n",
       "</div>"
      ],
      "text/plain": [
       "      year  month  day  hour  minute  second  moisture0  moisture1  moisture2  \\\n",
       "3884  2020      3    9    15      24      38       0.20       0.63       0.60   \n",
       "1471  2020      3    7    23       9      36       0.54       0.67       0.71   \n",
       "2884  2020      3    8    22      43      48       0.37       0.65       0.66   \n",
       "3841  2020      3    9    14      41      36       0.21       0.63       0.60   \n",
       "1978  2020      3    8     7      37       2       0.50       0.68       0.71   \n",
       "...    ...    ...  ...   ...     ...     ...        ...        ...        ...   \n",
       "742   2020      3    7    10      49      40       0.56       0.66       0.73   \n",
       "2981  2020      3    9     0      20      53       0.34       0.63       0.65   \n",
       "3003  2020      3    9     0      42      54       0.34       0.63       0.64   \n",
       "3926  2020      3    9    16       6      40       0.19       0.63       0.60   \n",
       "2431  2020      3    8    15      10      25       0.42       0.65       0.70   \n",
       "\n",
       "      moisture3  moisture4  \n",
       "3884       0.10       0.02  \n",
       "1471       0.52       0.03  \n",
       "2884       0.12       0.03  \n",
       "3841       0.09       0.02  \n",
       "1978       0.27       0.02  \n",
       "...         ...        ...  \n",
       "742        0.58       0.02  \n",
       "2981       0.11       0.02  \n",
       "3003       0.11       0.02  \n",
       "3926       0.09       0.02  \n",
       "2431       0.18       0.02  \n",
       "\n",
       "[4117 rows x 11 columns]"
      ]
     },
     "execution_count": 9,
     "metadata": {},
     "output_type": "execute_result"
    }
   ],
   "source": [
    "data_frame.drop(columns=['condition'])"
   ]
  },
  {
   "cell_type": "code",
   "execution_count": 10,
   "id": "c521a4af",
   "metadata": {},
   "outputs": [
    {
     "data": {
      "text/plain": [
       "<AxesSubplot:>"
      ]
     },
     "execution_count": 10,
     "metadata": {},
     "output_type": "execute_result"
    },
    {
     "data": {
      "image/png": "[encoded data removed]",
      "text/plain": [
       "<Figure size 432x288 with 1 Axes>"
      ]
     },
     "metadata": {
      "needs_background": "light"
     },
     "output_type": "display_data"
    }
   ],
   "source": [
    "data_frame[['moisture0', 'moisture1','moisture2', 'moisture3']].plot()"
   ]
  },
  {
   "cell_type": "code",
   "execution_count": 11,
   "id": "8e6dd258",
   "metadata": {},
   "outputs": [],
   "source": [
    "X_train = data_frame[input_columns][:train_size]\n",
    "Y_train = data_frame[prediction][:train_size]\n",
    "X_test = data_frame[input_columns][train_size:]\n",
    "Y_test = data_frame[prediction][train_size:]"
   ]
  },
  {
   "cell_type": "code",
   "execution_count": 14,
   "id": "60b3ed21",
   "metadata": {},
   "outputs": [
    {
     "data": {
      "text/plain": [
       "((4000, 8), (4000, 1), (117, 8), (117, 1))"
      ]
     },
     "execution_count": 14,
     "metadata": {},
     "output_type": "execute_result"
    }
   ],
   "source": [
    "X_train.shape, Y_train.shape, X_test.shape, Y_test.shape"
   ]
  },
  {
   "cell_type": "code",
   "execution_count": 15,
   "id": "304f3049",
   "metadata": {},
   "outputs": [
    {
     "name": "stdout",
     "output_type": "stream",
     "text": [
      "Model: \"sequential\"\n",
      "_________________________________________________________________\n",
      " Layer (type)                Output Shape              Param #   \n",
      "=================================================================\n",
      " dense (Dense)               (None, 8)                 72        \n",
      "                                                                 \n",
      " dropout (Dropout)           (None, 8)                 0         \n",
      "                                                                 \n",
      " dense_1 (Dense)             (None, 1)                 9         \n",
      "                                                                 \n",
      "=================================================================\n",
      "Total params: 81\n",
      "Trainable params: 81\n",
      "Non-trainable params: 0\n",
      "_________________________________________________________________\n"
     ]
    }
   ],
   "source": [
    "model = tf.keras.models.Sequential()\n",
    "model.add(tf.keras.layers.Dense(units=len(input_columns), input_shape=(len(input_columns),), activation='relu'))\n",
    "model.add(tf.keras.layers.Dropout(0.1))\n",
    "model.add(tf.keras.layers.Dense(units=len(prediction), input_shape=(len(input_columns),)))\n",
    "model.summary()"
   ]
  },
  {
   "cell_type": "code",
   "execution_count": 16,
   "id": "f80b2201",
   "metadata": {},
   "outputs": [],
   "source": [
    "model.compile(optimizer='adam', loss=sum_error, metrics=['MSE'])"
   ]
  },
  {
   "cell_type": "code",
   "execution_count": 17,
   "id": "af3b02ee",
   "metadata": {},
   "outputs": [
    {
     "name": "stdout",
     "output_type": "stream",
     "text": [
      "Epoch 1/10\n",
      "125/125 [==============================] - 1s 924us/step - loss: 3642.4980 - MSE: 26561.0801\n",
      "Epoch 2/10\n",
      "125/125 [==============================] - 0s 972us/step - loss: 1474.6873 - MSE: 8318.3857\n",
      "Epoch 3/10\n",
      "125/125 [==============================] - 0s 1ms/step - loss: 1237.8683 - MSE: 5754.6685\n",
      "Epoch 4/10\n",
      "125/125 [==============================] - 0s 1ms/step - loss: 871.4534 - MSE: 3071.0505\n",
      "Epoch 5/10\n",
      "125/125 [==============================] - 0s 1ms/step - loss: 657.0413 - MSE: 1765.5663\n",
      "Epoch 6/10\n",
      "125/125 [==============================] - 0s 988us/step - loss: 452.9286 - MSE: 840.1107\n",
      "Epoch 7/10\n",
      "125/125 [==============================] - 0s 893us/step - loss: 285.5810 - MSE: 323.9588\n",
      "Epoch 8/10\n",
      "125/125 [==============================] - 0s 1ms/step - loss: 115.7572 - MSE: 55.8185\n",
      "Epoch 9/10\n",
      "125/125 [==============================] - 0s 967us/step - loss: 11.0020 - MSE: 0.4079\n",
      "Epoch 10/10\n",
      "125/125 [==============================] - 0s 806us/step - loss: 6.8088 - MSE: 0.0669\n"
     ]
    },
    {
     "data": {
      "text/plain": [
       "<keras.callbacks.History at 0x13faa5cdc40>"
      ]
     },
     "execution_count": 17,
     "metadata": {},
     "output_type": "execute_result"
    }
   ],
   "source": [
    "model.fit(X_train,Y_train, epochs=10)"
   ]
  },
  {
   "cell_type": "code",
   "execution_count": 18,
   "id": "0376b626",
   "metadata": {},
   "outputs": [
    {
     "name": "stdout",
     "output_type": "stream",
     "text": [
      "4/4 [==============================] - 0s 2ms/step - loss: 5.5653 - MSE: 0.0414\n"
     ]
    },
    {
     "data": {
      "text/plain": [
       "[5.565337657928467, 0.041370689868927]"
      ]
     },
     "execution_count": 18,
     "metadata": {},
     "output_type": "execute_result"
    }
   ],
   "source": [
    "model.evaluate(X_test, Y_test)"
   ]
  },
  {
   "cell_type": "code",
   "execution_count": 19,
   "id": "0bc5a416",
   "metadata": {},
   "outputs": [
    {
     "name": "stderr",
     "output_type": "stream",
     "text": [
      "C:\\Users\\ibesi\\AppData\\Local\\Temp\\ipykernel_22260\\4225249613.py:1: VisibleDeprecationWarning: Creating an ndarray from ragged nested sequences (which is a list-or-tuple of lists-or-tuples-or ndarrays with different lengths or shapes) is deprecated. If you meant to do this, you must specify 'dtype=object' when creating the ndarray.\n",
      "  weights = np.array(model.get_weights())\n"
     ]
    }
   ],
   "source": [
    "weights = np.array(model.get_weights())"
   ]
  },
  {
   "cell_type": "code",
   "execution_count": 20,
   "id": "f6bf1074",
   "metadata": {},
   "outputs": [
    {
     "data": {
      "text/plain": [
       "[array([[-4.64445353e-02,  1.34918198e-01,  2.61093855e-01,\n",
       "          2.94424482e-02, -6.01072907e-02, -9.30252858e-03,\n",
       "         -5.29123902e-01, -4.02647158e-04],\n",
       "        [ 2.96805501e-01, -2.43770316e-01, -3.83983761e-01,\n",
       "         -1.40381798e-01, -2.54802793e-01,  1.53295705e-02,\n",
       "          2.19897151e-01, -4.02578443e-01],\n",
       "        [ 1.30988836e-01, -6.75804794e-01, -3.60638857e-01,\n",
       "         -3.82668190e-02, -5.13323069e-01, -5.55677712e-01,\n",
       "          1.57878578e-01, -8.80240574e-02],\n",
       "        [ 1.78691626e-01, -3.96535277e-01,  5.31763434e-01,\n",
       "          1.23089187e-01, -2.37697184e-01,  4.73224014e-01,\n",
       "          1.86766028e-01,  6.34358376e-02],\n",
       "        [ 2.31894195e-01, -4.97703373e-01, -1.50286064e-01,\n",
       "          2.25037798e-01,  8.33382010e-02,  1.87566563e-01,\n",
       "         -4.91268605e-01, -1.09535949e-02],\n",
       "        [ 1.76889956e-01, -3.55224311e-01,  1.29234642e-01,\n",
       "          5.19140899e-01, -3.68969858e-01,  3.58684063e-02,\n",
       "         -1.86717004e-01, -2.46554077e-01],\n",
       "        [-4.82771933e-01,  3.77645016e-01, -7.75376260e-01,\n",
       "         -4.27123010e-01,  1.57902360e-01,  1.39777213e-01,\n",
       "         -2.93939799e-01, -6.69749916e-01],\n",
       "        [ 2.07142115e-01,  1.87559858e-01,  2.16243029e-01,\n",
       "          4.60776031e-01,  2.45734453e-02,  3.90473157e-01,\n",
       "          2.21686840e-01,  3.13746840e-01]], dtype=float32),\n",
       " array([ 0.        , -0.18474668, -0.18497242, -0.06091854,  0.        ,\n",
       "        -0.09438345,  0.        , -0.11454866], dtype=float32),\n",
       " array([[ 1.4398384e-01],\n",
       "        [ 3.1942935e-04],\n",
       "        [ 4.3919933e-04],\n",
       "        [ 2.0023172e-03],\n",
       "        [-4.6713382e-01],\n",
       "        [ 2.1520688e-01],\n",
       "        [ 3.9503217e-02],\n",
       "        [-5.7181638e-01]], dtype=float32),\n",
       " array([-0.09205991], dtype=float32)]"
      ]
     },
     "execution_count": 20,
     "metadata": {},
     "output_type": "execute_result"
    }
   ],
   "source": [
    "model.get_weights()"
   ]
  },
  {
   "cell_type": "code",
   "execution_count": 21,
   "id": "a88d6b86",
   "metadata": {},
   "outputs": [
    {
     "data": {
      "text/plain": [
       "array([0.31])"
      ]
     },
     "execution_count": 21,
     "metadata": {},
     "output_type": "execute_result"
    }
   ],
   "source": [
    "Y_test.to_numpy()[58]"
   ]
  },
  {
   "cell_type": "code",
   "execution_count": 22,
   "id": "47818b01",
   "metadata": {},
   "outputs": [
    {
     "name": "stdout",
     "output_type": "stream",
     "text": [
      "4/4 [==============================] - 0s 1ms/step\n"
     ]
    }
   ],
   "source": [
    "prediction = model.predict(X_test.to_numpy())"
   ]
  },
  {
   "cell_type": "code",
   "execution_count": 23,
   "id": "d3c26a7d",
   "metadata": {},
   "outputs": [
    {
     "name": "stdout",
     "output_type": "stream",
     "text": [
      "0.7863247863247863\n"
     ]
    }
   ],
   "source": [
    "count = 0\n",
    "for i in range(len(X_test)):\n",
    "    if np.abs(prediction[i][0] - Y_test.to_numpy()[i]) > 0.1:\n",
    "        count += 1\n",
    "print(count/len(X_test))"
   ]
  },
  {
   "cell_type": "code",
   "execution_count": 24,
   "id": "c0a1d9e3",
   "metadata": {},
   "outputs": [],
   "source": [
    "input_columns = ['year', 'month', 'day', 'hour', 'minute', 'moisture0', 'moisture1', 'moisture2']\n",
    "prediction = ['moisture4']"
   ]
  },
  {
   "cell_type": "code",
   "execution_count": 25,
   "id": "c854c203",
   "metadata": {},
   "outputs": [],
   "source": [
    "train_size = 4000\n",
    "test_size = 1000"
   ]
  },
  {
   "cell_type": "code",
   "execution_count": 26,
   "id": "3d9a7921",
   "metadata": {},
   "outputs": [],
   "source": [
    "def sum_error(y_true, y_pred):\n",
    "        return K.sum(K.abs(y_pred - y_true))"
   ]
  },
  {
   "cell_type": "code",
   "execution_count": 27,
   "id": "de757382",
   "metadata": {},
   "outputs": [
    {
     "data": {
      "text/plain": [
       "4"
      ]
     },
     "execution_count": 27,
     "metadata": {},
     "output_type": "execute_result"
    }
   ],
   "source": [
    "K.eval(K.sum(K.abs(np.array([0,3]) - np.array([2,5]))))"
   ]
  },
  {
   "cell_type": "code",
   "execution_count": 28,
   "id": "54409913",
   "metadata": {},
   "outputs": [],
   "source": [
    "data_frame = pd.read_csv('soil_moisture_dataset.csv')"
   ]
  },
  {
   "cell_type": "code",
   "execution_count": 29,
   "id": "e3ff22eb",
   "metadata": {},
   "outputs": [
    {
     "data": {
      "text/html": [
       "<div>\n",
       "<style scoped>\n",
       "    .dataframe tbody tr th:only-of-type {\n",
       "        vertical-align: middle;\n",
       "    }\n",
       "\n",
       "    .dataframe tbody tr th {\n",
       "        vertical-align: top;\n",
       "    }\n",
       "\n",
       "    .dataframe thead th {\n",
       "        text-align: right;\n",
       "    }\n",
       "</style>\n",
       "<table border=\"1\" class=\"dataframe\">\n",
       "  <thead>\n",
       "    <tr style=\"text-align: right;\">\n",
       "      <th></th>\n",
       "      <th>year</th>\n",
       "      <th>month</th>\n",
       "      <th>day</th>\n",
       "      <th>hour</th>\n",
       "      <th>minute</th>\n",
       "      <th>second</th>\n",
       "      <th>moisture0</th>\n",
       "      <th>moisture1</th>\n",
       "      <th>moisture2</th>\n",
       "      <th>moisture3</th>\n",
       "      <th>moisture4</th>\n",
       "      <th>condition</th>\n",
       "    </tr>\n",
       "  </thead>\n",
       "  <tbody>\n",
       "    <tr>\n",
       "      <th>0</th>\n",
       "      <td>2020</td>\n",
       "      <td>3</td>\n",
       "      <td>6</td>\n",
       "      <td>22</td>\n",
       "      <td>16</td>\n",
       "      <td>11</td>\n",
       "      <td>0.70</td>\n",
       "      <td>0.64</td>\n",
       "      <td>0.73</td>\n",
       "      <td>0.40</td>\n",
       "      <td>0.02</td>\n",
       "      <td>False</td>\n",
       "    </tr>\n",
       "    <tr>\n",
       "      <th>1</th>\n",
       "      <td>2020</td>\n",
       "      <td>3</td>\n",
       "      <td>6</td>\n",
       "      <td>22</td>\n",
       "      <td>17</td>\n",
       "      <td>11</td>\n",
       "      <td>0.70</td>\n",
       "      <td>0.64</td>\n",
       "      <td>0.71</td>\n",
       "      <td>0.39</td>\n",
       "      <td>0.02</td>\n",
       "      <td>False</td>\n",
       "    </tr>\n",
       "    <tr>\n",
       "      <th>2</th>\n",
       "      <td>2020</td>\n",
       "      <td>3</td>\n",
       "      <td>6</td>\n",
       "      <td>22</td>\n",
       "      <td>18</td>\n",
       "      <td>11</td>\n",
       "      <td>0.69</td>\n",
       "      <td>0.63</td>\n",
       "      <td>0.70</td>\n",
       "      <td>0.39</td>\n",
       "      <td>0.02</td>\n",
       "      <td>False</td>\n",
       "    </tr>\n",
       "    <tr>\n",
       "      <th>3</th>\n",
       "      <td>2020</td>\n",
       "      <td>3</td>\n",
       "      <td>6</td>\n",
       "      <td>22</td>\n",
       "      <td>19</td>\n",
       "      <td>11</td>\n",
       "      <td>0.69</td>\n",
       "      <td>0.63</td>\n",
       "      <td>0.70</td>\n",
       "      <td>0.39</td>\n",
       "      <td>0.02</td>\n",
       "      <td>False</td>\n",
       "    </tr>\n",
       "    <tr>\n",
       "      <th>4</th>\n",
       "      <td>2020</td>\n",
       "      <td>3</td>\n",
       "      <td>6</td>\n",
       "      <td>22</td>\n",
       "      <td>20</td>\n",
       "      <td>12</td>\n",
       "      <td>0.69</td>\n",
       "      <td>0.62</td>\n",
       "      <td>0.69</td>\n",
       "      <td>0.39</td>\n",
       "      <td>0.02</td>\n",
       "      <td>False</td>\n",
       "    </tr>\n",
       "    <tr>\n",
       "      <th>...</th>\n",
       "      <td>...</td>\n",
       "      <td>...</td>\n",
       "      <td>...</td>\n",
       "      <td>...</td>\n",
       "      <td>...</td>\n",
       "      <td>...</td>\n",
       "      <td>...</td>\n",
       "      <td>...</td>\n",
       "      <td>...</td>\n",
       "      <td>...</td>\n",
       "      <td>...</td>\n",
       "      <td>...</td>\n",
       "    </tr>\n",
       "    <tr>\n",
       "      <th>4112</th>\n",
       "      <td>2020</td>\n",
       "      <td>3</td>\n",
       "      <td>9</td>\n",
       "      <td>19</td>\n",
       "      <td>12</td>\n",
       "      <td>49</td>\n",
       "      <td>0.18</td>\n",
       "      <td>0.62</td>\n",
       "      <td>0.60</td>\n",
       "      <td>0.10</td>\n",
       "      <td>0.03</td>\n",
       "      <td>False</td>\n",
       "    </tr>\n",
       "    <tr>\n",
       "      <th>4113</th>\n",
       "      <td>2020</td>\n",
       "      <td>3</td>\n",
       "      <td>9</td>\n",
       "      <td>19</td>\n",
       "      <td>13</td>\n",
       "      <td>49</td>\n",
       "      <td>0.18</td>\n",
       "      <td>0.62</td>\n",
       "      <td>0.59</td>\n",
       "      <td>0.10</td>\n",
       "      <td>0.02</td>\n",
       "      <td>False</td>\n",
       "    </tr>\n",
       "    <tr>\n",
       "      <th>4114</th>\n",
       "      <td>2020</td>\n",
       "      <td>3</td>\n",
       "      <td>9</td>\n",
       "      <td>19</td>\n",
       "      <td>14</td>\n",
       "      <td>49</td>\n",
       "      <td>0.18</td>\n",
       "      <td>0.62</td>\n",
       "      <td>0.59</td>\n",
       "      <td>0.10</td>\n",
       "      <td>0.02</td>\n",
       "      <td>False</td>\n",
       "    </tr>\n",
       "    <tr>\n",
       "      <th>4115</th>\n",
       "      <td>2020</td>\n",
       "      <td>3</td>\n",
       "      <td>9</td>\n",
       "      <td>19</td>\n",
       "      <td>15</td>\n",
       "      <td>49</td>\n",
       "      <td>0.18</td>\n",
       "      <td>0.62</td>\n",
       "      <td>0.60</td>\n",
       "      <td>0.10</td>\n",
       "      <td>0.02</td>\n",
       "      <td>False</td>\n",
       "    </tr>\n",
       "    <tr>\n",
       "      <th>4116</th>\n",
       "      <td>2020</td>\n",
       "      <td>3</td>\n",
       "      <td>9</td>\n",
       "      <td>19</td>\n",
       "      <td>16</td>\n",
       "      <td>49</td>\n",
       "      <td>0.18</td>\n",
       "      <td>0.63</td>\n",
       "      <td>0.60</td>\n",
       "      <td>0.09</td>\n",
       "      <td>0.02</td>\n",
       "      <td>False</td>\n",
       "    </tr>\n",
       "  </tbody>\n",
       "</table>\n",
       "<p>4117 rows × 12 columns</p>\n",
       "</div>"
      ],
      "text/plain": [
       "      year  month  day  hour  minute  second  moisture0  moisture1  moisture2  \\\n",
       "0     2020      3    6    22      16      11       0.70       0.64       0.73   \n",
       "1     2020      3    6    22      17      11       0.70       0.64       0.71   \n",
       "2     2020      3    6    22      18      11       0.69       0.63       0.70   \n",
       "3     2020      3    6    22      19      11       0.69       0.63       0.70   \n",
       "4     2020      3    6    22      20      12       0.69       0.62       0.69   \n",
       "...    ...    ...  ...   ...     ...     ...        ...        ...        ...   \n",
       "4112  2020      3    9    19      12      49       0.18       0.62       0.60   \n",
       "4113  2020      3    9    19      13      49       0.18       0.62       0.59   \n",
       "4114  2020      3    9    19      14      49       0.18       0.62       0.59   \n",
       "4115  2020      3    9    19      15      49       0.18       0.62       0.60   \n",
       "4116  2020      3    9    19      16      49       0.18       0.63       0.60   \n",
       "\n",
       "      moisture3  moisture4  condition  \n",
       "0          0.40       0.02      False  \n",
       "1          0.39       0.02      False  \n",
       "2          0.39       0.02      False  \n",
       "3          0.39       0.02      False  \n",
       "4          0.39       0.02      False  \n",
       "...         ...        ...        ...  \n",
       "4112       0.10       0.03      False  \n",
       "4113       0.10       0.02      False  \n",
       "4114       0.10       0.02      False  \n",
       "4115       0.10       0.02      False  \n",
       "4116       0.09       0.02      False  \n",
       "\n",
       "[4117 rows x 12 columns]"
      ]
     },
     "execution_count": 29,
     "metadata": {},
     "output_type": "execute_result"
    }
   ],
   "source": [
    "data_frame"
   ]
  },
  {
   "cell_type": "code",
   "execution_count": 30,
   "id": "abb79f1f",
   "metadata": {},
   "outputs": [],
   "source": [
    "data_frame = data_frame.sample(frac=1)"
   ]
  },
  {
   "cell_type": "code",
   "execution_count": 31,
   "id": "a127f9c3",
   "metadata": {},
   "outputs": [
    {
     "data": {
      "text/html": [
       "<div>\n",
       "<style scoped>\n",
       "    .dataframe tbody tr th:only-of-type {\n",
       "        vertical-align: middle;\n",
       "    }\n",
       "\n",
       "    .dataframe tbody tr th {\n",
       "        vertical-align: top;\n",
       "    }\n",
       "\n",
       "    .dataframe thead th {\n",
       "        text-align: right;\n",
       "    }\n",
       "</style>\n",
       "<table border=\"1\" class=\"dataframe\">\n",
       "  <thead>\n",
       "    <tr style=\"text-align: right;\">\n",
       "      <th></th>\n",
       "      <th>year</th>\n",
       "      <th>month</th>\n",
       "      <th>day</th>\n",
       "      <th>hour</th>\n",
       "      <th>minute</th>\n",
       "      <th>second</th>\n",
       "      <th>moisture0</th>\n",
       "      <th>moisture1</th>\n",
       "      <th>moisture2</th>\n",
       "      <th>moisture3</th>\n",
       "      <th>moisture4</th>\n",
       "    </tr>\n",
       "  </thead>\n",
       "  <tbody>\n",
       "    <tr>\n",
       "      <th>1239</th>\n",
       "      <td>2020</td>\n",
       "      <td>3</td>\n",
       "      <td>7</td>\n",
       "      <td>19</td>\n",
       "      <td>17</td>\n",
       "      <td>24</td>\n",
       "      <td>0.56</td>\n",
       "      <td>0.67</td>\n",
       "      <td>0.72</td>\n",
       "      <td>0.53</td>\n",
       "      <td>0.02</td>\n",
       "    </tr>\n",
       "    <tr>\n",
       "      <th>2331</th>\n",
       "      <td>2020</td>\n",
       "      <td>3</td>\n",
       "      <td>8</td>\n",
       "      <td>13</td>\n",
       "      <td>30</td>\n",
       "      <td>20</td>\n",
       "      <td>0.44</td>\n",
       "      <td>0.66</td>\n",
       "      <td>0.70</td>\n",
       "      <td>0.33</td>\n",
       "      <td>0.02</td>\n",
       "    </tr>\n",
       "    <tr>\n",
       "      <th>2632</th>\n",
       "      <td>2020</td>\n",
       "      <td>3</td>\n",
       "      <td>8</td>\n",
       "      <td>18</td>\n",
       "      <td>31</td>\n",
       "      <td>35</td>\n",
       "      <td>0.39</td>\n",
       "      <td>0.65</td>\n",
       "      <td>0.68</td>\n",
       "      <td>0.14</td>\n",
       "      <td>0.02</td>\n",
       "    </tr>\n",
       "    <tr>\n",
       "      <th>1094</th>\n",
       "      <td>2020</td>\n",
       "      <td>3</td>\n",
       "      <td>7</td>\n",
       "      <td>16</td>\n",
       "      <td>41</td>\n",
       "      <td>58</td>\n",
       "      <td>0.56</td>\n",
       "      <td>0.66</td>\n",
       "      <td>0.71</td>\n",
       "      <td>0.54</td>\n",
       "      <td>0.02</td>\n",
       "    </tr>\n",
       "    <tr>\n",
       "      <th>1582</th>\n",
       "      <td>2020</td>\n",
       "      <td>3</td>\n",
       "      <td>8</td>\n",
       "      <td>1</td>\n",
       "      <td>0</td>\n",
       "      <td>42</td>\n",
       "      <td>0.52</td>\n",
       "      <td>0.69</td>\n",
       "      <td>0.70</td>\n",
       "      <td>0.49</td>\n",
       "      <td>0.02</td>\n",
       "    </tr>\n",
       "    <tr>\n",
       "      <th>...</th>\n",
       "      <td>...</td>\n",
       "      <td>...</td>\n",
       "      <td>...</td>\n",
       "      <td>...</td>\n",
       "      <td>...</td>\n",
       "      <td>...</td>\n",
       "      <td>...</td>\n",
       "      <td>...</td>\n",
       "      <td>...</td>\n",
       "      <td>...</td>\n",
       "      <td>...</td>\n",
       "    </tr>\n",
       "    <tr>\n",
       "      <th>3097</th>\n",
       "      <td>2020</td>\n",
       "      <td>3</td>\n",
       "      <td>9</td>\n",
       "      <td>2</td>\n",
       "      <td>16</td>\n",
       "      <td>59</td>\n",
       "      <td>0.33</td>\n",
       "      <td>0.61</td>\n",
       "      <td>0.65</td>\n",
       "      <td>0.11</td>\n",
       "      <td>0.02</td>\n",
       "    </tr>\n",
       "    <tr>\n",
       "      <th>3648</th>\n",
       "      <td>2020</td>\n",
       "      <td>3</td>\n",
       "      <td>9</td>\n",
       "      <td>11</td>\n",
       "      <td>28</td>\n",
       "      <td>26</td>\n",
       "      <td>0.22</td>\n",
       "      <td>0.62</td>\n",
       "      <td>0.60</td>\n",
       "      <td>0.10</td>\n",
       "      <td>0.02</td>\n",
       "    </tr>\n",
       "    <tr>\n",
       "      <th>2519</th>\n",
       "      <td>2020</td>\n",
       "      <td>3</td>\n",
       "      <td>8</td>\n",
       "      <td>16</td>\n",
       "      <td>38</td>\n",
       "      <td>29</td>\n",
       "      <td>0.41</td>\n",
       "      <td>0.65</td>\n",
       "      <td>0.69</td>\n",
       "      <td>0.16</td>\n",
       "      <td>0.02</td>\n",
       "    </tr>\n",
       "    <tr>\n",
       "      <th>1220</th>\n",
       "      <td>2020</td>\n",
       "      <td>3</td>\n",
       "      <td>7</td>\n",
       "      <td>18</td>\n",
       "      <td>48</td>\n",
       "      <td>4</td>\n",
       "      <td>0.60</td>\n",
       "      <td>0.67</td>\n",
       "      <td>0.71</td>\n",
       "      <td>0.52</td>\n",
       "      <td>0.02</td>\n",
       "    </tr>\n",
       "    <tr>\n",
       "      <th>3313</th>\n",
       "      <td>2020</td>\n",
       "      <td>3</td>\n",
       "      <td>9</td>\n",
       "      <td>5</td>\n",
       "      <td>53</td>\n",
       "      <td>10</td>\n",
       "      <td>0.24</td>\n",
       "      <td>0.61</td>\n",
       "      <td>0.60</td>\n",
       "      <td>0.11</td>\n",
       "      <td>0.02</td>\n",
       "    </tr>\n",
       "  </tbody>\n",
       "</table>\n",
       "<p>4117 rows × 11 columns</p>\n",
       "</div>"
      ],
      "text/plain": [
       "      year  month  day  hour  minute  second  moisture0  moisture1  moisture2  \\\n",
       "1239  2020      3    7    19      17      24       0.56       0.67       0.72   \n",
       "2331  2020      3    8    13      30      20       0.44       0.66       0.70   \n",
       "2632  2020      3    8    18      31      35       0.39       0.65       0.68   \n",
       "1094  2020      3    7    16      41      58       0.56       0.66       0.71   \n",
       "1582  2020      3    8     1       0      42       0.52       0.69       0.70   \n",
       "...    ...    ...  ...   ...     ...     ...        ...        ...        ...   \n",
       "3097  2020      3    9     2      16      59       0.33       0.61       0.65   \n",
       "3648  2020      3    9    11      28      26       0.22       0.62       0.60   \n",
       "2519  2020      3    8    16      38      29       0.41       0.65       0.69   \n",
       "1220  2020      3    7    18      48       4       0.60       0.67       0.71   \n",
       "3313  2020      3    9     5      53      10       0.24       0.61       0.60   \n",
       "\n",
       "      moisture3  moisture4  \n",
       "1239       0.53       0.02  \n",
       "2331       0.33       0.02  \n",
       "2632       0.14       0.02  \n",
       "1094       0.54       0.02  \n",
       "1582       0.49       0.02  \n",
       "...         ...        ...  \n",
       "3097       0.11       0.02  \n",
       "3648       0.10       0.02  \n",
       "2519       0.16       0.02  \n",
       "1220       0.52       0.02  \n",
       "3313       0.11       0.02  \n",
       "\n",
       "[4117 rows x 11 columns]"
      ]
     },
     "execution_count": 31,
     "metadata": {},
     "output_type": "execute_result"
    }
   ],
   "source": [
    "data_frame.drop(columns=['condition'])"
   ]
  },
  {
   "cell_type": "code",
   "execution_count": 32,
   "id": "aff3e8e4",
   "metadata": {},
   "outputs": [
    {
     "data": {
      "text/plain": [
       "<AxesSubplot:>"
      ]
     },
     "execution_count": 32,
     "metadata": {},
     "output_type": "execute_result"
    },
    {
     "data": {
      "image/png": "[encoded data removed]",
      "text/plain": [
       "<Figure size 432x288 with 1 Axes>"
      ]
     },
     "metadata": {
      "needs_background": "light"
     },
     "output_type": "display_data"
    }
   ],
   "source": [
    "data_frame[['moisture0', 'moisture1','moisture2', 'moisture4']].plot()"
   ]
  },
  {
   "cell_type": "code",
   "execution_count": 33,
   "id": "46d0d79b",
   "metadata": {},
   "outputs": [],
   "source": [
    "X_train = data_frame[input_columns][:train_size]\n",
    "Y_train = data_frame[prediction][:train_size]\n",
    "X_test = data_frame[input_columns][train_size:]\n",
    "Y_test = data_frame[prediction][train_size:]"
   ]
  },
  {
   "cell_type": "code",
   "execution_count": 34,
   "id": "8f2225bb",
   "metadata": {},
   "outputs": [
    {
     "data": {
      "text/plain": [
       "((4000, 8), (4000, 1))"
      ]
     },
     "execution_count": 34,
     "metadata": {},
     "output_type": "execute_result"
    }
   ],
   "source": [
    "X_train.shape, Y_train.shape"
   ]
  },
  {
   "cell_type": "code",
   "execution_count": 35,
   "id": "03f3fa53",
   "metadata": {},
   "outputs": [
    {
     "name": "stdout",
     "output_type": "stream",
     "text": [
      "Model: \"sequential_1\"\n",
      "_________________________________________________________________\n",
      " Layer (type)                Output Shape              Param #   \n",
      "=================================================================\n",
      " dense_2 (Dense)             (None, 8)                 72        \n",
      "                                                                 \n",
      " dropout_1 (Dropout)         (None, 8)                 0         \n",
      "                                                                 \n",
      " dense_3 (Dense)             (None, 1)                 9         \n",
      "                                                                 \n",
      "=================================================================\n",
      "Total params: 81\n",
      "Trainable params: 81\n",
      "Non-trainable params: 0\n",
      "_________________________________________________________________\n"
     ]
    }
   ],
   "source": [
    "model = tf.keras.models.Sequential()\n",
    "model.add(tf.keras.layers.Dense(units=len(input_columns), input_shape=(len(input_columns),), activation='relu'))\n",
    "model.add(tf.keras.layers.Dropout(0.1))\n",
    "model.add(tf.keras.layers.Dense(units=len(prediction), input_shape=(len(input_columns),)))\n",
    "model.summary()"
   ]
  },
  {
   "cell_type": "code",
   "execution_count": 36,
   "id": "7620366e",
   "metadata": {},
   "outputs": [],
   "source": [
    "model.compile(optimizer='adam', loss=sum_error, metrics=['MSE'])"
   ]
  },
  {
   "cell_type": "code",
   "execution_count": 37,
   "id": "0d3d56b4",
   "metadata": {},
   "outputs": [
    {
     "name": "stdout",
     "output_type": "stream",
     "text": [
      "Epoch 1/10\n",
      "125/125 [==============================] - 0s 879us/step - loss: 27368.9727 - MSE: 896724.5000\n",
      "Epoch 2/10\n",
      "125/125 [==============================] - 0s 823us/step - loss: 5290.0488 - MSE: 59992.6641\n",
      "Epoch 3/10\n",
      "125/125 [==============================] - 0s 823us/step - loss: 3801.7700 - MSE: 41103.1875\n",
      "Epoch 4/10\n",
      "125/125 [==============================] - 0s 855us/step - loss: 3165.3486 - MSE: 29753.6426\n",
      "Epoch 5/10\n",
      "125/125 [==============================] - 0s 1ms/step - loss: 2886.0107 - MSE: 25140.0781\n",
      "Epoch 6/10\n",
      "125/125 [==============================] - 0s 1ms/step - loss: 2488.1272 - MSE: 19394.2520\n",
      "Epoch 7/10\n",
      "125/125 [==============================] - 0s 1ms/step - loss: 2050.8604 - MSE: 13822.1914\n",
      "Epoch 8/10\n",
      "125/125 [==============================] - 0s 1000us/step - loss: 1693.2397 - MSE: 9866.9346\n",
      "Epoch 9/10\n",
      "125/125 [==============================] - 0s 1ms/step - loss: 1311.1323 - MSE: 6563.0811\n",
      "Epoch 10/10\n",
      "125/125 [==============================] - 0s 1ms/step - loss: 1054.0814 - MSE: 4440.3091\n"
     ]
    },
    {
     "data": {
      "text/plain": [
       "<keras.callbacks.History at 0x13fabc66820>"
      ]
     },
     "execution_count": 37,
     "metadata": {},
     "output_type": "execute_result"
    }
   ],
   "source": [
    "model.fit(X_train,Y_train, epochs=10)"
   ]
  },
  {
   "cell_type": "code",
   "execution_count": 38,
   "id": "e946ae65",
   "metadata": {},
   "outputs": [
    {
     "name": "stdout",
     "output_type": "stream",
     "text": [
      "4/4 [==============================] - 0s 2ms/step - loss: 29.9032 - MSE: 1.4820\n"
     ]
    },
    {
     "data": {
      "text/plain": [
       "[29.90324592590332, 1.4820306301116943]"
      ]
     },
     "execution_count": 38,
     "metadata": {},
     "output_type": "execute_result"
    }
   ],
   "source": [
    "model.evaluate(X_test, Y_test)"
   ]
  },
  {
   "cell_type": "code",
   "execution_count": 39,
   "id": "f2c8268c",
   "metadata": {},
   "outputs": [
    {
     "name": "stderr",
     "output_type": "stream",
     "text": [
      "C:\\Users\\ibesi\\AppData\\Local\\Temp\\ipykernel_22260\\4225249613.py:1: VisibleDeprecationWarning: Creating an ndarray from ragged nested sequences (which is a list-or-tuple of lists-or-tuples-or ndarrays with different lengths or shapes) is deprecated. If you meant to do this, you must specify 'dtype=object' when creating the ndarray.\n",
      "  weights = np.array(model.get_weights())\n"
     ]
    }
   ],
   "source": [
    "weights = np.array(model.get_weights())"
   ]
  },
  {
   "cell_type": "code",
   "execution_count": 40,
   "id": "5ddd5577",
   "metadata": {},
   "outputs": [
    {
     "data": {
      "text/plain": [
       "[array([[-2.76366413e-01,  1.50379986e-01, -5.95475547e-04,\n",
       "          1.10667452e-01, -1.62589010e-02, -1.95671529e-01,\n",
       "          3.88285339e-01,  4.51318622e-01],\n",
       "        [-3.59679073e-01, -6.09061182e-01, -3.79141659e-01,\n",
       "         -2.27499425e-01, -6.28432930e-01, -5.80291808e-01,\n",
       "          4.99538690e-01, -1.71495840e-01],\n",
       "        [ 3.34313333e-01,  2.27784708e-01, -3.50456568e-03,\n",
       "         -1.07258484e-01,  3.79405111e-01, -3.76291364e-01,\n",
       "          2.09835783e-01, -4.76606488e-01],\n",
       "        [ 5.19478619e-01, -3.99454653e-01, -1.26836106e-01,\n",
       "         -1.24111414e-01, -1.56462148e-01,  4.27250206e-01,\n",
       "         -2.72233576e-01, -6.24751508e-01],\n",
       "        [ 9.32782888e-02, -1.73195392e-01,  3.55630100e-01,\n",
       "         -3.14873934e-01,  4.30756003e-01,  3.70065331e-01,\n",
       "          2.22101361e-01, -2.11558193e-01],\n",
       "        [ 2.90678442e-01, -7.60274410e-01, -7.38911569e-01,\n",
       "         -5.59070826e-01,  2.17856944e-01, -4.77322340e-02,\n",
       "         -5.76552510e-01, -1.34563938e-01],\n",
       "        [ 2.46933043e-01,  1.06768735e-01, -6.05807602e-01,\n",
       "          2.57919490e-01, -6.85744226e-01, -5.12660086e-01,\n",
       "          9.81365293e-02,  3.32160711e-01],\n",
       "        [-4.28856015e-02, -8.75649095e-01,  1.53291011e-02,\n",
       "          1.03043668e-01, -2.49367822e-02, -1.74595565e-01,\n",
       "          2.76552051e-01,  8.15337971e-02]], dtype=float32),\n",
       " array([ 0.        , -0.3354948 , -0.2610527 , -0.32884854, -0.11491833,\n",
       "         0.        , -0.02960447,  0.0024547 ], dtype=float32),\n",
       " array([[ 0.13298643],\n",
       "        [-0.29982126],\n",
       "        [-0.5393117 ],\n",
       "        [-0.2758011 ],\n",
       "        [-0.53621143],\n",
       "        [-0.44572967],\n",
       "        [ 0.187919  ],\n",
       "        [ 0.00103825]], dtype=float32),\n",
       " array([0.1940271], dtype=float32)]"
      ]
     },
     "execution_count": 40,
     "metadata": {},
     "output_type": "execute_result"
    }
   ],
   "source": [
    "model.get_weights()"
   ]
  },
  {
   "cell_type": "code",
   "execution_count": 41,
   "id": "313c2d2a",
   "metadata": {},
   "outputs": [
    {
     "data": {
      "text/plain": [
       "array([0.02])"
      ]
     },
     "execution_count": 41,
     "metadata": {},
     "output_type": "execute_result"
    }
   ],
   "source": [
    "Y_test.to_numpy()[58]"
   ]
  },
  {
   "cell_type": "code",
   "execution_count": 42,
   "id": "acbf578c",
   "metadata": {},
   "outputs": [
    {
     "name": "stdout",
     "output_type": "stream",
     "text": [
      "4/4 [==============================] - 0s 1ms/step\n"
     ]
    }
   ],
   "source": [
    "prediction = model.predict(X_test.to_numpy())"
   ]
  },
  {
   "cell_type": "code",
   "execution_count": 43,
   "id": "f1da3e13",
   "metadata": {},
   "outputs": [
    {
     "name": "stdout",
     "output_type": "stream",
     "text": [
      "0.9743589743589743\n"
     ]
    }
   ],
   "source": [
    "count = 0\n",
    "for i in range(len(X_test)):\n",
    "    if np.abs(prediction[i][0] - Y_test.to_numpy()[i]) > 0.1:\n",
    "        count += 1\n",
    "print(count/len(X_test))"
   ]
  },
  {
   "cell_type": "code",
   "execution_count": null,
   "id": "3072eec3",
   "metadata": {},
   "outputs": [],
   "source": []
  }
 ],
 "metadata": {
  "kernelspec": {
   "display_name": "Python 3 (ipykernel)",
   "language": "python",
   "name": "python3"
  },
  "language_info": {
   "codemirror_mode": {
    "name": "ipython",
    "version": 3
   },
   "file_extension": ".py",
   "mimetype": "text/x-python",
   "name": "python",
   "nbconvert_exporter": "python",
   "pygments_lexer": "ipython3",
   "version": "3.9.12"
  }
 },
 "nbformat": 4,
 "nbformat_minor": 5
}
