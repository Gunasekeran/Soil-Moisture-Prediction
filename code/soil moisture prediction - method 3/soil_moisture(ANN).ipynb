{
 "cells": [
  {
   "cell_type": "code",
   "execution_count": 1,
   "id": "de776093",
   "metadata": {},
   "outputs": [],
   "source": [
    "import tensorflow as tf\n",
    "import numpy as np\n",
    "import pandas as pd\n",
    "import keras.backend as K"
   ]
  },
  {
   "cell_type": "code",
   "execution_count": 2,
   "id": "739a180e",
   "metadata": {},
   "outputs": [],
   "source": [
    "#Prediction of Moisture 3 using Moisture 0, 1 and 2\n",
    "input_columns = ['year', 'month', 'day', 'hour', 'minute', 'moisture0', 'moisture1', 'moisture2']\n",
    "prediction = ['moisture3']"
   ]
  },
  {
   "cell_type": "code",
   "execution_count": 3,
   "id": "00dd3e17",
   "metadata": {},
   "outputs": [],
   "source": [
    "#splitting the dataset as training and testing sets\n",
    "train_size = 4000\n",
    "test_size = 1000"
   ]
  },
  {
   "cell_type": "code",
   "execution_count": 4,
   "id": "e39c13ef",
   "metadata": {},
   "outputs": [],
   "source": [
    "#Defining the function for returning the sum of absolute values\n",
    "def sum_error(y_true, y_pred):\n",
    "        return K.sum(K.abs(y_pred - y_true))"
   ]
  },
  {
   "cell_type": "code",
   "execution_count": 5,
   "id": "bae956d4",
   "metadata": {},
   "outputs": [
    {
     "data": {
      "text/plain": [
       "4"
      ]
     },
     "execution_count": 5,
     "metadata": {},
     "output_type": "execute_result"
    }
   ],
   "source": [
    "#Evaluation Function calling\n",
    "K.eval(K.sum(K.abs(np.array([0,3]) - np.array([2,5]))))"
   ]
  },
  {
   "cell_type": "code",
   "execution_count": 6,
   "id": "2a450117",
   "metadata": {},
   "outputs": [],
   "source": [
    "#Reading the Dataset\n",
    "data_frame = pd.read_csv('soil_moisture_dataset.csv')"
   ]
  },
  {
   "cell_type": "code",
   "execution_count": 7,
   "id": "f1263cb4",
   "metadata": {},
   "outputs": [
    {
     "data": {
      "text/html": [
       "<div>\n",
       "<style scoped>\n",
       "    .dataframe tbody tr th:only-of-type {\n",
       "        vertical-align: middle;\n",
       "    }\n",
       "\n",
       "    .dataframe tbody tr th {\n",
       "        vertical-align: top;\n",
       "    }\n",
       "\n",
       "    .dataframe thead th {\n",
       "        text-align: right;\n",
       "    }\n",
       "</style>\n",
       "<table border=\"1\" class=\"dataframe\">\n",
       "  <thead>\n",
       "    <tr style=\"text-align: right;\">\n",
       "      <th></th>\n",
       "      <th>year</th>\n",
       "      <th>month</th>\n",
       "      <th>day</th>\n",
       "      <th>hour</th>\n",
       "      <th>minute</th>\n",
       "      <th>second</th>\n",
       "      <th>moisture0</th>\n",
       "      <th>moisture1</th>\n",
       "      <th>moisture2</th>\n",
       "      <th>moisture3</th>\n",
       "      <th>moisture4</th>\n",
       "      <th>condition</th>\n",
       "    </tr>\n",
       "  </thead>\n",
       "  <tbody>\n",
       "    <tr>\n",
       "      <th>0</th>\n",
       "      <td>2020</td>\n",
       "      <td>3</td>\n",
       "      <td>6</td>\n",
       "      <td>22</td>\n",
       "      <td>16</td>\n",
       "      <td>11</td>\n",
       "      <td>0.70</td>\n",
       "      <td>0.64</td>\n",
       "      <td>0.73</td>\n",
       "      <td>0.40</td>\n",
       "      <td>0.02</td>\n",
       "      <td>False</td>\n",
       "    </tr>\n",
       "    <tr>\n",
       "      <th>1</th>\n",
       "      <td>2020</td>\n",
       "      <td>3</td>\n",
       "      <td>6</td>\n",
       "      <td>22</td>\n",
       "      <td>17</td>\n",
       "      <td>11</td>\n",
       "      <td>0.70</td>\n",
       "      <td>0.64</td>\n",
       "      <td>0.71</td>\n",
       "      <td>0.39</td>\n",
       "      <td>0.02</td>\n",
       "      <td>False</td>\n",
       "    </tr>\n",
       "    <tr>\n",
       "      <th>2</th>\n",
       "      <td>2020</td>\n",
       "      <td>3</td>\n",
       "      <td>6</td>\n",
       "      <td>22</td>\n",
       "      <td>18</td>\n",
       "      <td>11</td>\n",
       "      <td>0.69</td>\n",
       "      <td>0.63</td>\n",
       "      <td>0.70</td>\n",
       "      <td>0.39</td>\n",
       "      <td>0.02</td>\n",
       "      <td>False</td>\n",
       "    </tr>\n",
       "    <tr>\n",
       "      <th>3</th>\n",
       "      <td>2020</td>\n",
       "      <td>3</td>\n",
       "      <td>6</td>\n",
       "      <td>22</td>\n",
       "      <td>19</td>\n",
       "      <td>11</td>\n",
       "      <td>0.69</td>\n",
       "      <td>0.63</td>\n",
       "      <td>0.70</td>\n",
       "      <td>0.39</td>\n",
       "      <td>0.02</td>\n",
       "      <td>False</td>\n",
       "    </tr>\n",
       "    <tr>\n",
       "      <th>4</th>\n",
       "      <td>2020</td>\n",
       "      <td>3</td>\n",
       "      <td>6</td>\n",
       "      <td>22</td>\n",
       "      <td>20</td>\n",
       "      <td>12</td>\n",
       "      <td>0.69</td>\n",
       "      <td>0.62</td>\n",
       "      <td>0.69</td>\n",
       "      <td>0.39</td>\n",
       "      <td>0.02</td>\n",
       "      <td>False</td>\n",
       "    </tr>\n",
       "    <tr>\n",
       "      <th>...</th>\n",
       "      <td>...</td>\n",
       "      <td>...</td>\n",
       "      <td>...</td>\n",
       "      <td>...</td>\n",
       "      <td>...</td>\n",
       "      <td>...</td>\n",
       "      <td>...</td>\n",
       "      <td>...</td>\n",
       "      <td>...</td>\n",
       "      <td>...</td>\n",
       "      <td>...</td>\n",
       "      <td>...</td>\n",
       "    </tr>\n",
       "    <tr>\n",
       "      <th>4112</th>\n",
       "      <td>2020</td>\n",
       "      <td>3</td>\n",
       "      <td>9</td>\n",
       "      <td>19</td>\n",
       "      <td>12</td>\n",
       "      <td>49</td>\n",
       "      <td>0.18</td>\n",
       "      <td>0.62</td>\n",
       "      <td>0.60</td>\n",
       "      <td>0.10</td>\n",
       "      <td>0.03</td>\n",
       "      <td>False</td>\n",
       "    </tr>\n",
       "    <tr>\n",
       "      <th>4113</th>\n",
       "      <td>2020</td>\n",
       "      <td>3</td>\n",
       "      <td>9</td>\n",
       "      <td>19</td>\n",
       "      <td>13</td>\n",
       "      <td>49</td>\n",
       "      <td>0.18</td>\n",
       "      <td>0.62</td>\n",
       "      <td>0.59</td>\n",
       "      <td>0.10</td>\n",
       "      <td>0.02</td>\n",
       "      <td>False</td>\n",
       "    </tr>\n",
       "    <tr>\n",
       "      <th>4114</th>\n",
       "      <td>2020</td>\n",
       "      <td>3</td>\n",
       "      <td>9</td>\n",
       "      <td>19</td>\n",
       "      <td>14</td>\n",
       "      <td>49</td>\n",
       "      <td>0.18</td>\n",
       "      <td>0.62</td>\n",
       "      <td>0.59</td>\n",
       "      <td>0.10</td>\n",
       "      <td>0.02</td>\n",
       "      <td>False</td>\n",
       "    </tr>\n",
       "    <tr>\n",
       "      <th>4115</th>\n",
       "      <td>2020</td>\n",
       "      <td>3</td>\n",
       "      <td>9</td>\n",
       "      <td>19</td>\n",
       "      <td>15</td>\n",
       "      <td>49</td>\n",
       "      <td>0.18</td>\n",
       "      <td>0.62</td>\n",
       "      <td>0.60</td>\n",
       "      <td>0.10</td>\n",
       "      <td>0.02</td>\n",
       "      <td>False</td>\n",
       "    </tr>\n",
       "    <tr>\n",
       "      <th>4116</th>\n",
       "      <td>2020</td>\n",
       "      <td>3</td>\n",
       "      <td>9</td>\n",
       "      <td>19</td>\n",
       "      <td>16</td>\n",
       "      <td>49</td>\n",
       "      <td>0.18</td>\n",
       "      <td>0.63</td>\n",
       "      <td>0.60</td>\n",
       "      <td>0.09</td>\n",
       "      <td>0.02</td>\n",
       "      <td>False</td>\n",
       "    </tr>\n",
       "  </tbody>\n",
       "</table>\n",
       "<p>4117 rows × 12 columns</p>\n",
       "</div>"
      ],
      "text/plain": [
       "      year  month  day  hour  minute  second  moisture0  moisture1  moisture2  \\\n",
       "0     2020      3    6    22      16      11       0.70       0.64       0.73   \n",
       "1     2020      3    6    22      17      11       0.70       0.64       0.71   \n",
       "2     2020      3    6    22      18      11       0.69       0.63       0.70   \n",
       "3     2020      3    6    22      19      11       0.69       0.63       0.70   \n",
       "4     2020      3    6    22      20      12       0.69       0.62       0.69   \n",
       "...    ...    ...  ...   ...     ...     ...        ...        ...        ...   \n",
       "4112  2020      3    9    19      12      49       0.18       0.62       0.60   \n",
       "4113  2020      3    9    19      13      49       0.18       0.62       0.59   \n",
       "4114  2020      3    9    19      14      49       0.18       0.62       0.59   \n",
       "4115  2020      3    9    19      15      49       0.18       0.62       0.60   \n",
       "4116  2020      3    9    19      16      49       0.18       0.63       0.60   \n",
       "\n",
       "      moisture3  moisture4  condition  \n",
       "0          0.40       0.02      False  \n",
       "1          0.39       0.02      False  \n",
       "2          0.39       0.02      False  \n",
       "3          0.39       0.02      False  \n",
       "4          0.39       0.02      False  \n",
       "...         ...        ...        ...  \n",
       "4112       0.10       0.03      False  \n",
       "4113       0.10       0.02      False  \n",
       "4114       0.10       0.02      False  \n",
       "4115       0.10       0.02      False  \n",
       "4116       0.09       0.02      False  \n",
       "\n",
       "[4117 rows x 12 columns]"
      ]
     },
     "execution_count": 7,
     "metadata": {},
     "output_type": "execute_result"
    }
   ],
   "source": [
    "data_frame"
   ]
  },
  {
   "cell_type": "code",
   "execution_count": 8,
   "id": "6055c71f",
   "metadata": {},
   "outputs": [],
   "source": [
    "data_frame = data_frame.sample(frac=1)"
   ]
  },
  {
   "cell_type": "code",
   "execution_count": 9,
   "id": "a9dd438d",
   "metadata": {},
   "outputs": [
    {
     "data": {
      "text/html": [
       "<div>\n",
       "<style scoped>\n",
       "    .dataframe tbody tr th:only-of-type {\n",
       "        vertical-align: middle;\n",
       "    }\n",
       "\n",
       "    .dataframe tbody tr th {\n",
       "        vertical-align: top;\n",
       "    }\n",
       "\n",
       "    .dataframe thead th {\n",
       "        text-align: right;\n",
       "    }\n",
       "</style>\n",
       "<table border=\"1\" class=\"dataframe\">\n",
       "  <thead>\n",
       "    <tr style=\"text-align: right;\">\n",
       "      <th></th>\n",
       "      <th>year</th>\n",
       "      <th>month</th>\n",
       "      <th>day</th>\n",
       "      <th>hour</th>\n",
       "      <th>minute</th>\n",
       "      <th>second</th>\n",
       "      <th>moisture0</th>\n",
       "      <th>moisture1</th>\n",
       "      <th>moisture2</th>\n",
       "      <th>moisture3</th>\n",
       "      <th>moisture4</th>\n",
       "    </tr>\n",
       "  </thead>\n",
       "  <tbody>\n",
       "    <tr>\n",
       "      <th>1959</th>\n",
       "      <td>2020</td>\n",
       "      <td>3</td>\n",
       "      <td>8</td>\n",
       "      <td>7</td>\n",
       "      <td>18</td>\n",
       "      <td>1</td>\n",
       "      <td>0.51</td>\n",
       "      <td>0.68</td>\n",
       "      <td>0.71</td>\n",
       "      <td>0.29</td>\n",
       "      <td>0.02</td>\n",
       "    </tr>\n",
       "    <tr>\n",
       "      <th>3196</th>\n",
       "      <td>2020</td>\n",
       "      <td>3</td>\n",
       "      <td>9</td>\n",
       "      <td>3</td>\n",
       "      <td>56</td>\n",
       "      <td>4</td>\n",
       "      <td>0.26</td>\n",
       "      <td>0.62</td>\n",
       "      <td>0.64</td>\n",
       "      <td>0.10</td>\n",
       "      <td>0.02</td>\n",
       "    </tr>\n",
       "    <tr>\n",
       "      <th>1716</th>\n",
       "      <td>2020</td>\n",
       "      <td>3</td>\n",
       "      <td>8</td>\n",
       "      <td>3</td>\n",
       "      <td>14</td>\n",
       "      <td>48</td>\n",
       "      <td>0.52</td>\n",
       "      <td>0.68</td>\n",
       "      <td>0.70</td>\n",
       "      <td>0.40</td>\n",
       "      <td>0.02</td>\n",
       "    </tr>\n",
       "    <tr>\n",
       "      <th>2593</th>\n",
       "      <td>2020</td>\n",
       "      <td>3</td>\n",
       "      <td>8</td>\n",
       "      <td>17</td>\n",
       "      <td>52</td>\n",
       "      <td>33</td>\n",
       "      <td>0.40</td>\n",
       "      <td>0.65</td>\n",
       "      <td>0.69</td>\n",
       "      <td>0.14</td>\n",
       "      <td>0.02</td>\n",
       "    </tr>\n",
       "    <tr>\n",
       "      <th>222</th>\n",
       "      <td>2020</td>\n",
       "      <td>3</td>\n",
       "      <td>7</td>\n",
       "      <td>1</td>\n",
       "      <td>58</td>\n",
       "      <td>22</td>\n",
       "      <td>0.57</td>\n",
       "      <td>0.67</td>\n",
       "      <td>0.71</td>\n",
       "      <td>0.53</td>\n",
       "      <td>0.02</td>\n",
       "    </tr>\n",
       "    <tr>\n",
       "      <th>...</th>\n",
       "      <td>...</td>\n",
       "      <td>...</td>\n",
       "      <td>...</td>\n",
       "      <td>...</td>\n",
       "      <td>...</td>\n",
       "      <td>...</td>\n",
       "      <td>...</td>\n",
       "      <td>...</td>\n",
       "      <td>...</td>\n",
       "      <td>...</td>\n",
       "      <td>...</td>\n",
       "    </tr>\n",
       "    <tr>\n",
       "      <th>428</th>\n",
       "      <td>2020</td>\n",
       "      <td>3</td>\n",
       "      <td>7</td>\n",
       "      <td>5</td>\n",
       "      <td>24</td>\n",
       "      <td>33</td>\n",
       "      <td>0.61</td>\n",
       "      <td>0.65</td>\n",
       "      <td>0.74</td>\n",
       "      <td>0.58</td>\n",
       "      <td>0.02</td>\n",
       "    </tr>\n",
       "    <tr>\n",
       "      <th>3629</th>\n",
       "      <td>2020</td>\n",
       "      <td>3</td>\n",
       "      <td>9</td>\n",
       "      <td>11</td>\n",
       "      <td>9</td>\n",
       "      <td>25</td>\n",
       "      <td>0.22</td>\n",
       "      <td>0.62</td>\n",
       "      <td>0.60</td>\n",
       "      <td>0.09</td>\n",
       "      <td>0.02</td>\n",
       "    </tr>\n",
       "    <tr>\n",
       "      <th>3640</th>\n",
       "      <td>2020</td>\n",
       "      <td>3</td>\n",
       "      <td>9</td>\n",
       "      <td>11</td>\n",
       "      <td>20</td>\n",
       "      <td>26</td>\n",
       "      <td>0.23</td>\n",
       "      <td>0.62</td>\n",
       "      <td>0.60</td>\n",
       "      <td>0.10</td>\n",
       "      <td>0.03</td>\n",
       "    </tr>\n",
       "    <tr>\n",
       "      <th>1615</th>\n",
       "      <td>2020</td>\n",
       "      <td>3</td>\n",
       "      <td>8</td>\n",
       "      <td>1</td>\n",
       "      <td>33</td>\n",
       "      <td>43</td>\n",
       "      <td>0.52</td>\n",
       "      <td>0.68</td>\n",
       "      <td>0.70</td>\n",
       "      <td>0.45</td>\n",
       "      <td>0.02</td>\n",
       "    </tr>\n",
       "    <tr>\n",
       "      <th>3845</th>\n",
       "      <td>2020</td>\n",
       "      <td>3</td>\n",
       "      <td>9</td>\n",
       "      <td>14</td>\n",
       "      <td>45</td>\n",
       "      <td>36</td>\n",
       "      <td>0.21</td>\n",
       "      <td>0.63</td>\n",
       "      <td>0.60</td>\n",
       "      <td>0.12</td>\n",
       "      <td>0.03</td>\n",
       "    </tr>\n",
       "  </tbody>\n",
       "</table>\n",
       "<p>4117 rows × 11 columns</p>\n",
       "</div>"
      ],
      "text/plain": [
       "      year  month  day  hour  minute  second  moisture0  moisture1  moisture2  \\\n",
       "1959  2020      3    8     7      18       1       0.51       0.68       0.71   \n",
       "3196  2020      3    9     3      56       4       0.26       0.62       0.64   \n",
       "1716  2020      3    8     3      14      48       0.52       0.68       0.70   \n",
       "2593  2020      3    8    17      52      33       0.40       0.65       0.69   \n",
       "222   2020      3    7     1      58      22       0.57       0.67       0.71   \n",
       "...    ...    ...  ...   ...     ...     ...        ...        ...        ...   \n",
       "428   2020      3    7     5      24      33       0.61       0.65       0.74   \n",
       "3629  2020      3    9    11       9      25       0.22       0.62       0.60   \n",
       "3640  2020      3    9    11      20      26       0.23       0.62       0.60   \n",
       "1615  2020      3    8     1      33      43       0.52       0.68       0.70   \n",
       "3845  2020      3    9    14      45      36       0.21       0.63       0.60   \n",
       "\n",
       "      moisture3  moisture4  \n",
       "1959       0.29       0.02  \n",
       "3196       0.10       0.02  \n",
       "1716       0.40       0.02  \n",
       "2593       0.14       0.02  \n",
       "222        0.53       0.02  \n",
       "...         ...        ...  \n",
       "428        0.58       0.02  \n",
       "3629       0.09       0.02  \n",
       "3640       0.10       0.03  \n",
       "1615       0.45       0.02  \n",
       "3845       0.12       0.03  \n",
       "\n",
       "[4117 rows x 11 columns]"
      ]
     },
     "execution_count": 9,
     "metadata": {},
     "output_type": "execute_result"
    }
   ],
   "source": [
    "#Dropping a Column, i.e. 'Condition'\n",
    "data_frame.drop(columns=['condition'])"
   ]
  },
  {
   "cell_type": "code",
   "execution_count": 10,
   "id": "26486596",
   "metadata": {},
   "outputs": [
    {
     "data": {
      "text/plain": [
       "<AxesSubplot:>"
      ]
     },
     "execution_count": 10,
     "metadata": {},
     "output_type": "execute_result"
    },
    {
     "data": {
      "image/png": "[encoded data removed]",
      "text/plain": [
       "<Figure size 432x288 with 1 Axes>"
      ]
     },
     "metadata": {
      "needs_background": "light"
     },
     "output_type": "display_data"
    }
   ],
   "source": [
    "#Plotting the AxesSubplot of moisture 0, 1, 2 and 3\n",
    "data_frame[['moisture0', 'moisture1','moisture2', 'moisture3']].plot()"
   ]
  },
  {
   "cell_type": "code",
   "execution_count": 11,
   "id": "ad67f076",
   "metadata": {},
   "outputs": [],
   "source": [
    "#Assigning the values for Training and Testing Purpose\n",
    "X_train = data_frame[input_columns][:train_size]\n",
    "Y_train = data_frame[prediction][:train_size]\n",
    "X_test = data_frame[input_columns][train_size:]\n",
    "Y_test = data_frame[prediction][train_size:]"
   ]
  },
  {
   "cell_type": "code",
   "execution_count": 12,
   "id": "a02d0c0e",
   "metadata": {},
   "outputs": [
    {
     "data": {
      "text/plain": [
       "((4000, 8), (4000, 1))"
      ]
     },
     "execution_count": 12,
     "metadata": {},
     "output_type": "execute_result"
    }
   ],
   "source": [
    "#Displaying the number of rows and columns of the DataFrame\n",
    "X_train.shape, Y_train.shape"
   ]
  },
  {
   "cell_type": "code",
   "execution_count": 13,
   "id": "6224742c",
   "metadata": {},
   "outputs": [
    {
     "name": "stdout",
     "output_type": "stream",
     "text": [
      "Model: \"sequential\"\n",
      "_________________________________________________________________\n",
      " Layer (type)                Output Shape              Param #   \n",
      "=================================================================\n",
      " dense (Dense)               (None, 8)                 72        \n",
      "                                                                 \n",
      " dropout (Dropout)           (None, 8)                 0         \n",
      "                                                                 \n",
      " dense_1 (Dense)             (None, 1)                 9         \n",
      "                                                                 \n",
      "=================================================================\n",
      "Total params: 81\n",
      "Trainable params: 81\n",
      "Non-trainable params: 0\n",
      "_________________________________________________________________\n"
     ]
    }
   ],
   "source": [
    "#Using sequential model to display output shape and parameters\n",
    "model = tf.keras.models.Sequential()\n",
    "model.add(tf.keras.layers.Dense(units=len(input_columns), input_shape=(len(input_columns),), activation='relu'))\n",
    "model.add(tf.keras.layers.Dropout(0.1))\n",
    "model.add(tf.keras.layers.Dense(units=len(prediction), input_shape=(len(input_columns),)))\n",
    "model.summary()"
   ]
  },
  {
   "cell_type": "code",
   "execution_count": 14,
   "id": "3a6d105c",
   "metadata": {},
   "outputs": [],
   "source": [
    "#Compiling the model to finalise the model and making it completely ready to use\n",
    "model.compile(optimizer='adam', loss=sum_error, metrics=['MSE'])"
   ]
  },
  {
   "cell_type": "code",
   "execution_count": 15,
   "id": "fb48fbdc",
   "metadata": {},
   "outputs": [
    {
     "name": "stdout",
     "output_type": "stream",
     "text": [
      "Epoch 1/10\n",
      "125/125 [==============================] - 1s 2ms/step - loss: 10145.2559 - MSE: 156162.3438\n",
      "Epoch 2/10\n",
      "125/125 [==============================] - 0s 2ms/step - loss: 2708.0283 - MSE: 18574.1641\n",
      "Epoch 3/10\n",
      "125/125 [==============================] - 0s 2ms/step - loss: 2287.2607 - MSE: 13790.9531\n",
      "Epoch 4/10\n",
      "125/125 [==============================] - 0s 2ms/step - loss: 1821.7413 - MSE: 8667.1016\n",
      "Epoch 5/10\n",
      "125/125 [==============================] - 0s 2ms/step - loss: 1306.6351 - MSE: 4789.8345\n",
      "Epoch 6/10\n",
      "125/125 [==============================] - 0s 2ms/step - loss: 909.9183 - MSE: 2439.6060\n",
      "Epoch 7/10\n",
      "125/125 [==============================] - 0s 2ms/step - loss: 521.6840 - MSE: 921.9382\n",
      "Epoch 8/10\n",
      "125/125 [==============================] - 0s 2ms/step - loss: 194.0406 - MSE: 153.3336\n",
      "Epoch 9/10\n",
      "125/125 [==============================] - 0s 2ms/step - loss: 23.3625 - MSE: 2.2241\n",
      "Epoch 10/10\n",
      "125/125 [==============================] - 0s 2ms/step - loss: 6.4957 - MSE: 0.0624\n"
     ]
    },
    {
     "data": {
      "text/plain": [
       "<keras.callbacks.History at 0x1bbb5630760>"
      ]
     },
     "execution_count": 15,
     "metadata": {},
     "output_type": "execute_result"
    }
   ],
   "source": [
    "#Fitting training data to measure how the model generalizes to similar data\n",
    "model.fit(X_train,Y_train, epochs=10)"
   ]
  },
  {
   "cell_type": "code",
   "execution_count": 16,
   "id": "030d4629",
   "metadata": {},
   "outputs": [
    {
     "name": "stdout",
     "output_type": "stream",
     "text": [
      "4/4 [==============================] - 1s 0s/step - loss: 9.1039 - MSE: 0.1250\n"
     ]
    },
    {
     "data": {
      "text/plain": [
       "[9.103867530822754, 0.12499889731407166]"
      ]
     },
     "execution_count": 16,
     "metadata": {},
     "output_type": "execute_result"
    }
   ],
   "source": [
    "#Evaluating to check whether the model is best fit for the given problem and corresponding data\n",
    "model.evaluate(X_test, Y_test)"
   ]
  },
  {
   "cell_type": "code",
   "execution_count": 17,
   "id": "ab7f00e0",
   "metadata": {},
   "outputs": [
    {
     "name": "stderr",
     "output_type": "stream",
     "text": [
      "C:\\Users\\Guna\\AppData\\Local\\Temp\\ipykernel_7812\\2561428532.py:2: VisibleDeprecationWarning: Creating an ndarray from ragged nested sequences (which is a list-or-tuple of lists-or-tuples-or ndarrays with different lengths or shapes) is deprecated. If you meant to do this, you must specify 'dtype=object' when creating the ndarray.\n",
      "  weights = np.array(model.get_weights())\n"
     ]
    }
   ],
   "source": [
    "#Setting weights in Keras using numpy array\n",
    "weights = np.array(model.get_weights())"
   ]
  },
  {
   "cell_type": "code",
   "execution_count": 18,
   "id": "4fccd7c9",
   "metadata": {},
   "outputs": [
    {
     "data": {
      "text/plain": [
       "[array([[-0.02455837,  0.00254142, -0.00680663, -0.00171153,  0.12400887,\n",
       "         -0.14202097,  0.4804928 ,  0.00136797],\n",
       "        [-0.2745738 , -0.8738133 , -0.49014652,  0.39026225, -0.15598845,\n",
       "         -0.33252218, -0.3252003 , -0.68160963],\n",
       "        [-0.21748248, -0.36079445,  0.13645664, -0.5105478 , -0.30297658,\n",
       "          0.26874632, -0.49501085, -0.05999696],\n",
       "        [ 0.49887174, -0.03569761, -0.04930281, -0.03742797,  0.04246158,\n",
       "         -0.11583367,  0.47375572, -0.60494334],\n",
       "        [-0.08943027,  0.02500141, -0.2841491 ,  0.07310503, -0.70249945,\n",
       "         -0.21106806, -0.17439951, -0.20551796],\n",
       "        [ 0.41083246, -0.18108693,  0.47280148,  0.47051463, -0.34108904,\n",
       "         -0.46098375, -0.33646497,  0.1647648 ],\n",
       "        [-0.10569757, -0.29907683,  0.421156  , -0.02892565, -0.2545911 ,\n",
       "         -0.14125389, -0.26425916, -0.6512484 ],\n",
       "        [-0.09642369,  0.16883966, -0.35313424,  0.18310137,  0.20846002,\n",
       "         -0.06475085,  0.4671071 ,  0.05616273]], dtype=float32),\n",
       " array([ 0.        , -0.33306992, -0.01091988, -0.03125037,  0.01795266,\n",
       "         0.        ,  0.01925739, -0.23301908], dtype=float32),\n",
       " array([[-6.1190486e-01],\n",
       "        [ 4.8122871e-01],\n",
       "        [ 7.4469680e-01],\n",
       "        [-7.8983271e-01],\n",
       "        [ 9.1396773e-04],\n",
       "        [ 2.4936342e-01],\n",
       "        [-9.7407697e-05],\n",
       "        [ 5.0819695e-01]], dtype=float32),\n",
       " array([-0.10995423], dtype=float32)]"
      ]
     },
     "execution_count": 18,
     "metadata": {},
     "output_type": "execute_result"
    }
   ],
   "source": [
    "#Using get_weights() to return the weights of the model as a list of Numpy arrays\n",
    "model.get_weights()"
   ]
  },
  {
   "cell_type": "code",
   "execution_count": 19,
   "id": "d46887a1",
   "metadata": {},
   "outputs": [
    {
     "data": {
      "text/plain": [
       "array([0.31])"
      ]
     },
     "execution_count": 19,
     "metadata": {},
     "output_type": "execute_result"
    }
   ],
   "source": [
    "#convert dataframe into numpy array\n",
    "Y_test.to_numpy()[58]"
   ]
  },
  {
   "cell_type": "code",
   "execution_count": 20,
   "id": "bcf4bb9b",
   "metadata": {},
   "outputs": [
    {
     "name": "stdout",
     "output_type": "stream",
     "text": [
      "4/4 [==============================] - 0s 3ms/step\n"
     ]
    }
   ],
   "source": [
    "#Using predict() method for the actual prediction (to generate output predictions for the input samples)\n",
    "prediction = model.predict(X_test.to_numpy())"
   ]
  },
  {
   "cell_type": "code",
   "execution_count": 21,
   "id": "8bfd6cf6",
   "metadata": {},
   "outputs": [
    {
     "name": "stdout",
     "output_type": "stream",
     "text": [
      "0.811965811965812\n"
     ]
    }
   ],
   "source": [
    "#Displaying the accuracy value of moisture 3\n",
    "count = 0\n",
    "for i in range(len(X_test)):\n",
    "    if np.abs(prediction[i][0] - Y_test.to_numpy()[i]) > 0.1:\n",
    "        count += 1\n",
    "print(count/len(X_test))"
   ]
  },
  {
   "cell_type": "code",
   "execution_count": 22,
   "id": "d88b4017",
   "metadata": {},
   "outputs": [],
   "source": [
    "#Prediction of Moisture 4 using Moisture 0, 1 and 2\n",
    "input_columns = ['year', 'month', 'day', 'hour', 'minute', 'moisture0', 'moisture1', 'moisture2']\n",
    "prediction = ['moisture4']"
   ]
  },
  {
   "cell_type": "code",
   "execution_count": 23,
   "id": "ad22cae5",
   "metadata": {},
   "outputs": [],
   "source": [
    "#splitting the dataset as training and testing sets\n",
    "train_size = 4000\n",
    "test_size = 1000"
   ]
  },
  {
   "cell_type": "code",
   "execution_count": 24,
   "id": "c62e6497",
   "metadata": {},
   "outputs": [],
   "source": [
    "#Defining the function for returning the sum of absolute values\n",
    "def sum_error(y_true, y_pred):\n",
    "        return K.sum(K.abs(y_pred - y_true))"
   ]
  },
  {
   "cell_type": "code",
   "execution_count": 25,
   "id": "96f56b51",
   "metadata": {},
   "outputs": [
    {
     "data": {
      "text/plain": [
       "4"
      ]
     },
     "execution_count": 25,
     "metadata": {},
     "output_type": "execute_result"
    }
   ],
   "source": [
    "#Evaluation Function calling\n",
    "K.eval(K.sum(K.abs(np.array([0,3]) - np.array([2,5]))))"
   ]
  },
  {
   "cell_type": "code",
   "execution_count": 26,
   "id": "cbf9d7b2",
   "metadata": {},
   "outputs": [
    {
     "data": {
      "text/html": [
       "<div>\n",
       "<style scoped>\n",
       "    .dataframe tbody tr th:only-of-type {\n",
       "        vertical-align: middle;\n",
       "    }\n",
       "\n",
       "    .dataframe tbody tr th {\n",
       "        vertical-align: top;\n",
       "    }\n",
       "\n",
       "    .dataframe thead th {\n",
       "        text-align: right;\n",
       "    }\n",
       "</style>\n",
       "<table border=\"1\" class=\"dataframe\">\n",
       "  <thead>\n",
       "    <tr style=\"text-align: right;\">\n",
       "      <th></th>\n",
       "      <th>year</th>\n",
       "      <th>month</th>\n",
       "      <th>day</th>\n",
       "      <th>hour</th>\n",
       "      <th>minute</th>\n",
       "      <th>second</th>\n",
       "      <th>moisture0</th>\n",
       "      <th>moisture1</th>\n",
       "      <th>moisture2</th>\n",
       "      <th>moisture3</th>\n",
       "      <th>moisture4</th>\n",
       "      <th>condition</th>\n",
       "    </tr>\n",
       "  </thead>\n",
       "  <tbody>\n",
       "    <tr>\n",
       "      <th>0</th>\n",
       "      <td>2020</td>\n",
       "      <td>3</td>\n",
       "      <td>6</td>\n",
       "      <td>22</td>\n",
       "      <td>16</td>\n",
       "      <td>11</td>\n",
       "      <td>0.70</td>\n",
       "      <td>0.64</td>\n",
       "      <td>0.73</td>\n",
       "      <td>0.40</td>\n",
       "      <td>0.02</td>\n",
       "      <td>False</td>\n",
       "    </tr>\n",
       "    <tr>\n",
       "      <th>1</th>\n",
       "      <td>2020</td>\n",
       "      <td>3</td>\n",
       "      <td>6</td>\n",
       "      <td>22</td>\n",
       "      <td>17</td>\n",
       "      <td>11</td>\n",
       "      <td>0.70</td>\n",
       "      <td>0.64</td>\n",
       "      <td>0.71</td>\n",
       "      <td>0.39</td>\n",
       "      <td>0.02</td>\n",
       "      <td>False</td>\n",
       "    </tr>\n",
       "    <tr>\n",
       "      <th>2</th>\n",
       "      <td>2020</td>\n",
       "      <td>3</td>\n",
       "      <td>6</td>\n",
       "      <td>22</td>\n",
       "      <td>18</td>\n",
       "      <td>11</td>\n",
       "      <td>0.69</td>\n",
       "      <td>0.63</td>\n",
       "      <td>0.70</td>\n",
       "      <td>0.39</td>\n",
       "      <td>0.02</td>\n",
       "      <td>False</td>\n",
       "    </tr>\n",
       "    <tr>\n",
       "      <th>3</th>\n",
       "      <td>2020</td>\n",
       "      <td>3</td>\n",
       "      <td>6</td>\n",
       "      <td>22</td>\n",
       "      <td>19</td>\n",
       "      <td>11</td>\n",
       "      <td>0.69</td>\n",
       "      <td>0.63</td>\n",
       "      <td>0.70</td>\n",
       "      <td>0.39</td>\n",
       "      <td>0.02</td>\n",
       "      <td>False</td>\n",
       "    </tr>\n",
       "    <tr>\n",
       "      <th>4</th>\n",
       "      <td>2020</td>\n",
       "      <td>3</td>\n",
       "      <td>6</td>\n",
       "      <td>22</td>\n",
       "      <td>20</td>\n",
       "      <td>12</td>\n",
       "      <td>0.69</td>\n",
       "      <td>0.62</td>\n",
       "      <td>0.69</td>\n",
       "      <td>0.39</td>\n",
       "      <td>0.02</td>\n",
       "      <td>False</td>\n",
       "    </tr>\n",
       "    <tr>\n",
       "      <th>...</th>\n",
       "      <td>...</td>\n",
       "      <td>...</td>\n",
       "      <td>...</td>\n",
       "      <td>...</td>\n",
       "      <td>...</td>\n",
       "      <td>...</td>\n",
       "      <td>...</td>\n",
       "      <td>...</td>\n",
       "      <td>...</td>\n",
       "      <td>...</td>\n",
       "      <td>...</td>\n",
       "      <td>...</td>\n",
       "    </tr>\n",
       "    <tr>\n",
       "      <th>4112</th>\n",
       "      <td>2020</td>\n",
       "      <td>3</td>\n",
       "      <td>9</td>\n",
       "      <td>19</td>\n",
       "      <td>12</td>\n",
       "      <td>49</td>\n",
       "      <td>0.18</td>\n",
       "      <td>0.62</td>\n",
       "      <td>0.60</td>\n",
       "      <td>0.10</td>\n",
       "      <td>0.03</td>\n",
       "      <td>False</td>\n",
       "    </tr>\n",
       "    <tr>\n",
       "      <th>4113</th>\n",
       "      <td>2020</td>\n",
       "      <td>3</td>\n",
       "      <td>9</td>\n",
       "      <td>19</td>\n",
       "      <td>13</td>\n",
       "      <td>49</td>\n",
       "      <td>0.18</td>\n",
       "      <td>0.62</td>\n",
       "      <td>0.59</td>\n",
       "      <td>0.10</td>\n",
       "      <td>0.02</td>\n",
       "      <td>False</td>\n",
       "    </tr>\n",
       "    <tr>\n",
       "      <th>4114</th>\n",
       "      <td>2020</td>\n",
       "      <td>3</td>\n",
       "      <td>9</td>\n",
       "      <td>19</td>\n",
       "      <td>14</td>\n",
       "      <td>49</td>\n",
       "      <td>0.18</td>\n",
       "      <td>0.62</td>\n",
       "      <td>0.59</td>\n",
       "      <td>0.10</td>\n",
       "      <td>0.02</td>\n",
       "      <td>False</td>\n",
       "    </tr>\n",
       "    <tr>\n",
       "      <th>4115</th>\n",
       "      <td>2020</td>\n",
       "      <td>3</td>\n",
       "      <td>9</td>\n",
       "      <td>19</td>\n",
       "      <td>15</td>\n",
       "      <td>49</td>\n",
       "      <td>0.18</td>\n",
       "      <td>0.62</td>\n",
       "      <td>0.60</td>\n",
       "      <td>0.10</td>\n",
       "      <td>0.02</td>\n",
       "      <td>False</td>\n",
       "    </tr>\n",
       "    <tr>\n",
       "      <th>4116</th>\n",
       "      <td>2020</td>\n",
       "      <td>3</td>\n",
       "      <td>9</td>\n",
       "      <td>19</td>\n",
       "      <td>16</td>\n",
       "      <td>49</td>\n",
       "      <td>0.18</td>\n",
       "      <td>0.63</td>\n",
       "      <td>0.60</td>\n",
       "      <td>0.09</td>\n",
       "      <td>0.02</td>\n",
       "      <td>False</td>\n",
       "    </tr>\n",
       "  </tbody>\n",
       "</table>\n",
       "<p>4117 rows × 12 columns</p>\n",
       "</div>"
      ],
      "text/plain": [
       "      year  month  day  hour  minute  second  moisture0  moisture1  moisture2  \\\n",
       "0     2020      3    6    22      16      11       0.70       0.64       0.73   \n",
       "1     2020      3    6    22      17      11       0.70       0.64       0.71   \n",
       "2     2020      3    6    22      18      11       0.69       0.63       0.70   \n",
       "3     2020      3    6    22      19      11       0.69       0.63       0.70   \n",
       "4     2020      3    6    22      20      12       0.69       0.62       0.69   \n",
       "...    ...    ...  ...   ...     ...     ...        ...        ...        ...   \n",
       "4112  2020      3    9    19      12      49       0.18       0.62       0.60   \n",
       "4113  2020      3    9    19      13      49       0.18       0.62       0.59   \n",
       "4114  2020      3    9    19      14      49       0.18       0.62       0.59   \n",
       "4115  2020      3    9    19      15      49       0.18       0.62       0.60   \n",
       "4116  2020      3    9    19      16      49       0.18       0.63       0.60   \n",
       "\n",
       "      moisture3  moisture4  condition  \n",
       "0          0.40       0.02      False  \n",
       "1          0.39       0.02      False  \n",
       "2          0.39       0.02      False  \n",
       "3          0.39       0.02      False  \n",
       "4          0.39       0.02      False  \n",
       "...         ...        ...        ...  \n",
       "4112       0.10       0.03      False  \n",
       "4113       0.10       0.02      False  \n",
       "4114       0.10       0.02      False  \n",
       "4115       0.10       0.02      False  \n",
       "4116       0.09       0.02      False  \n",
       "\n",
       "[4117 rows x 12 columns]"
      ]
     },
     "execution_count": 26,
     "metadata": {},
     "output_type": "execute_result"
    }
   ],
   "source": [
    "#Reading the Dataset\n",
    "data_frame = pd.read_csv('soil_moisture_dataset.csv')\n",
    "data_frame"
   ]
  },
  {
   "cell_type": "code",
   "execution_count": 27,
   "id": "738c3891",
   "metadata": {},
   "outputs": [],
   "source": [
    "data_frame = data_frame.sample(frac=1)"
   ]
  },
  {
   "cell_type": "code",
   "execution_count": 28,
   "id": "7c9346e3",
   "metadata": {},
   "outputs": [
    {
     "data": {
      "text/html": [
       "<div>\n",
       "<style scoped>\n",
       "    .dataframe tbody tr th:only-of-type {\n",
       "        vertical-align: middle;\n",
       "    }\n",
       "\n",
       "    .dataframe tbody tr th {\n",
       "        vertical-align: top;\n",
       "    }\n",
       "\n",
       "    .dataframe thead th {\n",
       "        text-align: right;\n",
       "    }\n",
       "</style>\n",
       "<table border=\"1\" class=\"dataframe\">\n",
       "  <thead>\n",
       "    <tr style=\"text-align: right;\">\n",
       "      <th></th>\n",
       "      <th>year</th>\n",
       "      <th>month</th>\n",
       "      <th>day</th>\n",
       "      <th>hour</th>\n",
       "      <th>minute</th>\n",
       "      <th>second</th>\n",
       "      <th>moisture0</th>\n",
       "      <th>moisture1</th>\n",
       "      <th>moisture2</th>\n",
       "      <th>moisture3</th>\n",
       "      <th>moisture4</th>\n",
       "    </tr>\n",
       "  </thead>\n",
       "  <tbody>\n",
       "    <tr>\n",
       "      <th>2177</th>\n",
       "      <td>2020</td>\n",
       "      <td>3</td>\n",
       "      <td>8</td>\n",
       "      <td>10</td>\n",
       "      <td>56</td>\n",
       "      <td>12</td>\n",
       "      <td>0.47</td>\n",
       "      <td>0.68</td>\n",
       "      <td>0.69</td>\n",
       "      <td>0.33</td>\n",
       "      <td>0.02</td>\n",
       "    </tr>\n",
       "    <tr>\n",
       "      <th>452</th>\n",
       "      <td>2020</td>\n",
       "      <td>3</td>\n",
       "      <td>7</td>\n",
       "      <td>5</td>\n",
       "      <td>48</td>\n",
       "      <td>34</td>\n",
       "      <td>0.59</td>\n",
       "      <td>0.65</td>\n",
       "      <td>0.74</td>\n",
       "      <td>0.58</td>\n",
       "      <td>0.02</td>\n",
       "    </tr>\n",
       "    <tr>\n",
       "      <th>2244</th>\n",
       "      <td>2020</td>\n",
       "      <td>3</td>\n",
       "      <td>8</td>\n",
       "      <td>12</td>\n",
       "      <td>3</td>\n",
       "      <td>15</td>\n",
       "      <td>0.45</td>\n",
       "      <td>0.67</td>\n",
       "      <td>0.70</td>\n",
       "      <td>0.32</td>\n",
       "      <td>0.02</td>\n",
       "    </tr>\n",
       "    <tr>\n",
       "      <th>2874</th>\n",
       "      <td>2020</td>\n",
       "      <td>3</td>\n",
       "      <td>8</td>\n",
       "      <td>22</td>\n",
       "      <td>33</td>\n",
       "      <td>47</td>\n",
       "      <td>0.37</td>\n",
       "      <td>0.65</td>\n",
       "      <td>0.66</td>\n",
       "      <td>0.12</td>\n",
       "      <td>0.03</td>\n",
       "    </tr>\n",
       "    <tr>\n",
       "      <th>2121</th>\n",
       "      <td>2020</td>\n",
       "      <td>3</td>\n",
       "      <td>8</td>\n",
       "      <td>10</td>\n",
       "      <td>0</td>\n",
       "      <td>9</td>\n",
       "      <td>0.48</td>\n",
       "      <td>0.68</td>\n",
       "      <td>0.70</td>\n",
       "      <td>0.31</td>\n",
       "      <td>0.02</td>\n",
       "    </tr>\n",
       "    <tr>\n",
       "      <th>...</th>\n",
       "      <td>...</td>\n",
       "      <td>...</td>\n",
       "      <td>...</td>\n",
       "      <td>...</td>\n",
       "      <td>...</td>\n",
       "      <td>...</td>\n",
       "      <td>...</td>\n",
       "      <td>...</td>\n",
       "      <td>...</td>\n",
       "      <td>...</td>\n",
       "      <td>...</td>\n",
       "    </tr>\n",
       "    <tr>\n",
       "      <th>3985</th>\n",
       "      <td>2020</td>\n",
       "      <td>3</td>\n",
       "      <td>9</td>\n",
       "      <td>17</td>\n",
       "      <td>5</td>\n",
       "      <td>43</td>\n",
       "      <td>0.19</td>\n",
       "      <td>0.63</td>\n",
       "      <td>0.61</td>\n",
       "      <td>0.10</td>\n",
       "      <td>0.02</td>\n",
       "    </tr>\n",
       "    <tr>\n",
       "      <th>3256</th>\n",
       "      <td>2020</td>\n",
       "      <td>3</td>\n",
       "      <td>9</td>\n",
       "      <td>4</td>\n",
       "      <td>56</td>\n",
       "      <td>7</td>\n",
       "      <td>0.26</td>\n",
       "      <td>0.61</td>\n",
       "      <td>0.64</td>\n",
       "      <td>0.10</td>\n",
       "      <td>0.02</td>\n",
       "    </tr>\n",
       "    <tr>\n",
       "      <th>3342</th>\n",
       "      <td>2020</td>\n",
       "      <td>3</td>\n",
       "      <td>9</td>\n",
       "      <td>6</td>\n",
       "      <td>22</td>\n",
       "      <td>11</td>\n",
       "      <td>0.25</td>\n",
       "      <td>0.61</td>\n",
       "      <td>0.59</td>\n",
       "      <td>0.10</td>\n",
       "      <td>0.02</td>\n",
       "    </tr>\n",
       "    <tr>\n",
       "      <th>3955</th>\n",
       "      <td>2020</td>\n",
       "      <td>3</td>\n",
       "      <td>9</td>\n",
       "      <td>16</td>\n",
       "      <td>35</td>\n",
       "      <td>41</td>\n",
       "      <td>0.19</td>\n",
       "      <td>0.63</td>\n",
       "      <td>0.61</td>\n",
       "      <td>0.09</td>\n",
       "      <td>0.02</td>\n",
       "    </tr>\n",
       "    <tr>\n",
       "      <th>4</th>\n",
       "      <td>2020</td>\n",
       "      <td>3</td>\n",
       "      <td>6</td>\n",
       "      <td>22</td>\n",
       "      <td>20</td>\n",
       "      <td>12</td>\n",
       "      <td>0.69</td>\n",
       "      <td>0.62</td>\n",
       "      <td>0.69</td>\n",
       "      <td>0.39</td>\n",
       "      <td>0.02</td>\n",
       "    </tr>\n",
       "  </tbody>\n",
       "</table>\n",
       "<p>4117 rows × 11 columns</p>\n",
       "</div>"
      ],
      "text/plain": [
       "      year  month  day  hour  minute  second  moisture0  moisture1  moisture2  \\\n",
       "2177  2020      3    8    10      56      12       0.47       0.68       0.69   \n",
       "452   2020      3    7     5      48      34       0.59       0.65       0.74   \n",
       "2244  2020      3    8    12       3      15       0.45       0.67       0.70   \n",
       "2874  2020      3    8    22      33      47       0.37       0.65       0.66   \n",
       "2121  2020      3    8    10       0       9       0.48       0.68       0.70   \n",
       "...    ...    ...  ...   ...     ...     ...        ...        ...        ...   \n",
       "3985  2020      3    9    17       5      43       0.19       0.63       0.61   \n",
       "3256  2020      3    9     4      56       7       0.26       0.61       0.64   \n",
       "3342  2020      3    9     6      22      11       0.25       0.61       0.59   \n",
       "3955  2020      3    9    16      35      41       0.19       0.63       0.61   \n",
       "4     2020      3    6    22      20      12       0.69       0.62       0.69   \n",
       "\n",
       "      moisture3  moisture4  \n",
       "2177       0.33       0.02  \n",
       "452        0.58       0.02  \n",
       "2244       0.32       0.02  \n",
       "2874       0.12       0.03  \n",
       "2121       0.31       0.02  \n",
       "...         ...        ...  \n",
       "3985       0.10       0.02  \n",
       "3256       0.10       0.02  \n",
       "3342       0.10       0.02  \n",
       "3955       0.09       0.02  \n",
       "4          0.39       0.02  \n",
       "\n",
       "[4117 rows x 11 columns]"
      ]
     },
     "execution_count": 28,
     "metadata": {},
     "output_type": "execute_result"
    }
   ],
   "source": [
    "#Dropping a Column, i.e. 'Condition'\n",
    "data_frame.drop(columns=['condition'])"
   ]
  },
  {
   "cell_type": "code",
   "execution_count": 29,
   "id": "fd47f2af",
   "metadata": {},
   "outputs": [
    {
     "data": {
      "text/plain": [
       "<AxesSubplot:>"
      ]
     },
     "execution_count": 29,
     "metadata": {},
     "output_type": "execute_result"
    },
    {
     "data": {
      "image/png": "[encoded data removed]",
      "text/plain": [
       "<Figure size 432x288 with 1 Axes>"
      ]
     },
     "metadata": {
      "needs_background": "light"
     },
     "output_type": "display_data"
    }
   ],
   "source": [
    "#Plotting the AxesSubplot of moisture 0, 1, 2 and 4\n",
    "data_frame[['moisture0', 'moisture1','moisture2', 'moisture4']].plot()"
   ]
  },
  {
   "cell_type": "code",
   "execution_count": 30,
   "id": "29101358",
   "metadata": {},
   "outputs": [],
   "source": [
    "#Assigning the values for Training and Testing Purpose\n",
    "X_train = data_frame[input_columns][:train_size]\n",
    "Y_train = data_frame[prediction][:train_size]\n",
    "X_test = data_frame[input_columns][train_size:]\n",
    "Y_test = data_frame[prediction][train_size:]"
   ]
  },
  {
   "cell_type": "code",
   "execution_count": 31,
   "id": "72ab6c42",
   "metadata": {},
   "outputs": [
    {
     "data": {
      "text/plain": [
       "((4000, 8), (4000, 1))"
      ]
     },
     "execution_count": 31,
     "metadata": {},
     "output_type": "execute_result"
    }
   ],
   "source": [
    "#Displaying the number of rows and columns of the DataFrame\n",
    "X_train.shape, Y_train.shape"
   ]
  },
  {
   "cell_type": "code",
   "execution_count": 32,
   "id": "b9abc4ab",
   "metadata": {},
   "outputs": [
    {
     "name": "stdout",
     "output_type": "stream",
     "text": [
      "Model: \"sequential_1\"\n",
      "_________________________________________________________________\n",
      " Layer (type)                Output Shape              Param #   \n",
      "=================================================================\n",
      " dense_2 (Dense)             (None, 8)                 72        \n",
      "                                                                 \n",
      " dropout_1 (Dropout)         (None, 8)                 0         \n",
      "                                                                 \n",
      " dense_3 (Dense)             (None, 1)                 9         \n",
      "                                                                 \n",
      "=================================================================\n",
      "Total params: 81\n",
      "Trainable params: 81\n",
      "Non-trainable params: 0\n",
      "_________________________________________________________________\n"
     ]
    }
   ],
   "source": [
    "#Using sequential model to display output shape and parameters\n",
    "model = tf.keras.models.Sequential()\n",
    "model.add(tf.keras.layers.Dense(units=len(input_columns), input_shape=(len(input_columns),), activation='relu'))\n",
    "model.add(tf.keras.layers.Dropout(0.1))\n",
    "model.add(tf.keras.layers.Dense(units=len(prediction), input_shape=(len(input_columns),)))\n",
    "model.summary()"
   ]
  },
  {
   "cell_type": "code",
   "execution_count": 33,
   "id": "abbe6c4f",
   "metadata": {},
   "outputs": [],
   "source": [
    "#Compiling the model to finalise the model and making it completely ready to use\n",
    "model.compile(optimizer='adam', loss=sum_error, metrics=['MSE'])"
   ]
  },
  {
   "cell_type": "code",
   "execution_count": 34,
   "id": "493e86d0",
   "metadata": {},
   "outputs": [
    {
     "name": "stdout",
     "output_type": "stream",
     "text": [
      "Epoch 1/10\n",
      "125/125 [==============================] - 1s 2ms/step - loss: 11993.6836 - MSE: 228364.3750\n",
      "Epoch 2/10\n",
      "125/125 [==============================] - 0s 2ms/step - loss: 5066.1812 - MSE: 85411.1406\n",
      "Epoch 3/10\n",
      "125/125 [==============================] - 0s 3ms/step - loss: 4667.1665 - MSE: 74397.0469\n",
      "Epoch 4/10\n",
      "125/125 [==============================] - 0s 2ms/step - loss: 4161.5552 - MSE: 59096.8594\n",
      "Epoch 5/10\n",
      "125/125 [==============================] - 0s 2ms/step - loss: 3728.5906 - MSE: 47990.3594\n",
      "Epoch 6/10\n",
      "125/125 [==============================] - 0s 2ms/step - loss: 3263.8425 - MSE: 36728.7578\n",
      "Epoch 7/10\n",
      "125/125 [==============================] - 0s 2ms/step - loss: 2846.9382 - MSE: 28816.2520\n",
      "Epoch 8/10\n",
      "125/125 [==============================] - 0s 2ms/step - loss: 2397.8726 - MSE: 21322.8770\n",
      "Epoch 9/10\n",
      "125/125 [==============================] - 0s 2ms/step - loss: 2241.5178 - MSE: 18073.6660\n",
      "Epoch 10/10\n",
      "125/125 [==============================] - 0s 3ms/step - loss: 1940.6223 - MSE: 13796.3330\n"
     ]
    },
    {
     "data": {
      "text/plain": [
       "<keras.callbacks.History at 0x1bbb8353e20>"
      ]
     },
     "execution_count": 34,
     "metadata": {},
     "output_type": "execute_result"
    }
   ],
   "source": [
    "#Fitting training data to measure how the model generalizes to similar data\n",
    "model.fit(X_train,Y_train, epochs=10)"
   ]
  },
  {
   "cell_type": "code",
   "execution_count": 35,
   "id": "fc9820aa",
   "metadata": {},
   "outputs": [
    {
     "name": "stdout",
     "output_type": "stream",
     "text": [
      "4/4 [==============================] - 1s 3ms/step - loss: 6.5576 - MSE: 0.0679\n"
     ]
    },
    {
     "data": {
      "text/plain": [
       "[6.557563304901123, 0.06790944188833237]"
      ]
     },
     "execution_count": 35,
     "metadata": {},
     "output_type": "execute_result"
    }
   ],
   "source": [
    "#Evaluating to check whether the model is best fit for the given problem and corresponding data\n",
    "model.evaluate(X_test, Y_test)"
   ]
  },
  {
   "cell_type": "code",
   "execution_count": 36,
   "id": "63720ef2",
   "metadata": {},
   "outputs": [
    {
     "name": "stderr",
     "output_type": "stream",
     "text": [
      "C:\\Users\\Guna\\AppData\\Local\\Temp\\ipykernel_7812\\2561428532.py:2: VisibleDeprecationWarning: Creating an ndarray from ragged nested sequences (which is a list-or-tuple of lists-or-tuples-or ndarrays with different lengths or shapes) is deprecated. If you meant to do this, you must specify 'dtype=object' when creating the ndarray.\n",
      "  weights = np.array(model.get_weights())\n"
     ]
    }
   ],
   "source": [
    "#Setting weights in Keras using numpy array\n",
    "weights = np.array(model.get_weights())"
   ]
  },
  {
   "cell_type": "code",
   "execution_count": 37,
   "id": "e99874d2",
   "metadata": {},
   "outputs": [
    {
     "data": {
      "text/plain": [
       "[array([[-0.44475663,  0.4118056 , -0.54914176,  0.30630043, -0.5190857 ,\n",
       "          0.3159603 , -0.5682067 ,  0.05683583],\n",
       "        [-0.41979307,  0.19676977, -0.13772738, -0.51102936, -0.51831746,\n",
       "          0.34958884,  0.07711905,  0.31066805],\n",
       "        [-0.3688925 , -0.52029806,  0.29960406, -0.49573228, -0.1933428 ,\n",
       "         -0.5220304 ,  0.17347574, -0.37859136],\n",
       "        [-0.22952068, -0.7017748 ,  0.5644246 , -0.14952411, -0.01273948,\n",
       "         -0.1453413 , -0.3294071 , -0.18296611],\n",
       "        [-0.1958006 , -0.48554122, -0.12769696,  0.35902366, -0.37627077,\n",
       "          0.03949838,  0.572617  , -0.41785625],\n",
       "        [ 0.22207302, -0.58862257,  0.37789637, -0.35782912,  0.51306444,\n",
       "         -0.32791975, -0.48510033, -0.51057494],\n",
       "        [ 0.20372802,  0.30065417,  0.499435  , -0.7040867 ,  0.48378474,\n",
       "         -0.64223605, -0.04603046,  0.20831794],\n",
       "        [-0.4466669 , -0.17033657,  0.57821506, -0.04323533, -0.29421955,\n",
       "         -0.12185659,  0.0477559 ,  0.03084094]], dtype=float32),\n",
       " array([ 0.        , -0.08138523,  0.        , -0.30076882,  0.        ,\n",
       "        -0.10337948,  0.        , -0.268502  ], dtype=float32),\n",
       " array([[-0.34182253],\n",
       "        [-0.10094525],\n",
       "        [ 0.24784231],\n",
       "        [ 0.3888683 ],\n",
       "        [-0.35090768],\n",
       "        [-0.32109195],\n",
       "        [-0.21053922],\n",
       "        [ 0.44446343]], dtype=float32),\n",
       " array([-0.10572305], dtype=float32)]"
      ]
     },
     "execution_count": 37,
     "metadata": {},
     "output_type": "execute_result"
    }
   ],
   "source": [
    "#Using get_weights() to return the weights of the model as a list of Numpy arrays\n",
    "model.get_weights()"
   ]
  },
  {
   "cell_type": "code",
   "execution_count": 38,
   "id": "3d0728e5",
   "metadata": {},
   "outputs": [
    {
     "data": {
      "text/plain": [
       "array([0.02])"
      ]
     },
     "execution_count": 38,
     "metadata": {},
     "output_type": "execute_result"
    }
   ],
   "source": [
    "#convert dataframe into numpy array\n",
    "Y_test.to_numpy()[58]"
   ]
  },
  {
   "cell_type": "code",
   "execution_count": 39,
   "id": "d8c1b8a2",
   "metadata": {},
   "outputs": [
    {
     "name": "stdout",
     "output_type": "stream",
     "text": [
      "4/4 [==============================] - 0s 3ms/step\n"
     ]
    }
   ],
   "source": [
    "#Using predict() method for the actual prediction (to generate output predictions for the input samples)\n",
    "prediction = model.predict(X_test.to_numpy())"
   ]
  },
  {
   "cell_type": "code",
   "execution_count": 40,
   "id": "eab68e85",
   "metadata": {},
   "outputs": [
    {
     "name": "stdout",
     "output_type": "stream",
     "text": [
      "0.7606837606837606\n"
     ]
    }
   ],
   "source": [
    "#Displaying the accuracy value of moisture 4\n",
    "count = 0\n",
    "for i in range(len(X_test)):\n",
    "    if np.abs(prediction[i][0] - Y_test.to_numpy()[i]) > 0.1:\n",
    "        count += 1\n",
    "print(count/len(X_test))"
   ]
  },
  {
   "cell_type": "code",
   "execution_count": null,
   "id": "fce6cd48",
   "metadata": {},
   "outputs": [],
   "source": []
  }
 ],
 "metadata": {
  "kernelspec": {
   "display_name": "Python 3 (ipykernel)",
   "language": "python",
   "name": "python3"
  },
  "language_info": {
   "codemirror_mode": {
    "name": "ipython",
    "version": 3
   },
   "file_extension": ".py",
   "mimetype": "text/x-python",
   "name": "python",
   "nbconvert_exporter": "python",
   "pygments_lexer": "ipython3",
   "version": "3.9.12"
  }
 },
 "nbformat": 4,
 "nbformat_minor": 5
}
